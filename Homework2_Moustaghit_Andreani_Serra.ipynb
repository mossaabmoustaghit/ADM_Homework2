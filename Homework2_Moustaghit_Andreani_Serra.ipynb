{
  "nbformat": 4,
  "nbformat_minor": 0,
  "metadata": {
    "colab": {
      "name": "Homework2_Moustaghit_Andreani_Serra.ipynb",
      "provenance": [],
      "collapsed_sections": [
        "I5gVeZeek_yC",
        "rkEyVAklVctn",
        "uuOcWQrO5oO-",
        "n8m3oucN8LS8",
        "Diyq5xZCDhYf",
        "41QLOJe2k0YB",
        "PIi-T_h02277",
        "Xl5gMe2lk_-4",
        "jDfM-Te2AaXX",
        "LiimuHdJIOqs",
        "_-fAYSt5FnlS",
        "mr81qYXcSnFk",
        "SDKVEQBrSh_X",
        "TsAvV9ZJNuMb"
      ],
      "include_colab_link": true
    },
    "kernelspec": {
      "display_name": "Python 3",
      "name": "python3"
    },
    "language_info": {
      "name": "python"
    }
  },
  "cells": [
    {
      "cell_type": "markdown",
      "metadata": {
        "id": "view-in-github",
        "colab_type": "text"
      },
      "source": [
        "<a href=\"https://colab.research.google.com/github/mossaabmoustaghit/ADM_Homework2/blob/main/Homework2_Moustaghit_Andreani_Serra.ipynb\" target=\"_parent\"><img src=\"https://colab.research.google.com/assets/colab-badge.svg\" alt=\"Open In Colab\"/></a>"
      ]
    },
    {
      "cell_type": "markdown",
      "metadata": {
        "id": "2ahMMTyWvxv7"
      },
      "source": [
        "<h1><center>Homework 2</center></h1>\n",
        "<h2><center>Steam Reviews 2021</center></h2>\n",
        "<h6>Filippo Andreani \n",
        "<h6>Mossaab Moustaghit \n",
        "<h6>Eleonora Serra \n",
        "\n"
      ]
    },
    {
      "cell_type": "markdown",
      "metadata": {
        "id": "I5gVeZeek_yC"
      },
      "source": [
        "# Research Questions\n"
      ]
    },
    {
      "cell_type": "code",
      "metadata": {
        "colab": {
          "base_uri": "https://localhost:8080/"
        },
        "id": "8GZrS9qHZXW0",
        "outputId": "a2e7c485-44a4-42f3-c1a9-5199e7ec8d84"
      },
      "source": [
        "!pip install squarify"
      ],
      "execution_count": null,
      "outputs": [
        {
          "output_type": "stream",
          "name": "stdout",
          "text": [
            "Collecting squarify\n",
            "  Downloading squarify-0.4.3-py3-none-any.whl (4.3 kB)\n",
            "Installing collected packages: squarify\n",
            "Successfully installed squarify-0.4.3\n"
          ]
        }
      ]
    },
    {
      "cell_type": "code",
      "metadata": {
        "id": "K3sMkWS3B2Zc"
      },
      "source": [
        "import numpy as np\n",
        "from PIL import Image\n",
        "import matplotlib.pyplot as plt\n",
        "import math\n",
        "import pandas as pd\n",
        "import seaborn as sns\n",
        "import squarify\n",
        "import datetime"
      ],
      "execution_count": null,
      "outputs": []
    },
    {
      "cell_type": "code",
      "metadata": {
        "colab": {
          "base_uri": "https://localhost:8080/",
          "height": 35
        },
        "id": "1a3SC1_TF47w",
        "outputId": "3de83e76-93b3-4d95-ca26-745bd26e56ce"
      },
      "source": [
        "pd.__version__"
      ],
      "execution_count": null,
      "outputs": [
        {
          "output_type": "execute_result",
          "data": {
            "application/vnd.google.colaboratory.intrinsic+json": {
              "type": "string"
            },
            "text/plain": [
              "'1.1.5'"
            ]
          },
          "metadata": {},
          "execution_count": 3
        }
      ]
    },
    {
      "cell_type": "markdown",
      "metadata": {
        "id": "rkEyVAklVctn"
      },
      "source": [
        "## Installing Kaggle to download the dataset (don't execute this )"
      ]
    },
    {
      "cell_type": "code",
      "metadata": {
        "id": "CTLuHNCsxd9S"
      },
      "source": [
        "! pip install -q kaggle"
      ],
      "execution_count": null,
      "outputs": []
    },
    {
      "cell_type": "code",
      "metadata": {
        "colab": {
          "resources": {
            "http://localhost:8080/nbextensions/google.colab/files.js": {
              "data": "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",
              "ok": true,
              "headers": [
                [
                  "content-type",
                  "application/javascript"
                ]
              ],
              "status": 200,
              "status_text": ""
            }
          },
          "base_uri": "https://localhost:8080/",
          "height": 340
        },
        "id": "OfAvIZXIxh-H",
        "outputId": "bb15ac6b-8dc4-4ba3-eb96-258f8ac665ad"
      },
      "source": [
        " from google.colab import files\n",
        " files.upload()"
      ],
      "execution_count": null,
      "outputs": [
        {
          "output_type": "display_data",
          "data": {
            "text/html": [
              "\n",
              "     <input type=\"file\" id=\"files-1fdabfbf-53b7-4ae6-aa88-5c15f6f6154e\" name=\"files[]\" multiple disabled\n",
              "        style=\"border:none\" />\n",
              "     <output id=\"result-1fdabfbf-53b7-4ae6-aa88-5c15f6f6154e\">\n",
              "      Upload widget is only available when the cell has been executed in the\n",
              "      current browser session. Please rerun this cell to enable.\n",
              "      </output>\n",
              "      <script src=\"/nbextensions/google.colab/files.js\"></script> "
            ],
            "text/plain": [
              "<IPython.core.display.HTML object>"
            ]
          },
          "metadata": {}
        },
        {
          "output_type": "error",
          "ename": "KeyboardInterrupt",
          "evalue": "ignored",
          "traceback": [
            "\u001b[0;31m---------------------------------------------------------------------------\u001b[0m",
            "\u001b[0;31mKeyboardInterrupt\u001b[0m                         Traceback (most recent call last)",
            "\u001b[0;32m<ipython-input-4-5c2e8a8d365b>\u001b[0m in \u001b[0;36m<module>\u001b[0;34m()\u001b[0m\n\u001b[1;32m      1\u001b[0m \u001b[0;32mfrom\u001b[0m \u001b[0mgoogle\u001b[0m\u001b[0;34m.\u001b[0m\u001b[0mcolab\u001b[0m \u001b[0;32mimport\u001b[0m \u001b[0mfiles\u001b[0m\u001b[0;34m\u001b[0m\u001b[0;34m\u001b[0m\u001b[0m\n\u001b[0;32m----> 2\u001b[0;31m \u001b[0mfiles\u001b[0m\u001b[0;34m.\u001b[0m\u001b[0mupload\u001b[0m\u001b[0;34m(\u001b[0m\u001b[0;34m)\u001b[0m\u001b[0;34m\u001b[0m\u001b[0;34m\u001b[0m\u001b[0m\n\u001b[0m",
            "\u001b[0;32m/usr/local/lib/python3.7/dist-packages/google/colab/files.py\u001b[0m in \u001b[0;36mupload\u001b[0;34m()\u001b[0m\n\u001b[1;32m     62\u001b[0m   result = _output.eval_js(\n\u001b[1;32m     63\u001b[0m       'google.colab._files._uploadFiles(\"{input_id}\", \"{output_id}\")'.format(\n\u001b[0;32m---> 64\u001b[0;31m           input_id=input_id, output_id=output_id))\n\u001b[0m\u001b[1;32m     65\u001b[0m   \u001b[0mfiles\u001b[0m \u001b[0;34m=\u001b[0m \u001b[0m_collections\u001b[0m\u001b[0;34m.\u001b[0m\u001b[0mdefaultdict\u001b[0m\u001b[0;34m(\u001b[0m\u001b[0m_six\u001b[0m\u001b[0;34m.\u001b[0m\u001b[0mbinary_type\u001b[0m\u001b[0;34m)\u001b[0m\u001b[0;34m\u001b[0m\u001b[0;34m\u001b[0m\u001b[0m\n\u001b[1;32m     66\u001b[0m   \u001b[0;31m# Mapping from original filename to filename as saved locally.\u001b[0m\u001b[0;34m\u001b[0m\u001b[0;34m\u001b[0m\u001b[0;34m\u001b[0m\u001b[0m\n",
            "\u001b[0;32m/usr/local/lib/python3.7/dist-packages/google/colab/output/_js.py\u001b[0m in \u001b[0;36meval_js\u001b[0;34m(script, ignore_result, timeout_sec)\u001b[0m\n\u001b[1;32m     38\u001b[0m   \u001b[0;32mif\u001b[0m \u001b[0mignore_result\u001b[0m\u001b[0;34m:\u001b[0m\u001b[0;34m\u001b[0m\u001b[0;34m\u001b[0m\u001b[0m\n\u001b[1;32m     39\u001b[0m     \u001b[0;32mreturn\u001b[0m\u001b[0;34m\u001b[0m\u001b[0;34m\u001b[0m\u001b[0m\n\u001b[0;32m---> 40\u001b[0;31m   \u001b[0;32mreturn\u001b[0m \u001b[0m_message\u001b[0m\u001b[0;34m.\u001b[0m\u001b[0mread_reply_from_input\u001b[0m\u001b[0;34m(\u001b[0m\u001b[0mrequest_id\u001b[0m\u001b[0;34m,\u001b[0m \u001b[0mtimeout_sec\u001b[0m\u001b[0;34m)\u001b[0m\u001b[0;34m\u001b[0m\u001b[0;34m\u001b[0m\u001b[0m\n\u001b[0m\u001b[1;32m     41\u001b[0m \u001b[0;34m\u001b[0m\u001b[0m\n\u001b[1;32m     42\u001b[0m \u001b[0;34m\u001b[0m\u001b[0m\n",
            "\u001b[0;32m/usr/local/lib/python3.7/dist-packages/google/colab/_message.py\u001b[0m in \u001b[0;36mread_reply_from_input\u001b[0;34m(message_id, timeout_sec)\u001b[0m\n\u001b[1;32m     99\u001b[0m     \u001b[0mreply\u001b[0m \u001b[0;34m=\u001b[0m \u001b[0m_read_next_input_message\u001b[0m\u001b[0;34m(\u001b[0m\u001b[0;34m)\u001b[0m\u001b[0;34m\u001b[0m\u001b[0;34m\u001b[0m\u001b[0m\n\u001b[1;32m    100\u001b[0m     \u001b[0;32mif\u001b[0m \u001b[0mreply\u001b[0m \u001b[0;34m==\u001b[0m \u001b[0m_NOT_READY\u001b[0m \u001b[0;32mor\u001b[0m \u001b[0;32mnot\u001b[0m \u001b[0misinstance\u001b[0m\u001b[0;34m(\u001b[0m\u001b[0mreply\u001b[0m\u001b[0;34m,\u001b[0m \u001b[0mdict\u001b[0m\u001b[0;34m)\u001b[0m\u001b[0;34m:\u001b[0m\u001b[0;34m\u001b[0m\u001b[0;34m\u001b[0m\u001b[0m\n\u001b[0;32m--> 101\u001b[0;31m       \u001b[0mtime\u001b[0m\u001b[0;34m.\u001b[0m\u001b[0msleep\u001b[0m\u001b[0;34m(\u001b[0m\u001b[0;36m0.025\u001b[0m\u001b[0;34m)\u001b[0m\u001b[0;34m\u001b[0m\u001b[0;34m\u001b[0m\u001b[0m\n\u001b[0m\u001b[1;32m    102\u001b[0m       \u001b[0;32mcontinue\u001b[0m\u001b[0;34m\u001b[0m\u001b[0;34m\u001b[0m\u001b[0m\n\u001b[1;32m    103\u001b[0m     if (reply.get('type') == 'colab_reply' and\n",
            "\u001b[0;31mKeyboardInterrupt\u001b[0m: "
          ]
        }
      ]
    },
    {
      "cell_type": "code",
      "metadata": {
        "colab": {
          "base_uri": "https://localhost:8080/"
        },
        "id": "h4NvUW6ixvBx",
        "outputId": "c9d7c820-851d-40e0-9b49-5fb3a04f3b03"
      },
      "source": [
        "\n",
        "\n",
        "! cp kaggle.json ~/.kaggle/"
      ],
      "execution_count": null,
      "outputs": [
        {
          "output_type": "stream",
          "name": "stdout",
          "text": [
            "cp: cannot stat 'kaggle.json': No such file or directory\n"
          ]
        }
      ]
    },
    {
      "cell_type": "code",
      "metadata": {
        "id": "kGKTxwWSyE2Q",
        "colab": {
          "base_uri": "https://localhost:8080/"
        },
        "outputId": "1ec4eaac-67a3-406a-fbfa-6a4f90dbde3e"
      },
      "source": [
        "! chmod 600 ~/.kaggle/kaggle.json"
      ],
      "execution_count": null,
      "outputs": [
        {
          "output_type": "stream",
          "name": "stdout",
          "text": [
            "chmod: cannot access '/root/.kaggle/kaggle.json': No such file or directory\n"
          ]
        }
      ]
    },
    {
      "cell_type": "code",
      "metadata": {
        "id": "Sd7v_JYryQ_W",
        "colab": {
          "base_uri": "https://localhost:8080/"
        },
        "outputId": "0318f69b-e660-4be4-c843-aec4db3a16aa"
      },
      "source": [
        "! kaggle datasets list"
      ],
      "execution_count": null,
      "outputs": [
        {
          "output_type": "stream",
          "name": "stdout",
          "text": [
            "Traceback (most recent call last):\n",
            "  File \"/usr/local/bin/kaggle\", line 5, in <module>\n",
            "    from kaggle.cli import main\n",
            "  File \"/usr/local/lib/python2.7/dist-packages/kaggle/__init__.py\", line 23, in <module>\n",
            "    api.authenticate()\n",
            "  File \"/usr/local/lib/python2.7/dist-packages/kaggle/api/kaggle_api_extended.py\", line 146, in authenticate\n",
            "    self.config_file, self.config_dir))\n",
            "IOError: Could not find kaggle.json. Make sure it's located in /root/.kaggle. Or use the environment method.\n"
          ]
        }
      ]
    },
    {
      "cell_type": "code",
      "metadata": {
        "colab": {
          "base_uri": "https://localhost:8080/"
        },
        "id": "AWJS6GBcyUfV",
        "outputId": "51add717-76bf-4ba4-bc2e-bddc3d97bfe6"
      },
      "source": [
        "!kaggle datasets download -d najzeko/steam-reviews-2021"
      ],
      "execution_count": null,
      "outputs": [
        {
          "output_type": "stream",
          "name": "stdout",
          "text": [
            "Traceback (most recent call last):\n",
            "  File \"/usr/local/bin/kaggle\", line 5, in <module>\n",
            "    from kaggle.cli import main\n",
            "  File \"/usr/local/lib/python2.7/dist-packages/kaggle/__init__.py\", line 23, in <module>\n",
            "    api.authenticate()\n",
            "  File \"/usr/local/lib/python2.7/dist-packages/kaggle/api/kaggle_api_extended.py\", line 146, in authenticate\n",
            "    self.config_file, self.config_dir))\n",
            "IOError: Could not find kaggle.json. Make sure it's located in /root/.kaggle. Or use the environment method.\n"
          ]
        }
      ]
    },
    {
      "cell_type": "code",
      "metadata": {
        "colab": {
          "base_uri": "https://localhost:8080/"
        },
        "id": "bfPgjZMu04dc",
        "outputId": "d2bc0e83-30b9-4102-eef5-6e14772c60ef"
      },
      "source": [
        "! unzip steam-reviews-2021.zip -d steam_reviews/"
      ],
      "execution_count": null,
      "outputs": [
        {
          "output_type": "stream",
          "name": "stdout",
          "text": [
            "unzip:  cannot find or open steam-reviews-2021.zip, steam-reviews-2021.zip.zip or steam-reviews-2021.zip.ZIP.\n"
          ]
        }
      ]
    },
    {
      "cell_type": "markdown",
      "metadata": {
        "id": "nvKegJZrVksM"
      },
      "source": [
        "## Mounting the drive"
      ]
    },
    {
      "cell_type": "code",
      "metadata": {
        "id": "Z7JoQMeCwOFc",
        "colab": {
          "base_uri": "https://localhost:8080/"
        },
        "outputId": "eb380bc3-1a0e-471d-91e7-2ab1bac9ba49"
      },
      "source": [
        "from google.colab import drive\n",
        "drive.mount('/content/drive/',force_remount=True)"
      ],
      "execution_count": null,
      "outputs": [
        {
          "output_type": "stream",
          "name": "stdout",
          "text": [
            "Mounted at /content/drive/\n"
          ]
        }
      ]
    },
    {
      "cell_type": "markdown",
      "metadata": {
        "id": "YYNP59IYW4Cg"
      },
      "source": [
        "Dont run the cell below\n"
      ]
    },
    {
      "cell_type": "code",
      "metadata": {
        "colab": {
          "base_uri": "https://localhost:8080/"
        },
        "id": "FBqVNwcV1vIX",
        "outputId": "4cde6c8a-acad-49ea-f541-65bb487675ea"
      },
      "source": [
        "!cp -r /content/steam_reviews/steam_reviews.csv /content/drive/MyDrive/ADMHW2/steam_reviews.csv"
      ],
      "execution_count": null,
      "outputs": [
        {
          "output_type": "stream",
          "name": "stdout",
          "text": [
            "cp: cannot stat '/content/steam_reviews/steam_reviews.csv': No such file or directory\n"
          ]
        }
      ]
    },
    {
      "cell_type": "markdown",
      "metadata": {
        "id": "jbed2WCiW8S_"
      },
      "source": [
        "## Reading Dataset"
      ]
    },
    {
      "cell_type": "markdown",
      "metadata": {
        "id": "c-vLDPdkEO58"
      },
      "source": [
        "We chose to work only on 1000000 rows because the RAM gets saturated after that."
      ]
    },
    {
      "cell_type": "code",
      "metadata": {
        "id": "BJy6tyNu2B-k"
      },
      "source": [
        "data= pd.read_csv(\"/content/drive/MyDrive/AMD/Dataset/Homework2/steam_reviews/steam_reviews.csv\",nrows=1000000)"
      ],
      "execution_count": null,
      "outputs": []
    },
    {
      "cell_type": "code",
      "metadata": {
        "colab": {
          "base_uri": "https://localhost:8080/"
        },
        "id": "xct9MTvKCN2E",
        "outputId": "8060812c-247d-4fba-8e87-02e7d07ba4c8"
      },
      "source": [
        "data.shape"
      ],
      "execution_count": null,
      "outputs": [
        {
          "output_type": "execute_result",
          "data": {
            "text/plain": [
              "(1000000, 23)"
            ]
          },
          "metadata": {},
          "execution_count": 6
        }
      ]
    },
    {
      "cell_type": "code",
      "metadata": {
        "colab": {
          "base_uri": "https://localhost:8080/",
          "height": 314
        },
        "id": "9UtXNDzXLOvl",
        "outputId": "96729948-8056-4769-adef-bdaab185190d"
      },
      "source": [
        "data.describe()"
      ],
      "execution_count": null,
      "outputs": [
        {
          "output_type": "execute_result",
          "data": {
            "text/html": [
              "<div>\n",
              "<style scoped>\n",
              "    .dataframe tbody tr th:only-of-type {\n",
              "        vertical-align: middle;\n",
              "    }\n",
              "\n",
              "    .dataframe tbody tr th {\n",
              "        vertical-align: top;\n",
              "    }\n",
              "\n",
              "    .dataframe thead th {\n",
              "        text-align: right;\n",
              "    }\n",
              "</style>\n",
              "<table border=\"1\" class=\"dataframe\">\n",
              "  <thead>\n",
              "    <tr style=\"text-align: right;\">\n",
              "      <th></th>\n",
              "      <th>Unnamed: 0</th>\n",
              "      <th>app_id</th>\n",
              "      <th>review_id</th>\n",
              "      <th>timestamp_created</th>\n",
              "      <th>timestamp_updated</th>\n",
              "      <th>votes_helpful</th>\n",
              "      <th>votes_funny</th>\n",
              "      <th>weighted_vote_score</th>\n",
              "      <th>comment_count</th>\n",
              "      <th>author.steamid</th>\n",
              "      <th>author.num_games_owned</th>\n",
              "      <th>author.num_reviews</th>\n",
              "      <th>author.playtime_forever</th>\n",
              "      <th>author.playtime_last_two_weeks</th>\n",
              "      <th>author.playtime_at_review</th>\n",
              "      <th>author.last_played</th>\n",
              "    </tr>\n",
              "  </thead>\n",
              "  <tbody>\n",
              "    <tr>\n",
              "      <th>count</th>\n",
              "      <td>1000000.000000</td>\n",
              "      <td>1000000.000000</td>\n",
              "      <td>1.000000e+06</td>\n",
              "      <td>1.000000e+06</td>\n",
              "      <td>1.000000e+06</td>\n",
              "      <td>1000000.000000</td>\n",
              "      <td>1.000000e+06</td>\n",
              "      <td>1000000.000000</td>\n",
              "      <td>1000000.000000</td>\n",
              "      <td>1.000000e+06</td>\n",
              "      <td>1000000.000000</td>\n",
              "      <td>1000000.000000</td>\n",
              "      <td>1.000000e+06</td>\n",
              "      <td>1000000.000000</td>\n",
              "      <td>9.976860e+05</td>\n",
              "      <td>1.000000e+06</td>\n",
              "    </tr>\n",
              "    <tr>\n",
              "      <th>mean</th>\n",
              "      <td>500000.028543</td>\n",
              "      <td>137653.276540</td>\n",
              "      <td>5.024635e+07</td>\n",
              "      <td>1.536537e+09</td>\n",
              "      <td>1.540020e+09</td>\n",
              "      <td>1.354286</td>\n",
              "      <td>1.374396e+05</td>\n",
              "      <td>0.140014</td>\n",
              "      <td>0.110916</td>\n",
              "      <td>7.656120e+16</td>\n",
              "      <td>128.462811</td>\n",
              "      <td>11.763607</td>\n",
              "      <td>1.019143e+04</td>\n",
              "      <td>83.725445</td>\n",
              "      <td>6.910500e+03</td>\n",
              "      <td>1.568400e+09</td>\n",
              "    </tr>\n",
              "    <tr>\n",
              "      <th>std</th>\n",
              "      <td>288675.710534</td>\n",
              "      <td>145203.141254</td>\n",
              "      <td>2.332212e+07</td>\n",
              "      <td>6.952888e+07</td>\n",
              "      <td>6.781931e+07</td>\n",
              "      <td>23.474932</td>\n",
              "      <td>2.429563e+07</td>\n",
              "      <td>0.232354</td>\n",
              "      <td>1.493333</td>\n",
              "      <td>3.292959e+08</td>\n",
              "      <td>267.229146</td>\n",
              "      <td>38.393893</td>\n",
              "      <td>3.265229e+04</td>\n",
              "      <td>548.635872</td>\n",
              "      <td>2.486934e+04</td>\n",
              "      <td>8.532309e+07</td>\n",
              "    </tr>\n",
              "    <tr>\n",
              "      <th>min</th>\n",
              "      <td>0.000000</td>\n",
              "      <td>70.000000</td>\n",
              "      <td>4.300000e+01</td>\n",
              "      <td>1.290320e+09</td>\n",
              "      <td>1.290320e+09</td>\n",
              "      <td>0.000000</td>\n",
              "      <td>0.000000e+00</td>\n",
              "      <td>0.000000</td>\n",
              "      <td>0.000000</td>\n",
              "      <td>7.656120e+16</td>\n",
              "      <td>0.000000</td>\n",
              "      <td>1.000000</td>\n",
              "      <td>0.000000e+00</td>\n",
              "      <td>0.000000</td>\n",
              "      <td>1.000000e+00</td>\n",
              "      <td>0.000000e+00</td>\n",
              "    </tr>\n",
              "    <tr>\n",
              "      <th>25%</th>\n",
              "      <td>249999.750000</td>\n",
              "      <td>620.000000</td>\n",
              "      <td>3.044572e+07</td>\n",
              "      <td>1.489235e+09</td>\n",
              "      <td>1.498630e+09</td>\n",
              "      <td>0.000000</td>\n",
              "      <td>0.000000e+00</td>\n",
              "      <td>0.000000</td>\n",
              "      <td>0.000000</td>\n",
              "      <td>7.656120e+16</td>\n",
              "      <td>26.000000</td>\n",
              "      <td>2.000000</td>\n",
              "      <td>9.640000e+02</td>\n",
              "      <td>0.000000</td>\n",
              "      <td>5.130000e+02</td>\n",
              "      <td>1.560865e+09</td>\n",
              "    </tr>\n",
              "    <tr>\n",
              "      <th>50%</th>\n",
              "      <td>500000.500000</td>\n",
              "      <td>4000.000000</td>\n",
              "      <td>5.347887e+07</td>\n",
              "      <td>1.562225e+09</td>\n",
              "      <td>1.568311e+09</td>\n",
              "      <td>0.000000</td>\n",
              "      <td>0.000000e+00</td>\n",
              "      <td>0.000000</td>\n",
              "      <td>0.000000</td>\n",
              "      <td>7.656120e+16</td>\n",
              "      <td>63.000000</td>\n",
              "      <td>5.000000</td>\n",
              "      <td>3.465000e+03</td>\n",
              "      <td>0.000000</td>\n",
              "      <td>1.640000e+03</td>\n",
              "      <td>1.592154e+09</td>\n",
              "    </tr>\n",
              "    <tr>\n",
              "      <th>75%</th>\n",
              "      <td>750000.250000</td>\n",
              "      <td>292030.000000</td>\n",
              "      <td>7.114404e+07</td>\n",
              "      <td>1.592769e+09</td>\n",
              "      <td>1.593889e+09</td>\n",
              "      <td>1.000000</td>\n",
              "      <td>0.000000e+00</td>\n",
              "      <td>0.467978</td>\n",
              "      <td>0.000000</td>\n",
              "      <td>7.656120e+16</td>\n",
              "      <td>140.000000</td>\n",
              "      <td>11.000000</td>\n",
              "      <td>9.257000e+03</td>\n",
              "      <td>0.000000</td>\n",
              "      <td>5.634000e+03</td>\n",
              "      <td>1.607051e+09</td>\n",
              "    </tr>\n",
              "    <tr>\n",
              "      <th>max</th>\n",
              "      <td>1000000.000000</td>\n",
              "      <td>292030.000000</td>\n",
              "      <td>8.521823e+07</td>\n",
              "      <td>1.611425e+09</td>\n",
              "      <td>1.611425e+09</td>\n",
              "      <td>7352.000000</td>\n",
              "      <td>4.294967e+09</td>\n",
              "      <td>0.990385</td>\n",
              "      <td>420.000000</td>\n",
              "      <td>7.656120e+16</td>\n",
              "      <td>20969.000000</td>\n",
              "      <td>5236.000000</td>\n",
              "      <td>3.336152e+06</td>\n",
              "      <td>20924.000000</td>\n",
              "      <td>3.062784e+06</td>\n",
              "      <td>1.611429e+09</td>\n",
              "    </tr>\n",
              "  </tbody>\n",
              "</table>\n",
              "</div>"
            ],
            "text/plain": [
              "           Unnamed: 0  ...  author.last_played\n",
              "count  1000000.000000  ...        1.000000e+06\n",
              "mean    500000.028543  ...        1.568400e+09\n",
              "std     288675.710534  ...        8.532309e+07\n",
              "min          0.000000  ...        0.000000e+00\n",
              "25%     249999.750000  ...        1.560865e+09\n",
              "50%     500000.500000  ...        1.592154e+09\n",
              "75%     750000.250000  ...        1.607051e+09\n",
              "max    1000000.000000  ...        1.611429e+09\n",
              "\n",
              "[8 rows x 16 columns]"
            ]
          },
          "metadata": {},
          "execution_count": 7
        }
      ]
    },
    {
      "cell_type": "markdown",
      "metadata": {
        "id": "LT8vqIefJww8"
      },
      "source": [
        "## Data Wrangling"
      ]
    },
    {
      "cell_type": "code",
      "metadata": {
        "colab": {
          "base_uri": "https://localhost:8080/",
          "height": 672
        },
        "id": "FRS-lQ9QEgnm",
        "outputId": "0be0a1f6-713f-4948-859c-d827364995d7"
      },
      "source": [
        "data.head()"
      ],
      "execution_count": null,
      "outputs": [
        {
          "output_type": "execute_result",
          "data": {
            "text/html": [
              "<div>\n",
              "<style scoped>\n",
              "    .dataframe tbody tr th:only-of-type {\n",
              "        vertical-align: middle;\n",
              "    }\n",
              "\n",
              "    .dataframe tbody tr th {\n",
              "        vertical-align: top;\n",
              "    }\n",
              "\n",
              "    .dataframe thead th {\n",
              "        text-align: right;\n",
              "    }\n",
              "</style>\n",
              "<table border=\"1\" class=\"dataframe\">\n",
              "  <thead>\n",
              "    <tr style=\"text-align: right;\">\n",
              "      <th></th>\n",
              "      <th>Unnamed: 0</th>\n",
              "      <th>app_id</th>\n",
              "      <th>app_name</th>\n",
              "      <th>review_id</th>\n",
              "      <th>language</th>\n",
              "      <th>review</th>\n",
              "      <th>timestamp_created</th>\n",
              "      <th>timestamp_updated</th>\n",
              "      <th>recommended</th>\n",
              "      <th>votes_helpful</th>\n",
              "      <th>votes_funny</th>\n",
              "      <th>weighted_vote_score</th>\n",
              "      <th>comment_count</th>\n",
              "      <th>steam_purchase</th>\n",
              "      <th>received_for_free</th>\n",
              "      <th>written_during_early_access</th>\n",
              "      <th>author.steamid</th>\n",
              "      <th>author.num_games_owned</th>\n",
              "      <th>author.num_reviews</th>\n",
              "      <th>author.playtime_forever</th>\n",
              "      <th>author.playtime_last_two_weeks</th>\n",
              "      <th>author.playtime_at_review</th>\n",
              "      <th>author.last_played</th>\n",
              "    </tr>\n",
              "  </thead>\n",
              "  <tbody>\n",
              "    <tr>\n",
              "      <th>0</th>\n",
              "      <td>0</td>\n",
              "      <td>292030</td>\n",
              "      <td>The Witcher 3: Wild Hunt</td>\n",
              "      <td>85185598</td>\n",
              "      <td>schinese</td>\n",
              "      <td>不玩此生遗憾，RPG游戏里的天花板，太吸引人了</td>\n",
              "      <td>1611381629</td>\n",
              "      <td>1611381629</td>\n",
              "      <td>True</td>\n",
              "      <td>0</td>\n",
              "      <td>0</td>\n",
              "      <td>0.0</td>\n",
              "      <td>0</td>\n",
              "      <td>True</td>\n",
              "      <td>False</td>\n",
              "      <td>False</td>\n",
              "      <td>76561199095369542</td>\n",
              "      <td>6</td>\n",
              "      <td>2</td>\n",
              "      <td>1909.0</td>\n",
              "      <td>1448.0</td>\n",
              "      <td>1909.0</td>\n",
              "      <td>1.611343e+09</td>\n",
              "    </tr>\n",
              "    <tr>\n",
              "      <th>1</th>\n",
              "      <td>1</td>\n",
              "      <td>292030</td>\n",
              "      <td>The Witcher 3: Wild Hunt</td>\n",
              "      <td>85185250</td>\n",
              "      <td>schinese</td>\n",
              "      <td>拔DIAO无情打桩机--杰洛特!!!</td>\n",
              "      <td>1611381030</td>\n",
              "      <td>1611381030</td>\n",
              "      <td>True</td>\n",
              "      <td>0</td>\n",
              "      <td>0</td>\n",
              "      <td>0.0</td>\n",
              "      <td>0</td>\n",
              "      <td>True</td>\n",
              "      <td>False</td>\n",
              "      <td>False</td>\n",
              "      <td>76561198949504115</td>\n",
              "      <td>30</td>\n",
              "      <td>10</td>\n",
              "      <td>2764.0</td>\n",
              "      <td>2743.0</td>\n",
              "      <td>2674.0</td>\n",
              "      <td>1.611386e+09</td>\n",
              "    </tr>\n",
              "    <tr>\n",
              "      <th>2</th>\n",
              "      <td>2</td>\n",
              "      <td>292030</td>\n",
              "      <td>The Witcher 3: Wild Hunt</td>\n",
              "      <td>85185111</td>\n",
              "      <td>schinese</td>\n",
              "      <td>巫师3NB</td>\n",
              "      <td>1611380800</td>\n",
              "      <td>1611380800</td>\n",
              "      <td>True</td>\n",
              "      <td>0</td>\n",
              "      <td>0</td>\n",
              "      <td>0.0</td>\n",
              "      <td>0</td>\n",
              "      <td>True</td>\n",
              "      <td>False</td>\n",
              "      <td>False</td>\n",
              "      <td>76561199090098988</td>\n",
              "      <td>5</td>\n",
              "      <td>1</td>\n",
              "      <td>1061.0</td>\n",
              "      <td>1061.0</td>\n",
              "      <td>1060.0</td>\n",
              "      <td>1.611384e+09</td>\n",
              "    </tr>\n",
              "    <tr>\n",
              "      <th>3</th>\n",
              "      <td>3</td>\n",
              "      <td>292030</td>\n",
              "      <td>The Witcher 3: Wild Hunt</td>\n",
              "      <td>85184605</td>\n",
              "      <td>english</td>\n",
              "      <td>One of the best RPG's of all time, worthy of a...</td>\n",
              "      <td>1611379970</td>\n",
              "      <td>1611379970</td>\n",
              "      <td>True</td>\n",
              "      <td>0</td>\n",
              "      <td>0</td>\n",
              "      <td>0.0</td>\n",
              "      <td>0</td>\n",
              "      <td>True</td>\n",
              "      <td>False</td>\n",
              "      <td>False</td>\n",
              "      <td>76561199054755373</td>\n",
              "      <td>5</td>\n",
              "      <td>3</td>\n",
              "      <td>5587.0</td>\n",
              "      <td>3200.0</td>\n",
              "      <td>5524.0</td>\n",
              "      <td>1.611384e+09</td>\n",
              "    </tr>\n",
              "    <tr>\n",
              "      <th>4</th>\n",
              "      <td>4</td>\n",
              "      <td>292030</td>\n",
              "      <td>The Witcher 3: Wild Hunt</td>\n",
              "      <td>85184287</td>\n",
              "      <td>schinese</td>\n",
              "      <td>大作</td>\n",
              "      <td>1611379427</td>\n",
              "      <td>1611379427</td>\n",
              "      <td>True</td>\n",
              "      <td>0</td>\n",
              "      <td>0</td>\n",
              "      <td>0.0</td>\n",
              "      <td>0</td>\n",
              "      <td>True</td>\n",
              "      <td>False</td>\n",
              "      <td>False</td>\n",
              "      <td>76561199028326951</td>\n",
              "      <td>7</td>\n",
              "      <td>4</td>\n",
              "      <td>217.0</td>\n",
              "      <td>42.0</td>\n",
              "      <td>217.0</td>\n",
              "      <td>1.610788e+09</td>\n",
              "    </tr>\n",
              "  </tbody>\n",
              "</table>\n",
              "</div>"
            ],
            "text/plain": [
              "   Unnamed: 0  app_id  ... author.playtime_at_review  author.last_played\n",
              "0           0  292030  ...                    1909.0        1.611343e+09\n",
              "1           1  292030  ...                    2674.0        1.611386e+09\n",
              "2           2  292030  ...                    1060.0        1.611384e+09\n",
              "3           3  292030  ...                    5524.0        1.611384e+09\n",
              "4           4  292030  ...                     217.0        1.610788e+09\n",
              "\n",
              "[5 rows x 23 columns]"
            ]
          },
          "metadata": {},
          "execution_count": 9
        }
      ]
    },
    {
      "cell_type": "code",
      "metadata": {
        "colab": {
          "base_uri": "https://localhost:8080/"
        },
        "id": "phac1eKvFozV",
        "outputId": "7b87e02b-1f47-4c15-c2a7-827ff2b1f532"
      },
      "source": [
        "data.info()"
      ],
      "execution_count": null,
      "outputs": [
        {
          "output_type": "stream",
          "name": "stdout",
          "text": [
            "<class 'pandas.core.frame.DataFrame'>\n",
            "RangeIndex: 1000000 entries, 0 to 999999\n",
            "Data columns (total 23 columns):\n",
            " #   Column                          Non-Null Count    Dtype  \n",
            "---  ------                          --------------    -----  \n",
            " 0   Unnamed: 0                      1000000 non-null  int64  \n",
            " 1   app_id                          1000000 non-null  int64  \n",
            " 2   app_name                        1000000 non-null  object \n",
            " 3   review_id                       1000000 non-null  int64  \n",
            " 4   language                        1000000 non-null  object \n",
            " 5   review                          998242 non-null   object \n",
            " 6   timestamp_created               1000000 non-null  int64  \n",
            " 7   timestamp_updated               1000000 non-null  int64  \n",
            " 8   recommended                     1000000 non-null  bool   \n",
            " 9   votes_helpful                   1000000 non-null  int64  \n",
            " 10  votes_funny                     1000000 non-null  int64  \n",
            " 11  weighted_vote_score             1000000 non-null  float64\n",
            " 12  comment_count                   1000000 non-null  int64  \n",
            " 13  steam_purchase                  1000000 non-null  bool   \n",
            " 14  received_for_free               1000000 non-null  bool   \n",
            " 15  written_during_early_access     1000000 non-null  bool   \n",
            " 16  author.steamid                  1000000 non-null  int64  \n",
            " 17  author.num_games_owned          1000000 non-null  int64  \n",
            " 18  author.num_reviews              1000000 non-null  int64  \n",
            " 19  author.playtime_forever         1000000 non-null  float64\n",
            " 20  author.playtime_last_two_weeks  1000000 non-null  float64\n",
            " 21  author.playtime_at_review       997686 non-null   float64\n",
            " 22  author.last_played              1000000 non-null  float64\n",
            "dtypes: bool(4), float64(5), int64(11), object(3)\n",
            "memory usage: 148.8+ MB\n"
          ]
        }
      ]
    },
    {
      "cell_type": "markdown",
      "metadata": {
        "id": "aQiFxcs4HXlF"
      },
      "source": [
        "As we can see in the first 5 rows the date format is not well adapted and also the number of reviews doesn't match the number of rows we are working on (1000000) which means some rows have empty reviews. And for these reasons we should clean the data. "
      ]
    },
    {
      "cell_type": "code",
      "metadata": {
        "id": "odqpS1PyHXRz"
      },
      "source": [
        "# First let's change the format of the date \n",
        "def parsedate(time_as_a_unix_timestamp):\n",
        "    return pd.to_datetime(time_as_a_unix_timestamp, unit='s')\n",
        "dataset = pd.read_csv(\"/content/drive/MyDrive/AMD/Dataset/Homework2/steam_reviews/steam_reviews.csv\",nrows=1000000,parse_dates=['timestamp_created','timestamp_updated', 'author.last_played'],date_parser=parsedate)"
      ],
      "execution_count": null,
      "outputs": []
    },
    {
      "cell_type": "code",
      "metadata": {
        "colab": {
          "base_uri": "https://localhost:8080/",
          "height": 672
        },
        "id": "LRMYpcL-HKf6",
        "outputId": "4a4b2384-3d32-4ea6-fd42-73dccbc9d133"
      },
      "source": [
        "dataset.head()"
      ],
      "execution_count": null,
      "outputs": [
        {
          "output_type": "execute_result",
          "data": {
            "text/html": [
              "<div>\n",
              "<style scoped>\n",
              "    .dataframe tbody tr th:only-of-type {\n",
              "        vertical-align: middle;\n",
              "    }\n",
              "\n",
              "    .dataframe tbody tr th {\n",
              "        vertical-align: top;\n",
              "    }\n",
              "\n",
              "    .dataframe thead th {\n",
              "        text-align: right;\n",
              "    }\n",
              "</style>\n",
              "<table border=\"1\" class=\"dataframe\">\n",
              "  <thead>\n",
              "    <tr style=\"text-align: right;\">\n",
              "      <th></th>\n",
              "      <th>Unnamed: 0</th>\n",
              "      <th>app_id</th>\n",
              "      <th>app_name</th>\n",
              "      <th>review_id</th>\n",
              "      <th>language</th>\n",
              "      <th>review</th>\n",
              "      <th>timestamp_created</th>\n",
              "      <th>timestamp_updated</th>\n",
              "      <th>recommended</th>\n",
              "      <th>votes_helpful</th>\n",
              "      <th>votes_funny</th>\n",
              "      <th>weighted_vote_score</th>\n",
              "      <th>comment_count</th>\n",
              "      <th>steam_purchase</th>\n",
              "      <th>received_for_free</th>\n",
              "      <th>written_during_early_access</th>\n",
              "      <th>author.steamid</th>\n",
              "      <th>author.num_games_owned</th>\n",
              "      <th>author.num_reviews</th>\n",
              "      <th>author.playtime_forever</th>\n",
              "      <th>author.playtime_last_two_weeks</th>\n",
              "      <th>author.playtime_at_review</th>\n",
              "      <th>author.last_played</th>\n",
              "    </tr>\n",
              "  </thead>\n",
              "  <tbody>\n",
              "    <tr>\n",
              "      <th>0</th>\n",
              "      <td>0</td>\n",
              "      <td>292030</td>\n",
              "      <td>The Witcher 3: Wild Hunt</td>\n",
              "      <td>85185598</td>\n",
              "      <td>schinese</td>\n",
              "      <td>不玩此生遗憾，RPG游戏里的天花板，太吸引人了</td>\n",
              "      <td>2021-01-23 06:00:29</td>\n",
              "      <td>2021-01-23 06:00:29</td>\n",
              "      <td>True</td>\n",
              "      <td>0</td>\n",
              "      <td>0</td>\n",
              "      <td>0.0</td>\n",
              "      <td>0</td>\n",
              "      <td>True</td>\n",
              "      <td>False</td>\n",
              "      <td>False</td>\n",
              "      <td>76561199095369542</td>\n",
              "      <td>6</td>\n",
              "      <td>2</td>\n",
              "      <td>1909.0</td>\n",
              "      <td>1448.0</td>\n",
              "      <td>1909.0</td>\n",
              "      <td>2021-01-22 19:23:03</td>\n",
              "    </tr>\n",
              "    <tr>\n",
              "      <th>1</th>\n",
              "      <td>1</td>\n",
              "      <td>292030</td>\n",
              "      <td>The Witcher 3: Wild Hunt</td>\n",
              "      <td>85185250</td>\n",
              "      <td>schinese</td>\n",
              "      <td>拔DIAO无情打桩机--杰洛特!!!</td>\n",
              "      <td>2021-01-23 05:50:30</td>\n",
              "      <td>2021-01-23 05:50:30</td>\n",
              "      <td>True</td>\n",
              "      <td>0</td>\n",
              "      <td>0</td>\n",
              "      <td>0.0</td>\n",
              "      <td>0</td>\n",
              "      <td>True</td>\n",
              "      <td>False</td>\n",
              "      <td>False</td>\n",
              "      <td>76561198949504115</td>\n",
              "      <td>30</td>\n",
              "      <td>10</td>\n",
              "      <td>2764.0</td>\n",
              "      <td>2743.0</td>\n",
              "      <td>2674.0</td>\n",
              "      <td>2021-01-23 07:18:27</td>\n",
              "    </tr>\n",
              "    <tr>\n",
              "      <th>2</th>\n",
              "      <td>2</td>\n",
              "      <td>292030</td>\n",
              "      <td>The Witcher 3: Wild Hunt</td>\n",
              "      <td>85185111</td>\n",
              "      <td>schinese</td>\n",
              "      <td>巫师3NB</td>\n",
              "      <td>2021-01-23 05:46:40</td>\n",
              "      <td>2021-01-23 05:46:40</td>\n",
              "      <td>True</td>\n",
              "      <td>0</td>\n",
              "      <td>0</td>\n",
              "      <td>0.0</td>\n",
              "      <td>0</td>\n",
              "      <td>True</td>\n",
              "      <td>False</td>\n",
              "      <td>False</td>\n",
              "      <td>76561199090098988</td>\n",
              "      <td>5</td>\n",
              "      <td>1</td>\n",
              "      <td>1061.0</td>\n",
              "      <td>1061.0</td>\n",
              "      <td>1060.0</td>\n",
              "      <td>2021-01-23 06:36:17</td>\n",
              "    </tr>\n",
              "    <tr>\n",
              "      <th>3</th>\n",
              "      <td>3</td>\n",
              "      <td>292030</td>\n",
              "      <td>The Witcher 3: Wild Hunt</td>\n",
              "      <td>85184605</td>\n",
              "      <td>english</td>\n",
              "      <td>One of the best RPG's of all time, worthy of a...</td>\n",
              "      <td>2021-01-23 05:32:50</td>\n",
              "      <td>2021-01-23 05:32:50</td>\n",
              "      <td>True</td>\n",
              "      <td>0</td>\n",
              "      <td>0</td>\n",
              "      <td>0.0</td>\n",
              "      <td>0</td>\n",
              "      <td>True</td>\n",
              "      <td>False</td>\n",
              "      <td>False</td>\n",
              "      <td>76561199054755373</td>\n",
              "      <td>5</td>\n",
              "      <td>3</td>\n",
              "      <td>5587.0</td>\n",
              "      <td>3200.0</td>\n",
              "      <td>5524.0</td>\n",
              "      <td>2021-01-23 06:35:44</td>\n",
              "    </tr>\n",
              "    <tr>\n",
              "      <th>4</th>\n",
              "      <td>4</td>\n",
              "      <td>292030</td>\n",
              "      <td>The Witcher 3: Wild Hunt</td>\n",
              "      <td>85184287</td>\n",
              "      <td>schinese</td>\n",
              "      <td>大作</td>\n",
              "      <td>2021-01-23 05:23:47</td>\n",
              "      <td>2021-01-23 05:23:47</td>\n",
              "      <td>True</td>\n",
              "      <td>0</td>\n",
              "      <td>0</td>\n",
              "      <td>0.0</td>\n",
              "      <td>0</td>\n",
              "      <td>True</td>\n",
              "      <td>False</td>\n",
              "      <td>False</td>\n",
              "      <td>76561199028326951</td>\n",
              "      <td>7</td>\n",
              "      <td>4</td>\n",
              "      <td>217.0</td>\n",
              "      <td>42.0</td>\n",
              "      <td>217.0</td>\n",
              "      <td>2021-01-16 09:10:49</td>\n",
              "    </tr>\n",
              "  </tbody>\n",
              "</table>\n",
              "</div>"
            ],
            "text/plain": [
              "   Unnamed: 0  app_id  ... author.playtime_at_review  author.last_played\n",
              "0           0  292030  ...                    1909.0 2021-01-22 19:23:03\n",
              "1           1  292030  ...                    2674.0 2021-01-23 07:18:27\n",
              "2           2  292030  ...                    1060.0 2021-01-23 06:36:17\n",
              "3           3  292030  ...                    5524.0 2021-01-23 06:35:44\n",
              "4           4  292030  ...                     217.0 2021-01-16 09:10:49\n",
              "\n",
              "[5 rows x 23 columns]"
            ]
          },
          "metadata": {},
          "execution_count": 9
        }
      ]
    },
    {
      "cell_type": "markdown",
      "metadata": {
        "id": "r6gFZih-LfDy"
      },
      "source": [
        "We can also drop the Unamed  and app_id columns which don't give us any information"
      ]
    },
    {
      "cell_type": "code",
      "metadata": {
        "id": "28zT0XlPLc14"
      },
      "source": [
        "dataset.drop(dataset[[\"app_id\",\"Unnamed: 0\"]],axis=1,inplace=True)"
      ],
      "execution_count": null,
      "outputs": []
    },
    {
      "cell_type": "code",
      "metadata": {
        "colab": {
          "base_uri": "https://localhost:8080/",
          "height": 314
        },
        "id": "TVuWMQryMMmZ",
        "outputId": "0f268665-dc90-49d9-87ba-6748d2e2a08a"
      },
      "source": [
        "dataset.describe()"
      ],
      "execution_count": null,
      "outputs": [
        {
          "output_type": "execute_result",
          "data": {
            "text/html": [
              "<div>\n",
              "<style scoped>\n",
              "    .dataframe tbody tr th:only-of-type {\n",
              "        vertical-align: middle;\n",
              "    }\n",
              "\n",
              "    .dataframe tbody tr th {\n",
              "        vertical-align: top;\n",
              "    }\n",
              "\n",
              "    .dataframe thead th {\n",
              "        text-align: right;\n",
              "    }\n",
              "</style>\n",
              "<table border=\"1\" class=\"dataframe\">\n",
              "  <thead>\n",
              "    <tr style=\"text-align: right;\">\n",
              "      <th></th>\n",
              "      <th>review_id</th>\n",
              "      <th>votes_helpful</th>\n",
              "      <th>votes_funny</th>\n",
              "      <th>weighted_vote_score</th>\n",
              "      <th>comment_count</th>\n",
              "      <th>author.steamid</th>\n",
              "      <th>author.num_games_owned</th>\n",
              "      <th>author.num_reviews</th>\n",
              "      <th>author.playtime_forever</th>\n",
              "      <th>author.playtime_last_two_weeks</th>\n",
              "      <th>author.playtime_at_review</th>\n",
              "    </tr>\n",
              "  </thead>\n",
              "  <tbody>\n",
              "    <tr>\n",
              "      <th>count</th>\n",
              "      <td>1.000000e+06</td>\n",
              "      <td>1000000.000000</td>\n",
              "      <td>1.000000e+06</td>\n",
              "      <td>1000000.000000</td>\n",
              "      <td>1000000.000000</td>\n",
              "      <td>1.000000e+06</td>\n",
              "      <td>1000000.000000</td>\n",
              "      <td>1000000.000000</td>\n",
              "      <td>1.000000e+06</td>\n",
              "      <td>1000000.000000</td>\n",
              "      <td>9.976860e+05</td>\n",
              "    </tr>\n",
              "    <tr>\n",
              "      <th>mean</th>\n",
              "      <td>5.024635e+07</td>\n",
              "      <td>1.354286</td>\n",
              "      <td>1.374396e+05</td>\n",
              "      <td>0.140014</td>\n",
              "      <td>0.110916</td>\n",
              "      <td>7.656120e+16</td>\n",
              "      <td>128.462811</td>\n",
              "      <td>11.763607</td>\n",
              "      <td>1.019143e+04</td>\n",
              "      <td>83.725445</td>\n",
              "      <td>6.910500e+03</td>\n",
              "    </tr>\n",
              "    <tr>\n",
              "      <th>std</th>\n",
              "      <td>2.332212e+07</td>\n",
              "      <td>23.474932</td>\n",
              "      <td>2.429563e+07</td>\n",
              "      <td>0.232354</td>\n",
              "      <td>1.493333</td>\n",
              "      <td>3.292959e+08</td>\n",
              "      <td>267.229146</td>\n",
              "      <td>38.393893</td>\n",
              "      <td>3.265229e+04</td>\n",
              "      <td>548.635872</td>\n",
              "      <td>2.486934e+04</td>\n",
              "    </tr>\n",
              "    <tr>\n",
              "      <th>min</th>\n",
              "      <td>4.300000e+01</td>\n",
              "      <td>0.000000</td>\n",
              "      <td>0.000000e+00</td>\n",
              "      <td>0.000000</td>\n",
              "      <td>0.000000</td>\n",
              "      <td>7.656120e+16</td>\n",
              "      <td>0.000000</td>\n",
              "      <td>1.000000</td>\n",
              "      <td>0.000000e+00</td>\n",
              "      <td>0.000000</td>\n",
              "      <td>1.000000e+00</td>\n",
              "    </tr>\n",
              "    <tr>\n",
              "      <th>25%</th>\n",
              "      <td>3.044572e+07</td>\n",
              "      <td>0.000000</td>\n",
              "      <td>0.000000e+00</td>\n",
              "      <td>0.000000</td>\n",
              "      <td>0.000000</td>\n",
              "      <td>7.656120e+16</td>\n",
              "      <td>26.000000</td>\n",
              "      <td>2.000000</td>\n",
              "      <td>9.640000e+02</td>\n",
              "      <td>0.000000</td>\n",
              "      <td>5.130000e+02</td>\n",
              "    </tr>\n",
              "    <tr>\n",
              "      <th>50%</th>\n",
              "      <td>5.347887e+07</td>\n",
              "      <td>0.000000</td>\n",
              "      <td>0.000000e+00</td>\n",
              "      <td>0.000000</td>\n",
              "      <td>0.000000</td>\n",
              "      <td>7.656120e+16</td>\n",
              "      <td>63.000000</td>\n",
              "      <td>5.000000</td>\n",
              "      <td>3.465000e+03</td>\n",
              "      <td>0.000000</td>\n",
              "      <td>1.640000e+03</td>\n",
              "    </tr>\n",
              "    <tr>\n",
              "      <th>75%</th>\n",
              "      <td>7.114404e+07</td>\n",
              "      <td>1.000000</td>\n",
              "      <td>0.000000e+00</td>\n",
              "      <td>0.467978</td>\n",
              "      <td>0.000000</td>\n",
              "      <td>7.656120e+16</td>\n",
              "      <td>140.000000</td>\n",
              "      <td>11.000000</td>\n",
              "      <td>9.257000e+03</td>\n",
              "      <td>0.000000</td>\n",
              "      <td>5.634000e+03</td>\n",
              "    </tr>\n",
              "    <tr>\n",
              "      <th>max</th>\n",
              "      <td>8.521823e+07</td>\n",
              "      <td>7352.000000</td>\n",
              "      <td>4.294967e+09</td>\n",
              "      <td>0.990385</td>\n",
              "      <td>420.000000</td>\n",
              "      <td>7.656120e+16</td>\n",
              "      <td>20969.000000</td>\n",
              "      <td>5236.000000</td>\n",
              "      <td>3.336152e+06</td>\n",
              "      <td>20924.000000</td>\n",
              "      <td>3.062784e+06</td>\n",
              "    </tr>\n",
              "  </tbody>\n",
              "</table>\n",
              "</div>"
            ],
            "text/plain": [
              "          review_id  ...  author.playtime_at_review\n",
              "count  1.000000e+06  ...               9.976860e+05\n",
              "mean   5.024635e+07  ...               6.910500e+03\n",
              "std    2.332212e+07  ...               2.486934e+04\n",
              "min    4.300000e+01  ...               1.000000e+00\n",
              "25%    3.044572e+07  ...               5.130000e+02\n",
              "50%    5.347887e+07  ...               1.640000e+03\n",
              "75%    7.114404e+07  ...               5.634000e+03\n",
              "max    8.521823e+07  ...               3.062784e+06\n",
              "\n",
              "[8 rows x 11 columns]"
            ]
          },
          "metadata": {},
          "execution_count": 11
        }
      ]
    },
    {
      "cell_type": "code",
      "metadata": {
        "colab": {
          "base_uri": "https://localhost:8080/"
        },
        "id": "ELD-NAy9IvF3",
        "outputId": "a67a3c66-6028-4fca-a211-0f5098451cfb"
      },
      "source": [
        "## Lets check for null values \n",
        "dataset.isnull().sum()"
      ],
      "execution_count": null,
      "outputs": [
        {
          "output_type": "execute_result",
          "data": {
            "text/plain": [
              "app_name                             0\n",
              "review_id                            0\n",
              "language                             0\n",
              "review                            1758\n",
              "timestamp_created                    0\n",
              "timestamp_updated                    0\n",
              "recommended                          0\n",
              "votes_helpful                        0\n",
              "votes_funny                          0\n",
              "weighted_vote_score                  0\n",
              "comment_count                        0\n",
              "steam_purchase                       0\n",
              "received_for_free                    0\n",
              "written_during_early_access          0\n",
              "author.steamid                       0\n",
              "author.num_games_owned               0\n",
              "author.num_reviews                   0\n",
              "author.playtime_forever              0\n",
              "author.playtime_last_two_weeks       0\n",
              "author.playtime_at_review         2314\n",
              "author.last_played                   0\n",
              "dtype: int64"
            ]
          },
          "metadata": {},
          "execution_count": 12
        }
      ]
    },
    {
      "cell_type": "markdown",
      "metadata": {
        "id": "6jliaRgiKMq4"
      },
      "source": [
        "As we can see 1758 reviews are missing and 2314 playtime at review are missing too."
      ]
    },
    {
      "cell_type": "code",
      "metadata": {
        "colab": {
          "base_uri": "https://localhost:8080/"
        },
        "id": "o1jPFe32KKuG",
        "outputId": "5cb44115-7fbf-4cd1-a182-129de9d82c06"
      },
      "source": [
        "print(\"number of NaN values for the column review :\", dataset['review'].isnull().sum())\n",
        "print(\"number of NaN values for the column author.playtime_at_review :\", dataset['author.playtime_at_review'].isnull().sum())"
      ],
      "execution_count": null,
      "outputs": [
        {
          "output_type": "stream",
          "name": "stdout",
          "text": [
            "number of NaN values for the column review : 1758\n",
            "number of NaN values for the column author.playtime_at_review : 2314\n"
          ]
        }
      ]
    },
    {
      "cell_type": "markdown",
      "metadata": {
        "id": "0l0B3xvfOZs8"
      },
      "source": [
        "Normally, in this case if the review column was a number, we could've replace the NaN values by the mean of the whole rows of the column, but it's not the case. We tought about droping those rows but is it pertinent?! We ll keep it like this for now."
      ]
    },
    {
      "cell_type": "markdown",
      "metadata": {
        "id": "4YrE8sc8PYBS"
      },
      "source": [
        "## [RQ1] Exploratory Data Analysis (EDA)"
      ]
    },
    {
      "cell_type": "markdown",
      "metadata": {
        "id": "d6LqIZH4UvJo"
      },
      "source": [
        "We can visualize the data missing in our dataset:"
      ]
    },
    {
      "cell_type": "code",
      "metadata": {
        "colab": {
          "base_uri": "https://localhost:8080/",
          "height": 438
        },
        "id": "LGcyNxADUzZF",
        "outputId": "417b7e11-5781-4efe-c319-815cb9a0fc4f"
      },
      "source": [
        "sns.heatmap(dataset.isnull(),cbar=False,cmap='viridis')"
      ],
      "execution_count": null,
      "outputs": [
        {
          "output_type": "execute_result",
          "data": {
            "text/plain": [
              "<matplotlib.axes._subplots.AxesSubplot at 0x7f653a091b50>"
            ]
          },
          "metadata": {},
          "execution_count": 37
        },
        {
          "output_type": "display_data",
          "data": {
            "image/png": "[encoded data removed]",
            "text/plain": [
              "<Figure size 432x288 with 1 Axes>"
            ]
          },
          "metadata": {
            "needs_background": "light"
          }
        }
      ]
    },
    {
      "cell_type": "markdown",
      "metadata": {
        "id": "vZfZnKwyXpAP"
      },
      "source": [
        "As we said above, the two column missing data are <b/>review</b> and <b/>author.playtime_at_review</b>."
      ]
    },
    {
      "cell_type": "markdown",
      "metadata": {
        "id": "LItxZCCyRtDA"
      },
      "source": [
        "Let's count the number of games we have in the dataset"
      ]
    },
    {
      "cell_type": "code",
      "metadata": {
        "id": "er5j3Yaofs3R"
      },
      "source": [
        "dataset = pd.read_csv(\"/content/drive/MyDrive/AMD/Dataset/Homework2/steam_reviews/steam_reviews.csv\",usecols=['app_name'])"
      ],
      "execution_count": null,
      "outputs": []
    },
    {
      "cell_type": "code",
      "metadata": {
        "id": "iknzai2QRsxE"
      },
      "source": [
        "games_count=dataset['app_name'].value_counts().to_frame()"
      ],
      "execution_count": null,
      "outputs": []
    },
    {
      "cell_type": "code",
      "metadata": {
        "id": "NvNd_k7rPXTa"
      },
      "source": [
        "games_count=games_count.sort_values('app_name',ascending=False)"
      ],
      "execution_count": null,
      "outputs": []
    },
    {
      "cell_type": "code",
      "metadata": {
        "colab": {
          "base_uri": "https://localhost:8080/",
          "height": 414
        },
        "id": "l6zvhBqvh36W",
        "outputId": "eb3f1cf1-db34-4efb-f986-fe16752c3d44"
      },
      "source": [
        "games_count"
      ],
      "execution_count": null,
      "outputs": [
        {
          "output_type": "execute_result",
          "data": {
            "text/html": [
              "<div>\n",
              "<style scoped>\n",
              "    .dataframe tbody tr th:only-of-type {\n",
              "        vertical-align: middle;\n",
              "    }\n",
              "\n",
              "    .dataframe tbody tr th {\n",
              "        vertical-align: top;\n",
              "    }\n",
              "\n",
              "    .dataframe thead th {\n",
              "        text-align: right;\n",
              "    }\n",
              "</style>\n",
              "<table border=\"1\" class=\"dataframe\">\n",
              "  <thead>\n",
              "    <tr style=\"text-align: right;\">\n",
              "      <th></th>\n",
              "      <th>app_name</th>\n",
              "    </tr>\n",
              "  </thead>\n",
              "  <tbody>\n",
              "    <tr>\n",
              "      <th>PLAYERUNKNOWN'S BATTLEGROUNDS</th>\n",
              "      <td>1644255</td>\n",
              "    </tr>\n",
              "    <tr>\n",
              "      <th>Grand Theft Auto V</th>\n",
              "      <td>1019116</td>\n",
              "    </tr>\n",
              "    <tr>\n",
              "      <th>Tom Clancy's Rainbow Six Siege</th>\n",
              "      <td>841918</td>\n",
              "    </tr>\n",
              "    <tr>\n",
              "      <th>Terraria</th>\n",
              "      <td>672815</td>\n",
              "    </tr>\n",
              "    <tr>\n",
              "      <th>Garry's Mod</th>\n",
              "      <td>655524</td>\n",
              "    </tr>\n",
              "    <tr>\n",
              "      <th>...</th>\n",
              "      <td>...</td>\n",
              "    </tr>\n",
              "    <tr>\n",
              "      <th>Don't Escape: 4 Days to Survive</th>\n",
              "      <td>1013</td>\n",
              "    </tr>\n",
              "    <tr>\n",
              "      <th>Out of the Park Baseball 19</th>\n",
              "      <td>700</td>\n",
              "    </tr>\n",
              "    <tr>\n",
              "      <th>Shadow Complex Remastered</th>\n",
              "      <td>700</td>\n",
              "    </tr>\n",
              "    <tr>\n",
              "      <th>DRAGON QUEST HEROES™ II</th>\n",
              "      <td>600</td>\n",
              "    </tr>\n",
              "    <tr>\n",
              "      <th>Neon Hardcorps</th>\n",
              "      <td>200</td>\n",
              "    </tr>\n",
              "  </tbody>\n",
              "</table>\n",
              "<p>315 rows × 1 columns</p>\n",
              "</div>"
            ],
            "text/plain": [
              "                                 app_name\n",
              "PLAYERUNKNOWN'S BATTLEGROUNDS     1644255\n",
              "Grand Theft Auto V                1019116\n",
              "Tom Clancy's Rainbow Six Siege     841918\n",
              "Terraria                           672815\n",
              "Garry's Mod                        655524\n",
              "...                                   ...\n",
              "Don't Escape: 4 Days to Survive      1013\n",
              "Out of the Park Baseball 19           700\n",
              "Shadow Complex Remastered             700\n",
              "DRAGON QUEST HEROES™ II               600\n",
              "Neon Hardcorps                        200\n",
              "\n",
              "[315 rows x 1 columns]"
            ]
          },
          "metadata": {},
          "execution_count": 17
        }
      ]
    },
    {
      "cell_type": "markdown",
      "metadata": {
        "id": "P_FsFGClg1C7"
      },
      "source": [
        "As we can see we have 315 games reviewed in the dataset."
      ]
    },
    {
      "cell_type": "code",
      "metadata": {
        "colab": {
          "base_uri": "https://localhost:8080/",
          "height": 519
        },
        "id": "8wr1V_4iVM13",
        "outputId": "bca992e7-2de2-42ca-f469-ca4d21d2cbc1"
      },
      "source": [
        "plt.rcParams['figure.figsize']=(8,8)\n",
        "plt.pie(games_count[0:10],labels=dataset.app_name.value_counts()[0:10].index,shadow=True,autopct='%.1f%%')\n",
        "plt.legend()\n",
        "plt.show()"
      ],
      "execution_count": null,
      "outputs": [
        {
          "output_type": "stream",
          "name": "stderr",
          "text": [
            "/usr/local/lib/python3.7/dist-packages/ipykernel_launcher.py:2: MatplotlibDeprecationWarning: Non-1D inputs to pie() are currently squeeze()d, but this behavior is deprecated since 3.1 and will be removed in 3.3; pass a 1D array instead.\n",
            "  \n"
          ]
        },
        {
          "output_type": "display_data",
          "data": {
            "image/png": "[encoded data removed]",
            "text/plain": [
              "<Figure size 576x576 with 1 Axes>"
            ]
          },
          "metadata": {}
        }
      ]
    },
    {
      "cell_type": "markdown",
      "metadata": {
        "id": "k8FBSlzpStGA"
      },
      "source": [
        " We can't plot the whole games but we have chosen to plot only the top 10 games and the most reviewed game is  <b/>PlAYERUNKNOWN'S BATTLEGROUNDS</b>."
      ]
    },
    {
      "cell_type": "markdown",
      "metadata": {
        "id": "_6A2b2KgYpGZ"
      },
      "source": [
        "Let's do the same thing for the language."
      ]
    },
    {
      "cell_type": "code",
      "metadata": {
        "id": "oWVfvi5SiPc7"
      },
      "source": [
        "dataset = pd.read_csv(\"/content/drive/MyDrive/AMD/Dataset/Homework2/steam_reviews/steam_reviews.csv\",usecols=['language'])"
      ],
      "execution_count": null,
      "outputs": []
    },
    {
      "cell_type": "code",
      "metadata": {
        "id": "CdW7W0DJYoMv"
      },
      "source": [
        "language_count=dataset['language'].value_counts().to_frame()"
      ],
      "execution_count": null,
      "outputs": []
    },
    {
      "cell_type": "code",
      "metadata": {
        "colab": {
          "base_uri": "https://localhost:8080/",
          "height": 907
        },
        "id": "qBaeV6DcM1LA",
        "outputId": "28954af1-97f0-4093-b5e9-564193c79764"
      },
      "source": [
        "language_count.apply(lambda x: 100*x/x.sum())"
      ],
      "execution_count": null,
      "outputs": [
        {
          "output_type": "execute_result",
          "data": {
            "text/html": [
              "<div>\n",
              "<style scoped>\n",
              "    .dataframe tbody tr th:only-of-type {\n",
              "        vertical-align: middle;\n",
              "    }\n",
              "\n",
              "    .dataframe tbody tr th {\n",
              "        vertical-align: top;\n",
              "    }\n",
              "\n",
              "    .dataframe thead th {\n",
              "        text-align: right;\n",
              "    }\n",
              "</style>\n",
              "<table border=\"1\" class=\"dataframe\">\n",
              "  <thead>\n",
              "    <tr style=\"text-align: right;\">\n",
              "      <th></th>\n",
              "      <th>language</th>\n",
              "    </tr>\n",
              "  </thead>\n",
              "  <tbody>\n",
              "    <tr>\n",
              "      <th>english</th>\n",
              "      <td>44.306215</td>\n",
              "    </tr>\n",
              "    <tr>\n",
              "      <th>schinese</th>\n",
              "      <td>17.312286</td>\n",
              "    </tr>\n",
              "    <tr>\n",
              "      <th>russian</th>\n",
              "      <td>10.800846</td>\n",
              "    </tr>\n",
              "    <tr>\n",
              "      <th>brazilian</th>\n",
              "      <td>3.851151</td>\n",
              "    </tr>\n",
              "    <tr>\n",
              "      <th>spanish</th>\n",
              "      <td>3.739854</td>\n",
              "    </tr>\n",
              "    <tr>\n",
              "      <th>german</th>\n",
              "      <td>3.460630</td>\n",
              "    </tr>\n",
              "    <tr>\n",
              "      <th>turkish</th>\n",
              "      <td>2.923884</td>\n",
              "    </tr>\n",
              "    <tr>\n",
              "      <th>koreana</th>\n",
              "      <td>2.821638</td>\n",
              "    </tr>\n",
              "    <tr>\n",
              "      <th>french</th>\n",
              "      <td>2.491110</td>\n",
              "    </tr>\n",
              "    <tr>\n",
              "      <th>polish</th>\n",
              "      <td>2.278570</td>\n",
              "    </tr>\n",
              "    <tr>\n",
              "      <th>tchinese</th>\n",
              "      <td>1.003353</td>\n",
              "    </tr>\n",
              "    <tr>\n",
              "      <th>czech</th>\n",
              "      <td>0.616074</td>\n",
              "    </tr>\n",
              "    <tr>\n",
              "      <th>italian</th>\n",
              "      <td>0.612980</td>\n",
              "    </tr>\n",
              "    <tr>\n",
              "      <th>thai</th>\n",
              "      <td>0.586292</td>\n",
              "    </tr>\n",
              "    <tr>\n",
              "      <th>japanese</th>\n",
              "      <td>0.375926</td>\n",
              "    </tr>\n",
              "    <tr>\n",
              "      <th>portuguese</th>\n",
              "      <td>0.374234</td>\n",
              "    </tr>\n",
              "    <tr>\n",
              "      <th>swedish</th>\n",
              "      <td>0.368900</td>\n",
              "    </tr>\n",
              "    <tr>\n",
              "      <th>dutch</th>\n",
              "      <td>0.356618</td>\n",
              "    </tr>\n",
              "    <tr>\n",
              "      <th>hungarian</th>\n",
              "      <td>0.326481</td>\n",
              "    </tr>\n",
              "    <tr>\n",
              "      <th>latam</th>\n",
              "      <td>0.322352</td>\n",
              "    </tr>\n",
              "    <tr>\n",
              "      <th>danish</th>\n",
              "      <td>0.257112</td>\n",
              "    </tr>\n",
              "    <tr>\n",
              "      <th>finnish</th>\n",
              "      <td>0.251580</td>\n",
              "    </tr>\n",
              "    <tr>\n",
              "      <th>norwegian</th>\n",
              "      <td>0.169202</td>\n",
              "    </tr>\n",
              "    <tr>\n",
              "      <th>romanian</th>\n",
              "      <td>0.150501</td>\n",
              "    </tr>\n",
              "    <tr>\n",
              "      <th>ukrainian</th>\n",
              "      <td>0.097341</td>\n",
              "    </tr>\n",
              "    <tr>\n",
              "      <th>greek</th>\n",
              "      <td>0.066546</td>\n",
              "    </tr>\n",
              "    <tr>\n",
              "      <th>bulgarian</th>\n",
              "      <td>0.048070</td>\n",
              "    </tr>\n",
              "    <tr>\n",
              "      <th>vietnamese</th>\n",
              "      <td>0.030257</td>\n",
              "    </tr>\n",
              "  </tbody>\n",
              "</table>\n",
              "</div>"
            ],
            "text/plain": [
              "             language\n",
              "english     44.306215\n",
              "schinese    17.312286\n",
              "russian     10.800846\n",
              "brazilian    3.851151\n",
              "spanish      3.739854\n",
              "german       3.460630\n",
              "turkish      2.923884\n",
              "koreana      2.821638\n",
              "french       2.491110\n",
              "polish       2.278570\n",
              "tchinese     1.003353\n",
              "czech        0.616074\n",
              "italian      0.612980\n",
              "thai         0.586292\n",
              "japanese     0.375926\n",
              "portuguese   0.374234\n",
              "swedish      0.368900\n",
              "dutch        0.356618\n",
              "hungarian    0.326481\n",
              "latam        0.322352\n",
              "danish       0.257112\n",
              "finnish      0.251580\n",
              "norwegian    0.169202\n",
              "romanian     0.150501\n",
              "ukrainian    0.097341\n",
              "greek        0.066546\n",
              "bulgarian    0.048070\n",
              "vietnamese   0.030257"
            ]
          },
          "metadata": {},
          "execution_count": 26
        }
      ]
    },
    {
      "cell_type": "markdown",
      "metadata": {
        "id": "ruLzPrOok7wp"
      },
      "source": [
        "As we can see English is the most used language in the reviews and it represents 44.3% from the dataset. "
      ]
    },
    {
      "cell_type": "code",
      "metadata": {
        "colab": {
          "base_uri": "https://localhost:8080/",
          "height": 519
        },
        "id": "yv7l9_DVYyzz",
        "outputId": "91ff1f14-ee19-4f84-ce8d-fd29fd2d76ea"
      },
      "source": [
        "plt.rcParams['figure.figsize']=(8,8)\n",
        "plt.pie(language_count[0:10],labels=dataset.language.value_counts().index[0:10],shadow=True,autopct='%.1f%%')\n",
        "plt.legend()\n",
        "plt.show()"
      ],
      "execution_count": null,
      "outputs": [
        {
          "output_type": "stream",
          "name": "stderr",
          "text": [
            "/usr/local/lib/python3.7/dist-packages/ipykernel_launcher.py:2: MatplotlibDeprecationWarning: Non-1D inputs to pie() are currently squeeze()d, but this behavior is deprecated since 3.1 and will be removed in 3.3; pass a 1D array instead.\n",
            "  \n"
          ]
        },
        {
          "output_type": "display_data",
          "data": {
            "image/png": "[encoded data removed]",
            "text/plain": [
              "<Figure size 576x576 with 1 Axes>"
            ]
          },
          "metadata": {}
        }
      ]
    },
    {
      "cell_type": "markdown",
      "metadata": {
        "id": "00TRDicPlMN-"
      },
      "source": [
        "We couldn't plot all the languages but we ploted only the first 10, and english represents 47% from the first 10 languages."
      ]
    },
    {
      "cell_type": "markdown",
      "metadata": {
        "id": "yIUGCjYMZFkK"
      },
      "source": [
        "As we can see we have many language and this plot is not so clear so lets check the 7 most used languages."
      ]
    },
    {
      "cell_type": "code",
      "metadata": {
        "colab": {
          "base_uri": "https://localhost:8080/",
          "height": 466
        },
        "id": "EB-PSRZwZFXD",
        "outputId": "818d092c-d7ba-4495-e39f-e8b9b9b9c7ce"
      },
      "source": [
        "top_language_n = 10\n",
        "top_language = dataset.loc[:,'language'].value_counts()\\\n",
        "[:top_language_n].sort_values(ascending=False)\n",
        "squarify.plot(sizes=top_language, label=top_language.index.array,\\\n",
        "color=[\"red\",\"green\",\"orange\",\"blue\",\"grey\",\"yellow\",\"pink\",\"black\",\"white\",\"magenta\"], alpha=.7 )\n",
        "plt.axis('off')\n",
        "plt.show()"
      ],
      "execution_count": null,
      "outputs": [
        {
          "output_type": "display_data",
          "data": {
            "image/png": "[encoded data removed]",
            "text/plain": [
              "<Figure size 576x576 with 1 Axes>"
            ]
          },
          "metadata": {
            "needs_background": "light"
          }
        }
      ]
    },
    {
      "cell_type": "markdown",
      "metadata": {
        "id": "LldHQWT6m6D2"
      },
      "source": [
        "Let's see if there is any correlation between the games and the language."
      ]
    },
    {
      "cell_type": "code",
      "metadata": {
        "id": "HyzCxcJil4so"
      },
      "source": [
        "dataset = pd.read_csv(\"/content/drive/MyDrive/AMD/Dataset/Homework2/steam_reviews/steam_reviews.csv\",usecols=['app_name','language'])"
      ],
      "execution_count": null,
      "outputs": []
    },
    {
      "cell_type": "markdown",
      "metadata": {
        "id": "uuOcWQrO5oO-"
      },
      "source": [
        "## [RQ2] Let's explore the dataset by finding simple insights into the reviews."
      ]
    },
    {
      "cell_type": "code",
      "metadata": {
        "id": "bUxrVobH5wOm"
      },
      "source": [
        "dataset1 = pd.read_csv(\"/content/drive/MyDrive/AMD/Dataset/Homework2/steam_reviews/steam_reviews.csv\",usecols=['app_name','review'])"
      ],
      "execution_count": null,
      "outputs": []
    },
    {
      "cell_type": "markdown",
      "metadata": {
        "id": "n8m3oucN8LS8"
      },
      "source": [
        "### Let's plot the number of reviews for each application in descending order."
      ]
    },
    {
      "cell_type": "code",
      "metadata": {
        "id": "AkHoT4EP5non"
      },
      "source": [
        "numbofreviews=dataset1.groupby('app_name',sort=True).review.count().sort_values(ascending=False)"
      ],
      "execution_count": null,
      "outputs": []
    },
    {
      "cell_type": "code",
      "metadata": {
        "colab": {
          "base_uri": "https://localhost:8080/",
          "height": 445
        },
        "id": "iPod2uI3_-2v",
        "outputId": "2d5ffa73-52b9-4f94-99b3-505ad6c9df58"
      },
      "source": [
        "numbofreviews.to_frame()"
      ],
      "execution_count": null,
      "outputs": [
        {
          "output_type": "execute_result",
          "data": {
            "text/html": [
              "<div>\n",
              "<style scoped>\n",
              "    .dataframe tbody tr th:only-of-type {\n",
              "        vertical-align: middle;\n",
              "    }\n",
              "\n",
              "    .dataframe tbody tr th {\n",
              "        vertical-align: top;\n",
              "    }\n",
              "\n",
              "    .dataframe thead th {\n",
              "        text-align: right;\n",
              "    }\n",
              "</style>\n",
              "<table border=\"1\" class=\"dataframe\">\n",
              "  <thead>\n",
              "    <tr style=\"text-align: right;\">\n",
              "      <th></th>\n",
              "      <th>review</th>\n",
              "    </tr>\n",
              "    <tr>\n",
              "      <th>app_name</th>\n",
              "      <th></th>\n",
              "    </tr>\n",
              "  </thead>\n",
              "  <tbody>\n",
              "    <tr>\n",
              "      <th>PLAYERUNKNOWN'S BATTLEGROUNDS</th>\n",
              "      <td>1643246</td>\n",
              "    </tr>\n",
              "    <tr>\n",
              "      <th>Grand Theft Auto V</th>\n",
              "      <td>1017315</td>\n",
              "    </tr>\n",
              "    <tr>\n",
              "      <th>Tom Clancy's Rainbow Six Siege</th>\n",
              "      <td>840316</td>\n",
              "    </tr>\n",
              "    <tr>\n",
              "      <th>Terraria</th>\n",
              "      <td>671774</td>\n",
              "    </tr>\n",
              "    <tr>\n",
              "      <th>Garry's Mod</th>\n",
              "      <td>654511</td>\n",
              "    </tr>\n",
              "    <tr>\n",
              "      <th>...</th>\n",
              "      <td>...</td>\n",
              "    </tr>\n",
              "    <tr>\n",
              "      <th>Don't Escape: 4 Days to Survive</th>\n",
              "      <td>1011</td>\n",
              "    </tr>\n",
              "    <tr>\n",
              "      <th>Out of the Park Baseball 19</th>\n",
              "      <td>700</td>\n",
              "    </tr>\n",
              "    <tr>\n",
              "      <th>Shadow Complex Remastered</th>\n",
              "      <td>700</td>\n",
              "    </tr>\n",
              "    <tr>\n",
              "      <th>DRAGON QUEST HEROES™ II</th>\n",
              "      <td>600</td>\n",
              "    </tr>\n",
              "    <tr>\n",
              "      <th>Neon Hardcorps</th>\n",
              "      <td>200</td>\n",
              "    </tr>\n",
              "  </tbody>\n",
              "</table>\n",
              "<p>315 rows × 1 columns</p>\n",
              "</div>"
            ],
            "text/plain": [
              "                                  review\n",
              "app_name                                \n",
              "PLAYERUNKNOWN'S BATTLEGROUNDS    1643246\n",
              "Grand Theft Auto V               1017315\n",
              "Tom Clancy's Rainbow Six Siege    840316\n",
              "Terraria                          671774\n",
              "Garry's Mod                       654511\n",
              "...                                  ...\n",
              "Don't Escape: 4 Days to Survive     1011\n",
              "Out of the Park Baseball 19          700\n",
              "Shadow Complex Remastered            700\n",
              "DRAGON QUEST HEROES™ II              600\n",
              "Neon Hardcorps                       200\n",
              "\n",
              "[315 rows x 1 columns]"
            ]
          },
          "metadata": {},
          "execution_count": 42
        }
      ]
    },
    {
      "cell_type": "markdown",
      "metadata": {
        "id": "YCVg5kobBA3y"
      },
      "source": [
        "Ploting the whole application won't be clear, so we chose to plot only the top 10."
      ]
    },
    {
      "cell_type": "code",
      "metadata": {
        "colab": {
          "base_uri": "https://localhost:8080/",
          "height": 927
        },
        "id": "RF9ODKM24szO",
        "outputId": "5b970a73-aeb4-4468-9ec9-6d50e8e9feeb"
      },
      "source": [
        "plt.rcParams['figure.figsize']=(20,12)\n",
        "numbofreviews[:10].plot(kind=\"bar\")\n",
        "plt.xticks(horizontalalignment=\"center\")\n",
        "plt.title(\"Number of reviews per application\")\n",
        "plt.xlabel(\"Application\")\n",
        "plt.ylabel(\"number of reviews\")"
      ],
      "execution_count": null,
      "outputs": [
        {
          "output_type": "execute_result",
          "data": {
            "text/plain": [
              "Text(0, 0.5, 'number of reviews')"
            ]
          },
          "metadata": {},
          "execution_count": 44
        },
        {
          "output_type": "display_data",
          "data": {
            "image/png": "[encoded data removed]",
            "text/plain": [
              "<Figure size 1440x864 with 1 Axes>"
            ]
          },
          "metadata": {
            "needs_background": "light"
          }
        }
      ]
    },
    {
      "cell_type": "markdown",
      "metadata": {
        "id": "Diyq5xZCDhYf"
      },
      "source": [
        "### What applications have the best Weighted Vote Score?"
      ]
    },
    {
      "cell_type": "code",
      "metadata": {
        "id": "uobmwLDlDhAs"
      },
      "source": [
        "dataset2 = pd.read_csv(\"/content/drive/MyDrive/ADMHW2/steam_reviews.csv\",usecols=['app_name','weighted_vote_score'])"
      ],
      "execution_count": null,
      "outputs": []
    },
    {
      "cell_type": "code",
      "metadata": {
        "id": "eJfKKAwG-gGO"
      },
      "source": [
        "sortedbywvs=dataset2.sort_values('weighted_vote_score',ascending=False)"
      ],
      "execution_count": null,
      "outputs": []
    },
    {
      "cell_type": "code",
      "metadata": {
        "id": "tJgws1v2E2YU"
      },
      "source": [
        "sortedbywvs=sortedbywvs.drop_duplicates(subset='app_name')"
      ],
      "execution_count": null,
      "outputs": []
    },
    {
      "cell_type": "code",
      "metadata": {
        "colab": {
          "base_uri": "https://localhost:8080/"
        },
        "id": "7gZZva9KO7HT",
        "outputId": "17672fd1-3a43-4edb-9afe-99e6759a7226"
      },
      "source": [
        "print(\"The 20 best Weighted Vote Score applications are \")\n",
        "for app_name in sortedbywvs[:20].app_name.unique():\n",
        "    print(f'{app_name}  ')"
      ],
      "execution_count": null,
      "outputs": [
        {
          "output_type": "stream",
          "name": "stdout",
          "text": [
            "The 20 best Weighted Vote Score applications are \n",
            "Stardew Valley  \n",
            "Divinity: Original Sin 2  \n",
            "Subnautica  \n",
            "Mirror  \n",
            "Wallpaper Engine  \n",
            "Terraria  \n",
            "The Forest  \n",
            "Monster Hunter: World  \n",
            "The Elder Scrolls Online  \n",
            "Human: Fall Flat  \n",
            "DARK SOULS™ III  \n",
            "No Man's Sky  \n",
            "Undertale  \n",
            "Kenshi  \n",
            "DEATH STRANDING  \n",
            "Watch_Dogs 2  \n",
            "Darkest Dungeon®  \n",
            "Frostpunk  \n",
            "The Elder Scrolls V: Skyrim  \n",
            "The Witcher 3: Wild Hunt  \n"
          ]
        }
      ]
    },
    {
      "cell_type": "markdown",
      "metadata": {
        "id": "41QLOJe2k0YB"
      },
      "source": [
        "### Which applications have the most and the least recommendations?"
      ]
    },
    {
      "cell_type": "code",
      "metadata": {
        "id": "wEmPvL-JJ9fd"
      },
      "source": [
        "dataset3 = pd.read_csv(\"/content/drive/MyDrive/ADMHW2/steam_reviews.csv\",usecols=['app_name','recommended'])"
      ],
      "execution_count": null,
      "outputs": []
    },
    {
      "cell_type": "code",
      "metadata": {
        "colab": {
          "base_uri": "https://localhost:8080/",
          "height": 414
        },
        "id": "jOnA7XFZe_wL",
        "outputId": "7449707a-6ca4-4d55-e72f-07dc0be64773"
      },
      "source": [
        "appgroup=dataset3.groupby('app_name').sum()\n",
        "sortrecommendf=appgroup.sort_values('recommended', ascending =False).reset_index()\n",
        "sortrecommendf\n",
        "\n",
        "\n"
      ],
      "execution_count": null,
      "outputs": [
        {
          "output_type": "execute_result",
          "data": {
            "text/html": [
              "<div>\n",
              "<style scoped>\n",
              "    .dataframe tbody tr th:only-of-type {\n",
              "        vertical-align: middle;\n",
              "    }\n",
              "\n",
              "    .dataframe tbody tr th {\n",
              "        vertical-align: top;\n",
              "    }\n",
              "\n",
              "    .dataframe thead th {\n",
              "        text-align: right;\n",
              "    }\n",
              "</style>\n",
              "<table border=\"1\" class=\"dataframe\">\n",
              "  <thead>\n",
              "    <tr style=\"text-align: right;\">\n",
              "      <th></th>\n",
              "      <th>app_name</th>\n",
              "      <th>recommended</th>\n",
              "    </tr>\n",
              "  </thead>\n",
              "  <tbody>\n",
              "    <tr>\n",
              "      <th>0</th>\n",
              "      <td>PLAYERUNKNOWN'S BATTLEGROUNDS</td>\n",
              "      <td>886417</td>\n",
              "    </tr>\n",
              "    <tr>\n",
              "      <th>1</th>\n",
              "      <td>Grand Theft Auto V</td>\n",
              "      <td>831311</td>\n",
              "    </tr>\n",
              "    <tr>\n",
              "      <th>2</th>\n",
              "      <td>Tom Clancy's Rainbow Six Siege</td>\n",
              "      <td>742397</td>\n",
              "    </tr>\n",
              "    <tr>\n",
              "      <th>3</th>\n",
              "      <td>Terraria</td>\n",
              "      <td>658741</td>\n",
              "    </tr>\n",
              "    <tr>\n",
              "      <th>4</th>\n",
              "      <td>Garry's Mod</td>\n",
              "      <td>632558</td>\n",
              "    </tr>\n",
              "    <tr>\n",
              "      <th>...</th>\n",
              "      <td>...</td>\n",
              "      <td>...</td>\n",
              "    </tr>\n",
              "    <tr>\n",
              "      <th>310</th>\n",
              "      <td>Out of the Park Baseball 19</td>\n",
              "      <td>594</td>\n",
              "    </tr>\n",
              "    <tr>\n",
              "      <th>311</th>\n",
              "      <td>Shadow Complex Remastered</td>\n",
              "      <td>587</td>\n",
              "    </tr>\n",
              "    <tr>\n",
              "      <th>312</th>\n",
              "      <td>Identity</td>\n",
              "      <td>439</td>\n",
              "    </tr>\n",
              "    <tr>\n",
              "      <th>313</th>\n",
              "      <td>DRAGON QUEST HEROES™ II</td>\n",
              "      <td>423</td>\n",
              "    </tr>\n",
              "    <tr>\n",
              "      <th>314</th>\n",
              "      <td>Neon Hardcorps</td>\n",
              "      <td>89</td>\n",
              "    </tr>\n",
              "  </tbody>\n",
              "</table>\n",
              "<p>315 rows × 2 columns</p>\n",
              "</div>"
            ],
            "text/plain": [
              "                           app_name  recommended\n",
              "0     PLAYERUNKNOWN'S BATTLEGROUNDS       886417\n",
              "1                Grand Theft Auto V       831311\n",
              "2    Tom Clancy's Rainbow Six Siege       742397\n",
              "3                          Terraria       658741\n",
              "4                       Garry's Mod       632558\n",
              "..                              ...          ...\n",
              "310     Out of the Park Baseball 19          594\n",
              "311       Shadow Complex Remastered          587\n",
              "312                        Identity          439\n",
              "313         DRAGON QUEST HEROES™ II          423\n",
              "314                  Neon Hardcorps           89\n",
              "\n",
              "[315 rows x 2 columns]"
            ]
          },
          "metadata": {},
          "execution_count": 43
        }
      ]
    },
    {
      "cell_type": "code",
      "metadata": {
        "colab": {
          "base_uri": "https://localhost:8080/",
          "height": 35
        },
        "id": "wMfLC62Siy44",
        "outputId": "1284a12e-43b4-4828-d921-b7cb8f9dbb40"
      },
      "source": [
        "sortrecommendf['app_name'][0]"
      ],
      "execution_count": null,
      "outputs": [
        {
          "output_type": "execute_result",
          "data": {
            "application/vnd.google.colaboratory.intrinsic+json": {
              "type": "string"
            },
            "text/plain": [
              "\"PLAYERUNKNOWN'S BATTLEGROUNDS\""
            ]
          },
          "metadata": {},
          "execution_count": 45
        }
      ]
    },
    {
      "cell_type": "code",
      "metadata": {
        "colab": {
          "base_uri": "https://localhost:8080/",
          "height": 35
        },
        "id": "8Cnjw2Svi0dr",
        "outputId": "f8703346-01ab-48fe-99f3-efc2a8671f28"
      },
      "source": [
        "sortrecommendf['app_name'][314]"
      ],
      "execution_count": null,
      "outputs": [
        {
          "output_type": "execute_result",
          "data": {
            "application/vnd.google.colaboratory.intrinsic+json": {
              "type": "string"
            },
            "text/plain": [
              "'Neon Hardcorps'"
            ]
          },
          "metadata": {},
          "execution_count": 46
        }
      ]
    },
    {
      "cell_type": "markdown",
      "metadata": {
        "id": "ki_JRksAmhYn"
      },
      "source": [
        "### How many of these applications were purchased, and how many were given for free?\n"
      ]
    },
    {
      "cell_type": "code",
      "metadata": {
        "id": "z7YRMRi1yohQ"
      },
      "source": [
        "dataset3=pd.read_csv(\"/content/drive/MyDrive/AMD/Dataset/Homework2/steam_reviews/steam_reviews.csv\",usecols=['app_name','received_for_free','steam_purchase'])"
      ],
      "execution_count": null,
      "outputs": []
    },
    {
      "cell_type": "code",
      "metadata": {
        "colab": {
          "base_uri": "https://localhost:8080/"
        },
        "id": "H7qGHFGY_9pN",
        "outputId": "b798539f-f379-49c3-b18d-6999660bb4d3"
      },
      "source": [
        "dataset3.groupby('app_name').received_for_free.value_counts()"
      ],
      "execution_count": null,
      "outputs": [
        {
          "output_type": "execute_result",
          "data": {
            "text/plain": [
              "app_name                               received_for_free\n",
              "20XX                                   False                 3559\n",
              "                                       True                    51\n",
              "A Hat in Time                          False                34159\n",
              "                                       True                   820\n",
              "A Short Hike                           False                 5748\n",
              "                                                            ...  \n",
              "Youtubers Life                         True                   544\n",
              "theHunter: Call of the Wild™           False                65077\n",
              "                                       True                  2163\n",
              "三国群英传8 Heroes of the Three Kingdoms 8  False                 8046\n",
              "                                       True                    65\n",
              "Name: received_for_free, Length: 630, dtype: int64"
            ]
          },
          "metadata": {},
          "execution_count": 90
        }
      ]
    },
    {
      "cell_type": "markdown",
      "metadata": {
        "id": "iw6wh2IgA2lV"
      },
      "source": [
        "As We can see the majority of games have been received for free and purchased."
      ]
    },
    {
      "cell_type": "code",
      "metadata": {
        "id": "OsQPGEufA2XB"
      },
      "source": [
        "group1=dataset3.loc[(dataset3['received_for_free']==True) & (dataset3['steam_purchase']==False)]"
      ],
      "execution_count": null,
      "outputs": []
    },
    {
      "cell_type": "code",
      "metadata": {
        "colab": {
          "base_uri": "https://localhost:8080/"
        },
        "id": "rR4fqzA1BbHH",
        "outputId": "528f1cf9-b830-4c6f-8a8b-c867fa043b62"
      },
      "source": [
        "group1.count()"
      ],
      "execution_count": null,
      "outputs": [
        {
          "output_type": "execute_result",
          "data": {
            "text/plain": [
              "app_name             359041\n",
              "steam_purchase       359041\n",
              "received_for_free    359041\n",
              "dtype: int64"
            ]
          },
          "metadata": {},
          "execution_count": 107
        }
      ]
    },
    {
      "cell_type": "code",
      "metadata": {
        "id": "1yng0Sr1CE1U"
      },
      "source": [
        "group2=dataset3.loc[(dataset3['received_for_free']==False) & (dataset3['steam_purchase']==True)]"
      ],
      "execution_count": null,
      "outputs": []
    },
    {
      "cell_type": "code",
      "metadata": {
        "colab": {
          "base_uri": "https://localhost:8080/"
        },
        "id": "fDRHa9gDCMEF",
        "outputId": "78acd396-0dd3-4b12-8b2f-759917aa90a3"
      },
      "source": [
        "group2.count()"
      ],
      "execution_count": null,
      "outputs": [
        {
          "output_type": "execute_result",
          "data": {
            "text/plain": [
              "app_name             16513412\n",
              "steam_purchase       16513412\n",
              "received_for_free    16513412\n",
              "dtype: int64"
            ]
          },
          "metadata": {},
          "execution_count": 109
        }
      ]
    },
    {
      "cell_type": "markdown",
      "metadata": {
        "id": "e05ZhQLIB-fo"
      },
      "source": [
        "So 359 041 were given for free and 16 513 412 were purchased.\n",
        "We have considered as purchased just the app that were purchased on steam, using the variable 'steam purchase'. "
      ]
    },
    {
      "cell_type": "markdown",
      "metadata": {
        "id": "PIi-T_h02277"
      },
      "source": [
        "##RQ3\n"
      ]
    },
    {
      "cell_type": "markdown",
      "metadata": {
        "id": "t4Trpxsj3BWI"
      },
      "source": [
        "M : \"/content/drive/MyDrive/AMD/Dataset/Homework2/steam_reviews/steam_reviews.csv\"\n"
      ]
    },
    {
      "cell_type": "code",
      "metadata": {
        "id": "8nZsgVBm35Ha"
      },
      "source": [
        "def parsedate(time_as_a_unix_timestamp):\n",
        "    return pd.to_datetime(time_as_a_unix_timestamp, unit='s')\n",
        "dataset5 = pd.read_csv(\"/content/drive/MyDrive/ADMHW2/steam_reviews.csv\",usecols=['app_name','timestamp_created'],parse_dates=['timestamp_created'],date_parser=parsedate)"
      ],
      "execution_count": null,
      "outputs": []
    },
    {
      "cell_type": "markdown",
      "metadata": {
        "id": "-PiZSQ-lkwVc"
      },
      "source": [
        "### What is the most common time that authors review an application?"
      ]
    },
    {
      "cell_type": "code",
      "metadata": {
        "id": "m58-D-DiPkcR"
      },
      "source": [
        "dataset5['timestamp_created'] = dataset5['timestamp_created'].dt.floor('Min')\n"
      ],
      "execution_count": null,
      "outputs": []
    },
    {
      "cell_type": "code",
      "metadata": {
        "colab": {
          "base_uri": "https://localhost:8080/"
        },
        "id": "ISSmV89bHxEM",
        "outputId": "8ec0deff-fe4f-4fd7-e4e3-ea933e59412f"
      },
      "source": [
        "dataset5['timestamp_created'].head()"
      ],
      "execution_count": null,
      "outputs": [
        {
          "output_type": "execute_result",
          "data": {
            "text/plain": [
              "0   2021-01-23 06:00:00\n",
              "1   2021-01-23 05:50:00\n",
              "2   2021-01-23 05:46:00\n",
              "3   2021-01-23 05:32:00\n",
              "4   2021-01-23 05:23:00\n",
              "Name: timestamp_created, dtype: datetime64[ns]"
            ]
          },
          "metadata": {},
          "execution_count": 7
        }
      ]
    },
    {
      "cell_type": "code",
      "metadata": {
        "id": "lSjGMhFz_o8Q"
      },
      "source": [
        "dataset5['new_date'] = [d.date() for d in dataset5['timestamp_created']]\n",
        "dataset5['new_time'] = [d.time() for d in dataset5['timestamp_created']]\n"
      ],
      "execution_count": null,
      "outputs": []
    },
    {
      "cell_type": "code",
      "metadata": {
        "colab": {
          "base_uri": "https://localhost:8080/",
          "height": 200
        },
        "id": "AN0ukQDuLzO4",
        "outputId": "8e1c40f0-11b9-4189-bb0a-d710471bd8fb"
      },
      "source": [
        "dataset5.head()"
      ],
      "execution_count": null,
      "outputs": [
        {
          "output_type": "execute_result",
          "data": {
            "text/html": [
              "<div>\n",
              "<style scoped>\n",
              "    .dataframe tbody tr th:only-of-type {\n",
              "        vertical-align: middle;\n",
              "    }\n",
              "\n",
              "    .dataframe tbody tr th {\n",
              "        vertical-align: top;\n",
              "    }\n",
              "\n",
              "    .dataframe thead th {\n",
              "        text-align: right;\n",
              "    }\n",
              "</style>\n",
              "<table border=\"1\" class=\"dataframe\">\n",
              "  <thead>\n",
              "    <tr style=\"text-align: right;\">\n",
              "      <th></th>\n",
              "      <th>app_name</th>\n",
              "      <th>timestamp_created</th>\n",
              "      <th>new_date</th>\n",
              "      <th>new_time</th>\n",
              "    </tr>\n",
              "  </thead>\n",
              "  <tbody>\n",
              "    <tr>\n",
              "      <th>0</th>\n",
              "      <td>The Witcher 3: Wild Hunt</td>\n",
              "      <td>2021-01-23 06:00:00</td>\n",
              "      <td>2021-01-23</td>\n",
              "      <td>06:00:00</td>\n",
              "    </tr>\n",
              "    <tr>\n",
              "      <th>1</th>\n",
              "      <td>The Witcher 3: Wild Hunt</td>\n",
              "      <td>2021-01-23 05:50:00</td>\n",
              "      <td>2021-01-23</td>\n",
              "      <td>05:50:00</td>\n",
              "    </tr>\n",
              "    <tr>\n",
              "      <th>2</th>\n",
              "      <td>The Witcher 3: Wild Hunt</td>\n",
              "      <td>2021-01-23 05:46:00</td>\n",
              "      <td>2021-01-23</td>\n",
              "      <td>05:46:00</td>\n",
              "    </tr>\n",
              "    <tr>\n",
              "      <th>3</th>\n",
              "      <td>The Witcher 3: Wild Hunt</td>\n",
              "      <td>2021-01-23 05:32:00</td>\n",
              "      <td>2021-01-23</td>\n",
              "      <td>05:32:00</td>\n",
              "    </tr>\n",
              "    <tr>\n",
              "      <th>4</th>\n",
              "      <td>The Witcher 3: Wild Hunt</td>\n",
              "      <td>2021-01-23 05:23:00</td>\n",
              "      <td>2021-01-23</td>\n",
              "      <td>05:23:00</td>\n",
              "    </tr>\n",
              "  </tbody>\n",
              "</table>\n",
              "</div>"
            ],
            "text/plain": [
              "                   app_name   timestamp_created    new_date  new_time\n",
              "0  The Witcher 3: Wild Hunt 2021-01-23 06:00:00  2021-01-23  06:00:00\n",
              "1  The Witcher 3: Wild Hunt 2021-01-23 05:50:00  2021-01-23  05:50:00\n",
              "2  The Witcher 3: Wild Hunt 2021-01-23 05:46:00  2021-01-23  05:46:00\n",
              "3  The Witcher 3: Wild Hunt 2021-01-23 05:32:00  2021-01-23  05:32:00\n",
              "4  The Witcher 3: Wild Hunt 2021-01-23 05:23:00  2021-01-23  05:23:00"
            ]
          },
          "metadata": {},
          "execution_count": 9
        }
      ]
    },
    {
      "cell_type": "code",
      "metadata": {
        "id": "-s71CA97K5Kj"
      },
      "source": [
        "dataset5.drop('timestamp_created', axis=1, inplace=True)\n",
        "dataset5.drop('new_date', axis=1, inplace=True)"
      ],
      "execution_count": null,
      "outputs": []
    },
    {
      "cell_type": "code",
      "metadata": {
        "colab": {
          "base_uri": "https://localhost:8080/",
          "height": 200
        },
        "id": "5bE3LPQaL8vI",
        "outputId": "a600fb52-a063-4a85-eae9-c43221bba98b"
      },
      "source": [
        "dataset5.head()"
      ],
      "execution_count": null,
      "outputs": [
        {
          "output_type": "execute_result",
          "data": {
            "text/html": [
              "<div>\n",
              "<style scoped>\n",
              "    .dataframe tbody tr th:only-of-type {\n",
              "        vertical-align: middle;\n",
              "    }\n",
              "\n",
              "    .dataframe tbody tr th {\n",
              "        vertical-align: top;\n",
              "    }\n",
              "\n",
              "    .dataframe thead th {\n",
              "        text-align: right;\n",
              "    }\n",
              "</style>\n",
              "<table border=\"1\" class=\"dataframe\">\n",
              "  <thead>\n",
              "    <tr style=\"text-align: right;\">\n",
              "      <th></th>\n",
              "      <th>app_name</th>\n",
              "      <th>new_time</th>\n",
              "    </tr>\n",
              "  </thead>\n",
              "  <tbody>\n",
              "    <tr>\n",
              "      <th>0</th>\n",
              "      <td>The Witcher 3: Wild Hunt</td>\n",
              "      <td>06:00:00</td>\n",
              "    </tr>\n",
              "    <tr>\n",
              "      <th>1</th>\n",
              "      <td>The Witcher 3: Wild Hunt</td>\n",
              "      <td>05:50:00</td>\n",
              "    </tr>\n",
              "    <tr>\n",
              "      <th>2</th>\n",
              "      <td>The Witcher 3: Wild Hunt</td>\n",
              "      <td>05:46:00</td>\n",
              "    </tr>\n",
              "    <tr>\n",
              "      <th>3</th>\n",
              "      <td>The Witcher 3: Wild Hunt</td>\n",
              "      <td>05:32:00</td>\n",
              "    </tr>\n",
              "    <tr>\n",
              "      <th>4</th>\n",
              "      <td>The Witcher 3: Wild Hunt</td>\n",
              "      <td>05:23:00</td>\n",
              "    </tr>\n",
              "  </tbody>\n",
              "</table>\n",
              "</div>"
            ],
            "text/plain": [
              "                   app_name  new_time\n",
              "0  The Witcher 3: Wild Hunt  06:00:00\n",
              "1  The Witcher 3: Wild Hunt  05:50:00\n",
              "2  The Witcher 3: Wild Hunt  05:46:00\n",
              "3  The Witcher 3: Wild Hunt  05:32:00\n",
              "4  The Witcher 3: Wild Hunt  05:23:00"
            ]
          },
          "metadata": {},
          "execution_count": 11
        }
      ]
    },
    {
      "cell_type": "code",
      "metadata": {
        "id": "vFNa15cPICMt",
        "colab": {
          "base_uri": "https://localhost:8080/",
          "height": 408
        },
        "outputId": "0e8da924-db34-4fde-abe7-368891dd6999"
      },
      "source": [
        "groups=dataset5.groupby('new_time').count()\n",
        "sortreview=groups.sort_values('app_name',ascending= False).reset_index()\n",
        "sortreview.rename(columns={'app_name':'Num_times'})"
      ],
      "execution_count": null,
      "outputs": [
        {
          "output_type": "execute_result",
          "data": {
            "text/html": [
              "<div>\n",
              "<style scoped>\n",
              "    .dataframe tbody tr th:only-of-type {\n",
              "        vertical-align: middle;\n",
              "    }\n",
              "\n",
              "    .dataframe tbody tr th {\n",
              "        vertical-align: top;\n",
              "    }\n",
              "\n",
              "    .dataframe thead th {\n",
              "        text-align: right;\n",
              "    }\n",
              "</style>\n",
              "<table border=\"1\" class=\"dataframe\">\n",
              "  <thead>\n",
              "    <tr style=\"text-align: right;\">\n",
              "      <th></th>\n",
              "      <th>new_time</th>\n",
              "      <th>Num_times</th>\n",
              "    </tr>\n",
              "  </thead>\n",
              "  <tbody>\n",
              "    <tr>\n",
              "      <th>0</th>\n",
              "      <td>14:50:00</td>\n",
              "      <td>19502</td>\n",
              "    </tr>\n",
              "    <tr>\n",
              "      <th>1</th>\n",
              "      <td>15:05:00</td>\n",
              "      <td>19370</td>\n",
              "    </tr>\n",
              "    <tr>\n",
              "      <th>2</th>\n",
              "      <td>14:37:00</td>\n",
              "      <td>19270</td>\n",
              "    </tr>\n",
              "    <tr>\n",
              "      <th>3</th>\n",
              "      <td>15:07:00</td>\n",
              "      <td>19248</td>\n",
              "    </tr>\n",
              "    <tr>\n",
              "      <th>4</th>\n",
              "      <td>15:04:00</td>\n",
              "      <td>19237</td>\n",
              "    </tr>\n",
              "    <tr>\n",
              "      <th>...</th>\n",
              "      <td>...</td>\n",
              "      <td>...</td>\n",
              "    </tr>\n",
              "    <tr>\n",
              "      <th>1435</th>\n",
              "      <td>06:07:00</td>\n",
              "      <td>11748</td>\n",
              "    </tr>\n",
              "    <tr>\n",
              "      <th>1436</th>\n",
              "      <td>05:54:00</td>\n",
              "      <td>11745</td>\n",
              "    </tr>\n",
              "    <tr>\n",
              "      <th>1437</th>\n",
              "      <td>05:51:00</td>\n",
              "      <td>11735</td>\n",
              "    </tr>\n",
              "    <tr>\n",
              "      <th>1438</th>\n",
              "      <td>06:20:00</td>\n",
              "      <td>11671</td>\n",
              "    </tr>\n",
              "    <tr>\n",
              "      <th>1439</th>\n",
              "      <td>06:02:00</td>\n",
              "      <td>11670</td>\n",
              "    </tr>\n",
              "  </tbody>\n",
              "</table>\n",
              "<p>1440 rows × 2 columns</p>\n",
              "</div>"
            ],
            "text/plain": [
              "      new_time  Num_times\n",
              "0     14:50:00      19502\n",
              "1     15:05:00      19370\n",
              "2     14:37:00      19270\n",
              "3     15:07:00      19248\n",
              "4     15:04:00      19237\n",
              "...        ...        ...\n",
              "1435  06:07:00      11748\n",
              "1436  05:54:00      11745\n",
              "1437  05:51:00      11735\n",
              "1438  06:20:00      11671\n",
              "1439  06:02:00      11670\n",
              "\n",
              "[1440 rows x 2 columns]"
            ]
          },
          "metadata": {},
          "execution_count": 12
        }
      ]
    },
    {
      "cell_type": "code",
      "metadata": {
        "colab": {
          "base_uri": "https://localhost:8080/"
        },
        "id": "hzFeZ_fRWCGL",
        "outputId": "8602c679-0ae9-4b35-e70b-21f630ea10c2"
      },
      "source": [
        "groups.idxmax()"
      ],
      "execution_count": null,
      "outputs": [
        {
          "output_type": "execute_result",
          "data": {
            "text/plain": [
              "app_name    14:50:00\n",
              "dtype: object"
            ]
          },
          "metadata": {},
          "execution_count": 13
        }
      ]
    },
    {
      "cell_type": "code",
      "metadata": {
        "colab": {
          "base_uri": "https://localhost:8080/"
        },
        "id": "zgsAuC_eWr7f",
        "outputId": "9fa289cf-9cbb-4fa1-a97c-1119cc998d20"
      },
      "source": [
        "groups.idxmin()"
      ],
      "execution_count": null,
      "outputs": [
        {
          "output_type": "execute_result",
          "data": {
            "text/plain": [
              "app_name    06:02:00\n",
              "dtype: object"
            ]
          },
          "metadata": {},
          "execution_count": 14
        }
      ]
    },
    {
      "cell_type": "markdown",
      "metadata": {
        "id": "Yg9CfLbTYMBN"
      },
      "source": [
        "14:50 is the most common time that authors review an application, instead 06:02 is the worst common time. "
      ]
    },
    {
      "cell_type": "markdown",
      "metadata": {
        "id": "Xl5gMe2lk_-4"
      },
      "source": [
        "### Create a function that receives as a parameter a list of time intervals and returns the plot the number of reviews for each of the intervals."
      ]
    },
    {
      "cell_type": "code",
      "metadata": {
        "id": "pQXoAk_lmHX2"
      },
      "source": [
        "dataset5 = pd.read_csv(\"/content/drive/MyDrive/ADMHW2/steam_reviews.csv\",usecols=['review_id','app_name','timestamp_created'],parse_dates=['timestamp_created'],date_parser=parsedate)"
      ],
      "execution_count": null,
      "outputs": []
    },
    {
      "cell_type": "code",
      "metadata": {
        "colab": {
          "base_uri": "https://localhost:8080/",
          "height": 408
        },
        "id": "pfyTXaoSnL9X",
        "outputId": "f7fbd1f2-3b3d-4fe6-b581-d2a5acf6026d"
      },
      "source": [
        "dataset5"
      ],
      "execution_count": null,
      "outputs": [
        {
          "output_type": "execute_result",
          "data": {
            "text/html": [
              "<div>\n",
              "<style scoped>\n",
              "    .dataframe tbody tr th:only-of-type {\n",
              "        vertical-align: middle;\n",
              "    }\n",
              "\n",
              "    .dataframe tbody tr th {\n",
              "        vertical-align: top;\n",
              "    }\n",
              "\n",
              "    .dataframe thead th {\n",
              "        text-align: right;\n",
              "    }\n",
              "</style>\n",
              "<table border=\"1\" class=\"dataframe\">\n",
              "  <thead>\n",
              "    <tr style=\"text-align: right;\">\n",
              "      <th></th>\n",
              "      <th>app_name</th>\n",
              "      <th>review_id</th>\n",
              "      <th>timestamp_created</th>\n",
              "    </tr>\n",
              "  </thead>\n",
              "  <tbody>\n",
              "    <tr>\n",
              "      <th>0</th>\n",
              "      <td>The Witcher 3: Wild Hunt</td>\n",
              "      <td>85185598</td>\n",
              "      <td>2021-01-23 06:00:29</td>\n",
              "    </tr>\n",
              "    <tr>\n",
              "      <th>1</th>\n",
              "      <td>The Witcher 3: Wild Hunt</td>\n",
              "      <td>85185250</td>\n",
              "      <td>2021-01-23 05:50:30</td>\n",
              "    </tr>\n",
              "    <tr>\n",
              "      <th>2</th>\n",
              "      <td>The Witcher 3: Wild Hunt</td>\n",
              "      <td>85185111</td>\n",
              "      <td>2021-01-23 05:46:40</td>\n",
              "    </tr>\n",
              "    <tr>\n",
              "      <th>3</th>\n",
              "      <td>The Witcher 3: Wild Hunt</td>\n",
              "      <td>85184605</td>\n",
              "      <td>2021-01-23 05:32:50</td>\n",
              "    </tr>\n",
              "    <tr>\n",
              "      <th>4</th>\n",
              "      <td>The Witcher 3: Wild Hunt</td>\n",
              "      <td>85184287</td>\n",
              "      <td>2021-01-23 05:23:47</td>\n",
              "    </tr>\n",
              "    <tr>\n",
              "      <th>...</th>\n",
              "      <td>...</td>\n",
              "      <td>...</td>\n",
              "      <td>...</td>\n",
              "    </tr>\n",
              "    <tr>\n",
              "      <th>21747366</th>\n",
              "      <td>Half-Life: Alyx</td>\n",
              "      <td>65645125</td>\n",
              "      <td>2020-03-23 18:05:04</td>\n",
              "    </tr>\n",
              "    <tr>\n",
              "      <th>21747367</th>\n",
              "      <td>Half-Life: Alyx</td>\n",
              "      <td>65645115</td>\n",
              "      <td>2020-03-23 18:04:53</td>\n",
              "    </tr>\n",
              "    <tr>\n",
              "      <th>21747368</th>\n",
              "      <td>Half-Life: Alyx</td>\n",
              "      <td>65645100</td>\n",
              "      <td>2020-03-23 18:04:33</td>\n",
              "    </tr>\n",
              "    <tr>\n",
              "      <th>21747369</th>\n",
              "      <td>Half-Life: Alyx</td>\n",
              "      <td>65645066</td>\n",
              "      <td>2020-03-23 18:03:51</td>\n",
              "    </tr>\n",
              "    <tr>\n",
              "      <th>21747370</th>\n",
              "      <td>Half-Life: Alyx</td>\n",
              "      <td>65644930</td>\n",
              "      <td>2020-03-23 18:01:45</td>\n",
              "    </tr>\n",
              "  </tbody>\n",
              "</table>\n",
              "<p>21747371 rows × 3 columns</p>\n",
              "</div>"
            ],
            "text/plain": [
              "                          app_name  review_id   timestamp_created\n",
              "0         The Witcher 3: Wild Hunt   85185598 2021-01-23 06:00:29\n",
              "1         The Witcher 3: Wild Hunt   85185250 2021-01-23 05:50:30\n",
              "2         The Witcher 3: Wild Hunt   85185111 2021-01-23 05:46:40\n",
              "3         The Witcher 3: Wild Hunt   85184605 2021-01-23 05:32:50\n",
              "4         The Witcher 3: Wild Hunt   85184287 2021-01-23 05:23:47\n",
              "...                            ...        ...                 ...\n",
              "21747366           Half-Life: Alyx   65645125 2020-03-23 18:05:04\n",
              "21747367           Half-Life: Alyx   65645115 2020-03-23 18:04:53\n",
              "21747368           Half-Life: Alyx   65645100 2020-03-23 18:04:33\n",
              "21747369           Half-Life: Alyx   65645066 2020-03-23 18:03:51\n",
              "21747370           Half-Life: Alyx   65644930 2020-03-23 18:01:45\n",
              "\n",
              "[21747371 rows x 3 columns]"
            ]
          },
          "metadata": {},
          "execution_count": 16
        }
      ]
    },
    {
      "cell_type": "code",
      "metadata": {
        "colab": {
          "base_uri": "https://localhost:8080/",
          "height": 295
        },
        "id": "V-dHf0c3YoBw",
        "outputId": "1869018c-bc3a-4d0d-9609-b79e476f9dc6"
      },
      "source": [
        "def revperint(t_col):\n",
        "    t_col = [datetime.datetime.strptime(t, '%H:%M:%S') for t in t_col]\n",
        "    sec_1 = []\n",
        "    min_1 = []\n",
        "    ora_1 = []\n",
        "    number_reviews = []\n",
        "    for i in range(len(t_col)):\n",
        "        sec_1.append(t_col[i].time().second)\n",
        "        min_1.append(t_col[i].time().minute)\n",
        "        ora_1.append(t_col[i].time().hour)\n",
        "    for i in range(0, len(t_col), 2):\n",
        "        number_reviews.append(dataset5[((dataset5['timestamp_created'].dt.hour >= ora_1[i]) & (dataset5['timestamp_created'].dt.minute >= min_1[i])) & (dataset5['timestamp_created'].dt.hour <= ora_1[i+1]) & (dataset5['timestamp_created'].dt.minute <= min_1[i+1]) & (dataset5['timestamp_created'].dt.second <= sec_1[i+1])].review_id.count())\n",
        "        xx = ['5am', '9am', '1pm', '4pm', '9pm', '12am', '2am']\n",
        "    plt.bar(xx, number_reviews, color = 'green')\n",
        "    plt.yscale('log')\n",
        "    plt.yticks([2000000, 2500000, 3000000, 3500000, 4000000])\n",
        "    plt.title('Number of reviews per interval')\n",
        "    plt.xlabel('Intervals')\n",
        "    plt.ylabel('Number of reviews')\n",
        "    plt.show()\n",
        "\n",
        "int = ['05:00:00', '08:59:59', '09:00:00', '12:59:59', '13:00:00', '15:59:59',\n",
        "        '16:00:00', '20:59:59', '21:00:00', '23:59:59', '00:00:00', '01:59:59', '02:00:00',\n",
        "        '04:59:59']\n",
        "\n",
        "revperint(int)"
      ],
      "execution_count": null,
      "outputs": [
        {
          "output_type": "display_data",
          "data": {
            "image/png": "[encoded data removed]",
            "text/plain": [
              "<Figure size 432x288 with 1 Axes>"
            ]
          },
          "metadata": {
            "needs_background": "light"
          }
        }
      ]
    },
    {
      "cell_type": "markdown",
      "metadata": {
        "id": "Sgu-91U9pOjk"
      },
      "source": [
        "intervals = ['06:00:00', '10:59:59', '11:00:00', '13:59:59', '14:00:00', '16:59:59',\n",
        "        '17:00:00', '19:59:59', '20:00:00', '23:59:59', '00:00:00', '02:59:59', '03:00:00',\n",
        "        '05:59:59']"
      ]
    },
    {
      "cell_type": "code",
      "metadata": {
        "id": "XmMJUvip38dP",
        "colab": {
          "base_uri": "https://localhost:8080/",
          "height": 295
        },
        "outputId": "3ddb6633-32a1-4dc6-8363-b0b7f18bb780"
      },
      "source": [
        "def revperint(t_col):\n",
        "    t_col = [datetime.datetime.strptime(t, '%H:%M:%S') for t in t_col]\n",
        "    sec_1 = []\n",
        "    min_1 = []\n",
        "    ora_1 = []\n",
        "    number_reviews = []\n",
        "    for i in range(len(t_col)):\n",
        "        sec_1.append(t_col[i].time().second)\n",
        "        min_1.append(t_col[i].time().minute)\n",
        "        ora_1.append(t_col[i].time().hour)\n",
        "    for i in range(0, len(t_col), 2):\n",
        "        number_reviews.append(dataset5[((dataset5['timestamp_created'].dt.hour >= ora_1[i]) & (dataset5['timestamp_created'].dt.minute >= min_1[i])) & (dataset5['timestamp_created'].dt.hour <= ora_1[i+1]) & (dataset5['timestamp_created'].dt.minute <= min_1[i+1]) & (dataset5['timestamp_created'].dt.second <= sec_1[i+1])].review_id.count())\n",
        "        xx = ['6am', '11am', '2pm', '5pm', '8pm', '12am', '3am']\n",
        "    plt.bar(xx, number_reviews, color = 'green')\n",
        "    plt.yscale('log')\n",
        "    plt.yticks([2000000, 2500000, 3000000, 3500000, 4000000])\n",
        "    plt.title('Number of reviews per interval')\n",
        "    plt.xlabel('Intervals')\n",
        "    plt.ylabel('Number of reviews')\n",
        "    plt.show()\n",
        "\n",
        "intervals = ['06:00:00', '10:59:59', '11:00:00', '13:59:59', '14:00:00', '16:59:59',\n",
        "        '17:00:00', '19:59:59', '20:00:00', '23:59:59', '00:00:00', '02:59:59', '03:00:00',\n",
        "        '05:59:59']\n",
        "\n",
        "revperint(intervals)\n",
        "\n"
      ],
      "execution_count": null,
      "outputs": [
        {
          "output_type": "display_data",
          "data": {
            "image/png": "[encoded data removed]",
            "text/plain": [
              "<Figure size 432x288 with 1 Axes>"
            ]
          },
          "metadata": {
            "needs_background": "light"
          }
        }
      ]
    },
    {
      "cell_type": "markdown",
      "metadata": {
        "id": "jDfM-Te2AaXX"
      },
      "source": [
        "##RQ4\n"
      ]
    },
    {
      "cell_type": "markdown",
      "metadata": {
        "id": "cCZK8x0O1EZ1"
      },
      "source": [
        "### What are the top 3 languages used to review applications?"
      ]
    },
    {
      "cell_type": "code",
      "metadata": {
        "id": "_PE8ba0zxi8u"
      },
      "source": [
        "dataset6 = pd.read_csv(\"/content/drive/MyDrive/ADMHW2/steam_reviews.csv\",usecols=['app_name','language'])"
      ],
      "execution_count": null,
      "outputs": []
    },
    {
      "cell_type": "code",
      "metadata": {
        "id": "Vc6RLsc3xtYZ"
      },
      "source": [
        "top_threelanguage_n = 3\n",
        "top_threelanguage = dataset6.loc[:,'language'].value_counts()\\\n",
        "[:top_threelanguage_n].sort_values(ascending=False)"
      ],
      "execution_count": null,
      "outputs": []
    },
    {
      "cell_type": "code",
      "metadata": {
        "colab": {
          "base_uri": "https://localhost:8080/"
        },
        "id": "0pKB1EEM0Mvt",
        "outputId": "a832be4f-c253-4d02-b7c9-bcfcad9f4ad2"
      },
      "source": [
        "top_threelanguage"
      ],
      "execution_count": null,
      "outputs": [
        {
          "output_type": "execute_result",
          "data": {
            "text/plain": [
              "english     9635437\n",
              "schinese    3764967\n",
              "russian     2348900\n",
              "Name: language, dtype: int64"
            ]
          },
          "metadata": {},
          "execution_count": 21
        }
      ]
    },
    {
      "cell_type": "markdown",
      "metadata": {
        "id": "jXzRt3FEaUTO"
      },
      "source": [
        "the top three language used to review applications are english, schinese and russian"
      ]
    },
    {
      "cell_type": "code",
      "metadata": {
        "colab": {
          "base_uri": "https://localhost:8080/",
          "height": 543
        },
        "id": "5aWZ7jhK0RU3",
        "outputId": "3460bb3d-b30b-4f27-ae82-73e142b00745"
      },
      "source": [
        "plt.rcParams['figure.figsize']=(8,8)\n",
        "top_threelanguage.plot(kind=\"bar\")\n"
      ],
      "execution_count": null,
      "outputs": [
        {
          "output_type": "execute_result",
          "data": {
            "text/plain": [
              "<matplotlib.axes._subplots.AxesSubplot at 0x7fa51a7a0290>"
            ]
          },
          "metadata": {},
          "execution_count": 22
        },
        {
          "output_type": "display_data",
          "data": {
            "image/png": "[encoded data removed]",
            "text/plain": [
              "<Figure size 576x576 with 1 Axes>"
            ]
          },
          "metadata": {
            "needs_background": "light"
          }
        }
      ]
    },
    {
      "cell_type": "code",
      "metadata": {
        "colab": {
          "base_uri": "https://localhost:8080/",
          "height": 466
        },
        "id": "jjx4nQv50hhB",
        "outputId": "c01eb198-c5ca-488d-cb9f-ffc20627156f"
      },
      "source": [
        "plt.rcParams['figure.figsize']=(8,8)\n",
        "plt.pie(top_threelanguage,labels=top_threelanguage.index,shadow=True,autopct='%.1f%%')\n",
        "plt.legend()\n",
        "plt.show()"
      ],
      "execution_count": null,
      "outputs": [
        {
          "output_type": "display_data",
          "data": {
            "image/png": "[encoded data removed]",
            "text/plain": [
              "<Figure size 576x576 with 1 Axes>"
            ]
          },
          "metadata": {}
        }
      ]
    },
    {
      "cell_type": "markdown",
      "metadata": {
        "id": "FUEZdPYi1JfK"
      },
      "source": [
        "### Create a function that receives as parameters both the name of a data set and a list of languages’ names and returns a data frame filtered only with the reviews written in the provided languages."
      ]
    },
    {
      "cell_type": "code",
      "metadata": {
        "id": "lffsLTa00sjO"
      },
      "source": [
        "def reviewslang(df,languagelist):\n",
        "  boolean_series = df.language.isin(languagelist)\n",
        "  df = df[boolean_series]\n",
        "  return df"
      ],
      "execution_count": null,
      "outputs": []
    },
    {
      "cell_type": "code",
      "metadata": {
        "colab": {
          "base_uri": "https://localhost:8080/",
          "height": 414
        },
        "id": "_DCn9ooO2RwX",
        "outputId": "2ab88b19-d14f-4541-9c5a-6b7acffd05b6"
      },
      "source": [
        "reviewslang(dataset6,['english','russian'])"
      ],
      "execution_count": null,
      "outputs": [
        {
          "output_type": "execute_result",
          "data": {
            "text/html": [
              "<div>\n",
              "<style scoped>\n",
              "    .dataframe tbody tr th:only-of-type {\n",
              "        vertical-align: middle;\n",
              "    }\n",
              "\n",
              "    .dataframe tbody tr th {\n",
              "        vertical-align: top;\n",
              "    }\n",
              "\n",
              "    .dataframe thead th {\n",
              "        text-align: right;\n",
              "    }\n",
              "</style>\n",
              "<table border=\"1\" class=\"dataframe\">\n",
              "  <thead>\n",
              "    <tr style=\"text-align: right;\">\n",
              "      <th></th>\n",
              "      <th>app_name</th>\n",
              "      <th>language</th>\n",
              "    </tr>\n",
              "  </thead>\n",
              "  <tbody>\n",
              "    <tr>\n",
              "      <th>3</th>\n",
              "      <td>The Witcher 3: Wild Hunt</td>\n",
              "      <td>english</td>\n",
              "    </tr>\n",
              "    <tr>\n",
              "      <th>5</th>\n",
              "      <td>The Witcher 3: Wild Hunt</td>\n",
              "      <td>english</td>\n",
              "    </tr>\n",
              "    <tr>\n",
              "      <th>6</th>\n",
              "      <td>The Witcher 3: Wild Hunt</td>\n",
              "      <td>english</td>\n",
              "    </tr>\n",
              "    <tr>\n",
              "      <th>11</th>\n",
              "      <td>The Witcher 3: Wild Hunt</td>\n",
              "      <td>russian</td>\n",
              "    </tr>\n",
              "    <tr>\n",
              "      <th>13</th>\n",
              "      <td>The Witcher 3: Wild Hunt</td>\n",
              "      <td>russian</td>\n",
              "    </tr>\n",
              "    <tr>\n",
              "      <th>...</th>\n",
              "      <td>...</td>\n",
              "      <td>...</td>\n",
              "    </tr>\n",
              "    <tr>\n",
              "      <th>21747364</th>\n",
              "      <td>Half-Life: Alyx</td>\n",
              "      <td>english</td>\n",
              "    </tr>\n",
              "    <tr>\n",
              "      <th>21747366</th>\n",
              "      <td>Half-Life: Alyx</td>\n",
              "      <td>english</td>\n",
              "    </tr>\n",
              "    <tr>\n",
              "      <th>21747367</th>\n",
              "      <td>Half-Life: Alyx</td>\n",
              "      <td>english</td>\n",
              "    </tr>\n",
              "    <tr>\n",
              "      <th>21747368</th>\n",
              "      <td>Half-Life: Alyx</td>\n",
              "      <td>english</td>\n",
              "    </tr>\n",
              "    <tr>\n",
              "      <th>21747369</th>\n",
              "      <td>Half-Life: Alyx</td>\n",
              "      <td>english</td>\n",
              "    </tr>\n",
              "  </tbody>\n",
              "</table>\n",
              "<p>11984337 rows × 2 columns</p>\n",
              "</div>"
            ],
            "text/plain": [
              "                          app_name language\n",
              "3         The Witcher 3: Wild Hunt  english\n",
              "5         The Witcher 3: Wild Hunt  english\n",
              "6         The Witcher 3: Wild Hunt  english\n",
              "11        The Witcher 3: Wild Hunt  russian\n",
              "13        The Witcher 3: Wild Hunt  russian\n",
              "...                            ...      ...\n",
              "21747364           Half-Life: Alyx  english\n",
              "21747366           Half-Life: Alyx  english\n",
              "21747367           Half-Life: Alyx  english\n",
              "21747368           Half-Life: Alyx  english\n",
              "21747369           Half-Life: Alyx  english\n",
              "\n",
              "[11984337 rows x 2 columns]"
            ]
          },
          "metadata": {},
          "execution_count": 100
        }
      ]
    },
    {
      "cell_type": "markdown",
      "metadata": {
        "id": "rI_JjbJ958C9"
      },
      "source": [
        "#Use the function created in the previous literal to find what percentage of these reviews (associated with the top 3 languages) were voted as funny?"
      ]
    },
    {
      "cell_type": "code",
      "metadata": {
        "id": "fyuxBvBN2ZBC"
      },
      "source": [
        "dataset6 = pd.read_csv(\"/content/drive/MyDrive/AMD/Dataset/Homework2/steam_reviews/steam_reviews.csv\",usecols=['app_name','language','votes_funny'])"
      ],
      "execution_count": null,
      "outputs": []
    },
    {
      "cell_type": "code",
      "metadata": {
        "colab": {
          "base_uri": "https://localhost:8080/"
        },
        "id": "yCQ7l_eK6QEL",
        "outputId": "3cb066d1-9bf8-4953-a1e4-c1fb127fdc2e"
      },
      "source": [
        "rv=(reviewslang(dataset6,['english','russian','schinese'])[dataset6.votes_funny == 1].count().app_name/dataset6.count().app_name)"
      ],
      "execution_count": null,
      "outputs": [
        {
          "output_type": "stream",
          "name": "stderr",
          "text": [
            "/usr/local/lib/python3.7/dist-packages/ipykernel_launcher.py:1: UserWarning: Boolean Series key will be reindexed to match DataFrame index.\n",
            "  \"\"\"Entry point for launching an IPython kernel.\n"
          ]
        }
      ]
    },
    {
      "cell_type": "code",
      "metadata": {
        "colab": {
          "base_uri": "https://localhost:8080/",
          "height": 35
        },
        "id": "gv7TmqaP7anI",
        "outputId": "020fb3e8-cb45-4a7c-8132-542bdd70015c"
      },
      "source": [
        "\"{:.0%}\".format(rv)"
      ],
      "execution_count": null,
      "outputs": [
        {
          "output_type": "execute_result",
          "data": {
            "application/vnd.google.colaboratory.intrinsic+json": {
              "type": "string"
            },
            "text/plain": [
              "'6%'"
            ]
          },
          "metadata": {},
          "execution_count": 15
        }
      ]
    },
    {
      "cell_type": "markdown",
      "metadata": {
        "id": "ofEjQNdeaq8o"
      },
      "source": [
        "only 6% of these reviews were voted as funny"
      ]
    },
    {
      "cell_type": "markdown",
      "metadata": {
        "id": "bdeCW7gS-ns7"
      },
      "source": [
        "# Use the function created in the literal “a” to find what percentage of these reviews (associated with the top 3 languages) were voted as helpful?\n"
      ]
    },
    {
      "cell_type": "code",
      "metadata": {
        "id": "02Wj986v9_t4"
      },
      "source": [
        "dataset7=pd.read_csv(\"/content/drive/MyDrive/AMD/Dataset/Homework2/steam_reviews/steam_reviews.csv\",usecols=['app_name','language','votes_helpful'])"
      ],
      "execution_count": null,
      "outputs": []
    },
    {
      "cell_type": "code",
      "metadata": {
        "colab": {
          "base_uri": "https://localhost:8080/"
        },
        "id": "lm2JQxwV-xUF",
        "outputId": "f3367b0d-12fd-43c1-954d-d1c47fe944ea"
      },
      "source": [
        "rv1=(reviewslang(dataset7,['english','russian','schinese'])[dataset7.votes_helpful == 1].count().app_name/dataset7.count().app_name)"
      ],
      "execution_count": null,
      "outputs": [
        {
          "output_type": "stream",
          "name": "stderr",
          "text": [
            "/usr/local/lib/python3.7/dist-packages/ipykernel_launcher.py:1: UserWarning: Boolean Series key will be reindexed to match DataFrame index.\n",
            "  \"\"\"Entry point for launching an IPython kernel.\n"
          ]
        }
      ]
    },
    {
      "cell_type": "code",
      "metadata": {
        "colab": {
          "base_uri": "https://localhost:8080/",
          "height": 35
        },
        "id": "gHhar1YR_2ym",
        "outputId": "66ee4092-bea4-4ea9-b839-1f4da09ecd5a"
      },
      "source": [
        "\"{:.0%}\".format(rv1)"
      ],
      "execution_count": null,
      "outputs": [
        {
          "output_type": "execute_result",
          "data": {
            "application/vnd.google.colaboratory.intrinsic+json": {
              "type": "string"
            },
            "text/plain": [
              "'12%'"
            ]
          },
          "metadata": {},
          "execution_count": 19
        }
      ]
    },
    {
      "cell_type": "markdown",
      "metadata": {
        "id": "vQAiG8J4a02d"
      },
      "source": [
        "12% of these reviews were voted as helpful"
      ]
    },
    {
      "cell_type": "markdown",
      "metadata": {
        "id": "0SrBZsQxBDC-"
      },
      "source": [
        "## [RQ5] "
      ]
    },
    {
      "cell_type": "markdown",
      "metadata": {
        "id": "Hj_3gBBkBLFc"
      },
      "source": [
        "### Plot the top 10 most popular reviewers and the number of reviews."
      ]
    },
    {
      "cell_type": "markdown",
      "metadata": {
        "id": "ywiqnWDsIJxs"
      },
      "source": [
        "#### Popularity considering the number of reviews (1)"
      ]
    },
    {
      "cell_type": "code",
      "metadata": {
        "id": "UWMwrHIRBKdG"
      },
      "source": [
        "dataset8=pd.read_csv(\"/content/drive/MyDrive/AMD/Dataset/Homework2/steam_reviews/steam_reviews.csv\",usecols=['author.steamid','author.num_reviews'])"
      ],
      "execution_count": null,
      "outputs": []
    },
    {
      "cell_type": "code",
      "metadata": {
        "id": "0nbFfpW9_9lM"
      },
      "source": [
        "authornumreviewssorted=dataset8.sort_values(by='author.num_reviews',ascending=False).drop_duplicates('author.steamid')"
      ],
      "execution_count": null,
      "outputs": []
    },
    {
      "cell_type": "code",
      "metadata": {
        "id": "moFpD4LJEZsR"
      },
      "source": [
        "popauthors=authornumreviewssorted[:10]"
      ],
      "execution_count": null,
      "outputs": []
    },
    {
      "cell_type": "code",
      "metadata": {
        "colab": {
          "base_uri": "https://localhost:8080/",
          "height": 355
        },
        "id": "gmwSZRhwHtUX",
        "outputId": "df968ce1-71a6-4b84-9b09-bf2beb2225a1"
      },
      "source": [
        "popauthors"
      ],
      "execution_count": null,
      "outputs": [
        {
          "output_type": "execute_result",
          "data": {
            "text/html": [
              "<div>\n",
              "<style scoped>\n",
              "    .dataframe tbody tr th:only-of-type {\n",
              "        vertical-align: middle;\n",
              "    }\n",
              "\n",
              "    .dataframe tbody tr th {\n",
              "        vertical-align: top;\n",
              "    }\n",
              "\n",
              "    .dataframe thead th {\n",
              "        text-align: right;\n",
              "    }\n",
              "</style>\n",
              "<table border=\"1\" class=\"dataframe\">\n",
              "  <thead>\n",
              "    <tr style=\"text-align: right;\">\n",
              "      <th></th>\n",
              "      <th>author.steamid</th>\n",
              "      <th>author.num_reviews</th>\n",
              "    </tr>\n",
              "  </thead>\n",
              "  <tbody>\n",
              "    <tr>\n",
              "      <th>13093694</th>\n",
              "      <td>76561198103272004</td>\n",
              "      <td>4398046511108</td>\n",
              "    </tr>\n",
              "    <tr>\n",
              "      <th>5663041</th>\n",
              "      <td>76561198848008157</td>\n",
              "      <td>4398046511105</td>\n",
              "    </tr>\n",
              "    <tr>\n",
              "      <th>20635080</th>\n",
              "      <td>76561198125392509</td>\n",
              "      <td>5236</td>\n",
              "    </tr>\n",
              "    <tr>\n",
              "      <th>9573424</th>\n",
              "      <td>76561198135438892</td>\n",
              "      <td>5148</td>\n",
              "    </tr>\n",
              "    <tr>\n",
              "      <th>19317066</th>\n",
              "      <td>76561198116879965</td>\n",
              "      <td>4795</td>\n",
              "    </tr>\n",
              "    <tr>\n",
              "      <th>20506779</th>\n",
              "      <td>76561197960373660</td>\n",
              "      <td>4137</td>\n",
              "    </tr>\n",
              "    <tr>\n",
              "      <th>20916025</th>\n",
              "      <td>76561198057389389</td>\n",
              "      <td>3775</td>\n",
              "    </tr>\n",
              "    <tr>\n",
              "      <th>12646364</th>\n",
              "      <td>76561198030784015</td>\n",
              "      <td>3473</td>\n",
              "    </tr>\n",
              "    <tr>\n",
              "      <th>21738795</th>\n",
              "      <td>76561197974092119</td>\n",
              "      <td>3468</td>\n",
              "    </tr>\n",
              "    <tr>\n",
              "      <th>20423630</th>\n",
              "      <td>76561198172925593</td>\n",
              "      <td>3216</td>\n",
              "    </tr>\n",
              "  </tbody>\n",
              "</table>\n",
              "</div>"
            ],
            "text/plain": [
              "             author.steamid  author.num_reviews\n",
              "13093694  76561198103272004       4398046511108\n",
              "5663041   76561198848008157       4398046511105\n",
              "20635080  76561198125392509                5236\n",
              "9573424   76561198135438892                5148\n",
              "19317066  76561198116879965                4795\n",
              "20506779  76561197960373660                4137\n",
              "20916025  76561198057389389                3775\n",
              "12646364  76561198030784015                3473\n",
              "21738795  76561197974092119                3468\n",
              "20423630  76561198172925593                3216"
            ]
          },
          "metadata": {},
          "execution_count": 59
        }
      ]
    },
    {
      "cell_type": "markdown",
      "metadata": {
        "id": "LiimuHdJIOqs"
      },
      "source": [
        "#### Popularity considering the number of reviews registred in this dataset (2)"
      ]
    },
    {
      "cell_type": "code",
      "metadata": {
        "colab": {
          "base_uri": "https://localhost:8080/"
        },
        "id": "33r7sbArIVWv",
        "outputId": "392617b0-01a9-42a0-817d-17d357452822"
      },
      "source": [
        "populars=dataset3['author.steamid'].value_counts()\n",
        "populars[0:10]"
      ],
      "execution_count": null,
      "outputs": [
        {
          "output_type": "execute_result",
          "data": {
            "text/plain": [
              "76561198062813911    149\n",
              "76561198315585536    132\n",
              "76561198192166873    107\n",
              "76561198239163744    106\n",
              "76561198045381877    103\n",
              "76561198064946151    100\n",
              "76561198013146396     99\n",
              "76561198027973295     96\n",
              "76561197969749884     88\n",
              "76561197989746995     86\n",
              "Name: author.steamid, dtype: int64"
            ]
          },
          "metadata": {},
          "execution_count": 118
        }
      ]
    },
    {
      "cell_type": "markdown",
      "metadata": {
        "id": "zAv6vhG5I4T8"
      },
      "source": [
        "These are the top popular authors regarding the number of their reviews in this dataset."
      ]
    },
    {
      "cell_type": "markdown",
      "metadata": {
        "id": "86IYYLREC9xb"
      },
      "source": [
        "### What applications did the most popular author review?"
      ]
    },
    {
      "cell_type": "markdown",
      "metadata": {
        "id": "wYwZYtuwFkHr"
      },
      "source": [
        "From (1), the most popular author's steam id is 76561198103272004. "
      ]
    },
    {
      "cell_type": "code",
      "metadata": {
        "id": "k6x-_LkMTiUF"
      },
      "source": [
        "dataset3=pd.read_csv(\"/content/drive/MyDrive/AMD/Dataset/Homework2/steam_reviews/steam_reviews.csv\",usecols=['author.steamid','app_name'])"
      ],
      "execution_count": null,
      "outputs": []
    },
    {
      "cell_type": "code",
      "metadata": {
        "colab": {
          "base_uri": "https://localhost:8080/",
          "height": 79
        },
        "id": "Icd5wKnmHFIe",
        "outputId": "c8b40940-a686-4f59-8c08-66f40004bfdf"
      },
      "source": [
        "popauthorgames=dataset3.loc[dataset3['author.steamid'] == 76561198103272004 ]\n",
        "popauthorgames"
      ],
      "execution_count": null,
      "outputs": [
        {
          "output_type": "execute_result",
          "data": {
            "text/html": [
              "<div>\n",
              "<style scoped>\n",
              "    .dataframe tbody tr th:only-of-type {\n",
              "        vertical-align: middle;\n",
              "    }\n",
              "\n",
              "    .dataframe tbody tr th {\n",
              "        vertical-align: top;\n",
              "    }\n",
              "\n",
              "    .dataframe thead th {\n",
              "        text-align: right;\n",
              "    }\n",
              "</style>\n",
              "<table border=\"1\" class=\"dataframe\">\n",
              "  <thead>\n",
              "    <tr style=\"text-align: right;\">\n",
              "      <th></th>\n",
              "      <th>app_name</th>\n",
              "      <th>author.steamid</th>\n",
              "    </tr>\n",
              "  </thead>\n",
              "  <tbody>\n",
              "    <tr>\n",
              "      <th>13093694</th>\n",
              "      <td>Grand Theft Auto V</td>\n",
              "      <td>76561198103272004</td>\n",
              "    </tr>\n",
              "  </tbody>\n",
              "</table>\n",
              "</div>"
            ],
            "text/plain": [
              "                    app_name     author.steamid\n",
              "13093694  Grand Theft Auto V  76561198103272004"
            ]
          },
          "metadata": {},
          "execution_count": 114
        }
      ]
    },
    {
      "cell_type": "markdown",
      "metadata": {
        "id": "1LrDo0IVH3qF"
      },
      "source": [
        "The most popular author reviewed one game in this dataset which is Grand Theft Auto V."
      ]
    },
    {
      "cell_type": "markdown",
      "metadata": {
        "id": "cEjWcYQCJNHB"
      },
      "source": [
        "From (2), the most popular author's steam ID is 76561198062813911 ."
      ]
    },
    {
      "cell_type": "code",
      "metadata": {
        "colab": {
          "base_uri": "https://localhost:8080/",
          "height": 414
        },
        "id": "A-KKTsZrJMJO",
        "outputId": "c94b92e3-2dd5-409a-872d-3a1efbbe3c81"
      },
      "source": [
        "popauthorgames1=dataset3.loc[dataset3['author.steamid'] == 76561198062813911 ]\n",
        "popauthorgames1"
      ],
      "execution_count": null,
      "outputs": [
        {
          "output_type": "execute_result",
          "data": {
            "text/html": [
              "<div>\n",
              "<style scoped>\n",
              "    .dataframe tbody tr th:only-of-type {\n",
              "        vertical-align: middle;\n",
              "    }\n",
              "\n",
              "    .dataframe tbody tr th {\n",
              "        vertical-align: top;\n",
              "    }\n",
              "\n",
              "    .dataframe thead th {\n",
              "        text-align: right;\n",
              "    }\n",
              "</style>\n",
              "<table border=\"1\" class=\"dataframe\">\n",
              "  <thead>\n",
              "    <tr style=\"text-align: right;\">\n",
              "      <th></th>\n",
              "      <th>app_name</th>\n",
              "      <th>author.steamid</th>\n",
              "    </tr>\n",
              "  </thead>\n",
              "  <tbody>\n",
              "    <tr>\n",
              "      <th>512675</th>\n",
              "      <td>Half-Life</td>\n",
              "      <td>76561198062813911</td>\n",
              "    </tr>\n",
              "    <tr>\n",
              "      <th>539037</th>\n",
              "      <td>Counter-Strike: Source</td>\n",
              "      <td>76561198062813911</td>\n",
              "    </tr>\n",
              "    <tr>\n",
              "      <th>658130</th>\n",
              "      <td>Half-Life 2: Episode Two</td>\n",
              "      <td>76561198062813911</td>\n",
              "    </tr>\n",
              "    <tr>\n",
              "      <th>849477</th>\n",
              "      <td>Portal 2</td>\n",
              "      <td>76561198062813911</td>\n",
              "    </tr>\n",
              "    <tr>\n",
              "      <th>1549581</th>\n",
              "      <td>Garry's Mod</td>\n",
              "      <td>76561198062813911</td>\n",
              "    </tr>\n",
              "    <tr>\n",
              "      <th>...</th>\n",
              "      <td>...</td>\n",
              "      <td>...</td>\n",
              "    </tr>\n",
              "    <tr>\n",
              "      <th>21578107</th>\n",
              "      <td>Hollow Knight</td>\n",
              "      <td>76561198062813911</td>\n",
              "    </tr>\n",
              "    <tr>\n",
              "      <th>21624890</th>\n",
              "      <td>Day of Infamy</td>\n",
              "      <td>76561198062813911</td>\n",
              "    </tr>\n",
              "    <tr>\n",
              "      <th>21651066</th>\n",
              "      <td>SimAirport</td>\n",
              "      <td>76561198062813911</td>\n",
              "    </tr>\n",
              "    <tr>\n",
              "      <th>21656340</th>\n",
              "      <td>Dead Rising 4</td>\n",
              "      <td>76561198062813911</td>\n",
              "    </tr>\n",
              "    <tr>\n",
              "      <th>21672218</th>\n",
              "      <td>Styx: Shards of Darkness</td>\n",
              "      <td>76561198062813911</td>\n",
              "    </tr>\n",
              "  </tbody>\n",
              "</table>\n",
              "<p>149 rows × 2 columns</p>\n",
              "</div>"
            ],
            "text/plain": [
              "                          app_name     author.steamid\n",
              "512675                   Half-Life  76561198062813911\n",
              "539037      Counter-Strike: Source  76561198062813911\n",
              "658130    Half-Life 2: Episode Two  76561198062813911\n",
              "849477                    Portal 2  76561198062813911\n",
              "1549581                Garry's Mod  76561198062813911\n",
              "...                            ...                ...\n",
              "21578107             Hollow Knight  76561198062813911\n",
              "21624890             Day of Infamy  76561198062813911\n",
              "21651066                SimAirport  76561198062813911\n",
              "21656340             Dead Rising 4  76561198062813911\n",
              "21672218  Styx: Shards of Darkness  76561198062813911\n",
              "\n",
              "[149 rows x 2 columns]"
            ]
          },
          "metadata": {},
          "execution_count": 120
        }
      ]
    },
    {
      "cell_type": "code",
      "metadata": {
        "colab": {
          "base_uri": "https://localhost:8080/"
        },
        "id": "wJegDzVOJ5wW",
        "outputId": "d3d010df-c83a-4706-8673-f5592aae34a5"
      },
      "source": [
        "popauthorgames1.drop_duplicates(subset=['app_name']).shape"
      ],
      "execution_count": null,
      "outputs": [
        {
          "output_type": "execute_result",
          "data": {
            "text/plain": [
              "(148, 2)"
            ]
          },
          "metadata": {},
          "execution_count": 127
        }
      ]
    },
    {
      "cell_type": "markdown",
      "metadata": {
        "id": "C38N7M8HKj48"
      },
      "source": [
        "So he reviewed 148 games."
      ]
    },
    {
      "cell_type": "markdown",
      "metadata": {
        "id": "fyWNEOEpKtc6"
      },
      "source": [
        "### How many applications did he purchase, and how many did he get as free? Provide the number (count) and the percentage."
      ]
    },
    {
      "cell_type": "code",
      "metadata": {
        "id": "ABQHS8R8KjTu"
      },
      "source": [
        "dataset3=pd.read_csv(\"/content/drive/MyDrive/AMD/Dataset/Homework2/steam_reviews/steam_reviews.csv\",usecols=['author.steamid','app_name','received_for_free','steam_purchase'])"
      ],
      "execution_count": null,
      "outputs": []
    },
    {
      "cell_type": "markdown",
      "metadata": {
        "id": "tYryJ0izepHT"
      },
      "source": [
        "#### From (1), the most popular author's steam id is 76561198103272004.\n"
      ]
    },
    {
      "cell_type": "code",
      "metadata": {
        "id": "U3EYDcgUe1OB"
      },
      "source": [
        "popapp=dataset3.loc[dataset3['author.steamid'] == 76561198103272004 ]"
      ],
      "execution_count": null,
      "outputs": []
    },
    {
      "cell_type": "code",
      "metadata": {
        "colab": {
          "base_uri": "https://localhost:8080/"
        },
        "id": "KhD6c-twe1E8",
        "outputId": "b5e3342d-d6bc-4a24-95ab-afd7986bef83"
      },
      "source": [
        "popapp[(popapp['received_for_free'] == False ) & (popapp['steam_purchase'] == True)].count()"
      ],
      "execution_count": null,
      "outputs": [
        {
          "output_type": "execute_result",
          "data": {
            "text/plain": [
              "app_name             1\n",
              "steam_purchase       1\n",
              "received_for_free    1\n",
              "author.steamid       1\n",
              "dtype: int64"
            ]
          },
          "metadata": {},
          "execution_count": 37
        }
      ]
    },
    {
      "cell_type": "markdown",
      "metadata": {
        "id": "8CLPap73hviw"
      },
      "source": [
        "As we can see for this first case, the author purchased the one application he reviewed. Wich makes 100% of purchased and 0% free."
      ]
    },
    {
      "cell_type": "markdown",
      "metadata": {
        "id": "clp3KuoyhL6D"
      },
      "source": [
        "#### From (2), the most popular author's steam ID is 76561198062813911 ."
      ]
    },
    {
      "cell_type": "code",
      "metadata": {
        "id": "akOXJt9KhF4M"
      },
      "source": [
        "popapp1=dataset3.loc[dataset3['author.steamid'] == 76561198062813911  ]"
      ],
      "execution_count": null,
      "outputs": []
    },
    {
      "cell_type": "code",
      "metadata": {
        "id": "lyHPoP5ohfgM"
      },
      "source": [
        "popapp1=popapp1.drop_duplicates('app_name')"
      ],
      "execution_count": null,
      "outputs": []
    },
    {
      "cell_type": "code",
      "metadata": {
        "colab": {
          "base_uri": "https://localhost:8080/"
        },
        "id": "iN8ldzxhhVgB",
        "outputId": "6cbe6f75-0df8-4183-f700-f29171699a5d"
      },
      "source": [
        "popapp1[(popapp1['received_for_free'] == False ) & (popapp1['steam_purchase'] == True)].count()"
      ],
      "execution_count": null,
      "outputs": [
        {
          "output_type": "execute_result",
          "data": {
            "text/plain": [
              "app_name             108\n",
              "steam_purchase       108\n",
              "received_for_free    108\n",
              "author.steamid       108\n",
              "dtype: int64"
            ]
          },
          "metadata": {},
          "execution_count": 46
        }
      ]
    },
    {
      "cell_type": "code",
      "metadata": {
        "colab": {
          "base_uri": "https://localhost:8080/"
        },
        "id": "jl_8YFsohZgM",
        "outputId": "fa1c0193-22eb-428f-bbe1-ec4cf4c468d4"
      },
      "source": [
        "popapp[(popapp['received_for_free'] == True ) & (popapp['steam_purchase'] == False)].count()"
      ],
      "execution_count": null,
      "outputs": [
        {
          "output_type": "execute_result",
          "data": {
            "text/plain": [
              "app_name             0\n",
              "steam_purchase       0\n",
              "received_for_free    0\n",
              "author.steamid       0\n",
              "dtype: int64"
            ]
          },
          "metadata": {},
          "execution_count": 47
        }
      ]
    },
    {
      "cell_type": "markdown",
      "metadata": {
        "id": "OfotBAqCiAU_"
      },
      "source": [
        "As we can see for this second case, the author purchased the 108 applications that he reviewed and which are ALL the application he reviwed. Wich makes 100% of purchased and 0% free."
      ]
    },
    {
      "cell_type": "markdown",
      "metadata": {
        "id": "b8t5Gng8iek7"
      },
      "source": [
        "### How many of the applications he purchased reviewed positively, and how many negatively? How about the applications he received for free?"
      ]
    },
    {
      "cell_type": "code",
      "metadata": {
        "id": "-geiXYC5kxjI"
      },
      "source": [
        "dataset3=pd.read_csv(\"/content/drive/MyDrive/AMD/Dataset/Homework2/steam_reviews/steam_reviews.csv\",usecols=['author.steamid','app_name','received_for_free','steam_purchase','recommended'])"
      ],
      "execution_count": null,
      "outputs": []
    },
    {
      "cell_type": "markdown",
      "metadata": {
        "id": "rRvExElAmYJx"
      },
      "source": [
        "#### From (1), the most popular author's steam id is 76561198103272004."
      ]
    },
    {
      "cell_type": "code",
      "metadata": {
        "id": "rn7WPCnMmPMt"
      },
      "source": [
        "popapp=dataset3.loc[dataset3['author.steamid'] == 76561198103272004 ]"
      ],
      "execution_count": null,
      "outputs": []
    },
    {
      "cell_type": "code",
      "metadata": {
        "colab": {
          "base_uri": "https://localhost:8080/",
          "height": 79
        },
        "id": "8N-BBNXTmVMR",
        "outputId": "19e755a8-e8f2-451f-a76e-a9b66c52045e"
      },
      "source": [
        "popapp"
      ],
      "execution_count": null,
      "outputs": [
        {
          "output_type": "execute_result",
          "data": {
            "text/html": [
              "<div>\n",
              "<style scoped>\n",
              "    .dataframe tbody tr th:only-of-type {\n",
              "        vertical-align: middle;\n",
              "    }\n",
              "\n",
              "    .dataframe tbody tr th {\n",
              "        vertical-align: top;\n",
              "    }\n",
              "\n",
              "    .dataframe thead th {\n",
              "        text-align: right;\n",
              "    }\n",
              "</style>\n",
              "<table border=\"1\" class=\"dataframe\">\n",
              "  <thead>\n",
              "    <tr style=\"text-align: right;\">\n",
              "      <th></th>\n",
              "      <th>app_name</th>\n",
              "      <th>recommended</th>\n",
              "      <th>steam_purchase</th>\n",
              "      <th>received_for_free</th>\n",
              "      <th>author.steamid</th>\n",
              "    </tr>\n",
              "  </thead>\n",
              "  <tbody>\n",
              "    <tr>\n",
              "      <th>13093694</th>\n",
              "      <td>Grand Theft Auto V</td>\n",
              "      <td>True</td>\n",
              "      <td>True</td>\n",
              "      <td>False</td>\n",
              "      <td>76561198103272004</td>\n",
              "    </tr>\n",
              "  </tbody>\n",
              "</table>\n",
              "</div>"
            ],
            "text/plain": [
              "                    app_name  recommended  ...  received_for_free     author.steamid\n",
              "13093694  Grand Theft Auto V         True  ...              False  76561198103272004\n",
              "\n",
              "[1 rows x 5 columns]"
            ]
          },
          "metadata": {},
          "execution_count": 50
        }
      ]
    },
    {
      "cell_type": "markdown",
      "metadata": {
        "id": "KZfnFQuMmgDv"
      },
      "source": [
        "For this reviewer the only app he reviewed was purchased and the review was positive because he recommended it."
      ]
    },
    {
      "cell_type": "markdown",
      "metadata": {
        "id": "8ou8uV2cmsb3"
      },
      "source": [
        "#### From (2), the most popular author's steam ID is 76561198062813911 ."
      ]
    },
    {
      "cell_type": "code",
      "metadata": {
        "id": "RGm9YlQDmtw8"
      },
      "source": [
        "popapp=dataset3.loc[dataset3['author.steamid'] == 76561198062813911 ]"
      ],
      "execution_count": null,
      "outputs": []
    },
    {
      "cell_type": "code",
      "metadata": {
        "id": "AI_45pmXm2IW"
      },
      "source": [
        "popapp=popapp.drop_duplicates('app_name')"
      ],
      "execution_count": null,
      "outputs": []
    },
    {
      "cell_type": "code",
      "metadata": {
        "colab": {
          "base_uri": "https://localhost:8080/"
        },
        "id": "W9P_SVwGnFRN",
        "outputId": "92f8fb33-2d12-475b-8ae5-da18053f38e7"
      },
      "source": [
        "popapp[(popapp['received_for_free'] == False ) & (popapp['steam_purchase'] == True) & (popapp['recommended'] == True)].count()"
      ],
      "execution_count": null,
      "outputs": [
        {
          "output_type": "execute_result",
          "data": {
            "text/plain": [
              "app_name             106\n",
              "recommended          106\n",
              "steam_purchase       106\n",
              "received_for_free    106\n",
              "author.steamid       106\n",
              "dtype: int64"
            ]
          },
          "metadata": {},
          "execution_count": 55
        }
      ]
    },
    {
      "cell_type": "code",
      "metadata": {
        "colab": {
          "base_uri": "https://localhost:8080/"
        },
        "id": "QQPpk_VNnTGh",
        "outputId": "dc83f910-7305-4d1b-801e-629c798fb102"
      },
      "source": [
        "popapp[(popapp['received_for_free'] == False ) & (popapp['steam_purchase'] == True) & (popapp['recommended'] == False)].count()"
      ],
      "execution_count": null,
      "outputs": [
        {
          "output_type": "execute_result",
          "data": {
            "text/plain": [
              "app_name             2\n",
              "recommended          2\n",
              "steam_purchase       2\n",
              "received_for_free    2\n",
              "author.steamid       2\n",
              "dtype: int64"
            ]
          },
          "metadata": {},
          "execution_count": 56
        }
      ]
    },
    {
      "cell_type": "markdown",
      "metadata": {
        "id": "d533QD3PpFSo"
      },
      "source": [
        "As we can see above and the questions before, he only reviewed purchased apps. And 106 of them were reviewed positively and 2 negatively. "
      ]
    },
    {
      "cell_type": "markdown",
      "metadata": {
        "id": "_-fAYSt5FnlS"
      },
      "source": [
        "##RQ6\n"
      ]
    },
    {
      "cell_type": "markdown",
      "metadata": {
        "id": "mr81qYXcSnFk"
      },
      "source": [
        "###  The average time (days and minutes) a user lets pass before he updates a review."
      ]
    },
    {
      "cell_type": "code",
      "metadata": {
        "id": "WDiLJHWbF5D6"
      },
      "source": [
        "def parsedate(time_as_a_unix_timestamp):\n",
        "    return pd.to_datetime(time_as_a_unix_timestamp, unit='s')\n",
        "dataset9=pd.read_csv(\"/content/drive/MyDrive/ADMHW2/steam_reviews.csv\",usecols=['author.steamid','timestamp_created',\t'timestamp_updated'],parse_dates=['timestamp_created','timestamp_updated' ],date_parser=parsedate)"
      ],
      "execution_count": null,
      "outputs": []
    },
    {
      "cell_type": "code",
      "metadata": {
        "id": "VpXkk6VHFrK6"
      },
      "source": [
        "dataset9['time_delta'] = (dataset9.timestamp_updated - dataset9.timestamp_created)"
      ],
      "execution_count": null,
      "outputs": []
    },
    {
      "cell_type": "code",
      "metadata": {
        "id": "M4ScmPSQ34qU",
        "colab": {
          "base_uri": "https://localhost:8080/",
          "height": 408
        },
        "outputId": "3e698942-ee12-4782-9cea-f6afdfa11a32"
      },
      "source": [
        "dataset9.sort_values('time_delta',ascending= False).reset_index()"
      ],
      "execution_count": null,
      "outputs": [
        {
          "output_type": "execute_result",
          "data": {
            "text/html": [
              "<div>\n",
              "<style scoped>\n",
              "    .dataframe tbody tr th:only-of-type {\n",
              "        vertical-align: middle;\n",
              "    }\n",
              "\n",
              "    .dataframe tbody tr th {\n",
              "        vertical-align: top;\n",
              "    }\n",
              "\n",
              "    .dataframe thead th {\n",
              "        text-align: right;\n",
              "    }\n",
              "</style>\n",
              "<table border=\"1\" class=\"dataframe\">\n",
              "  <thead>\n",
              "    <tr style=\"text-align: right;\">\n",
              "      <th></th>\n",
              "      <th>index</th>\n",
              "      <th>timestamp_created</th>\n",
              "      <th>timestamp_updated</th>\n",
              "      <th>author.steamid</th>\n",
              "      <th>time_delta</th>\n",
              "    </tr>\n",
              "  </thead>\n",
              "  <tbody>\n",
              "    <tr>\n",
              "      <th>0</th>\n",
              "      <td>14636766</td>\n",
              "      <td>2018-07-02 13:25:41</td>\n",
              "      <td>2040-08-05 09:33:57</td>\n",
              "      <td>76561198116664064</td>\n",
              "      <td>8069 days 20:08:16</td>\n",
              "    </tr>\n",
              "    <tr>\n",
              "      <th>1</th>\n",
              "      <td>10694933</td>\n",
              "      <td>2020-06-08 22:47:04</td>\n",
              "      <td>2042-03-25 18:57:27</td>\n",
              "      <td>76561197966082036</td>\n",
              "      <td>7959 days 20:10:23</td>\n",
              "    </tr>\n",
              "    <tr>\n",
              "      <th>2</th>\n",
              "      <td>9287504</td>\n",
              "      <td>2015-10-03 21:04:05</td>\n",
              "      <td>2037-02-03 21:05:26</td>\n",
              "      <td>76561198069242328</td>\n",
              "      <td>7794 days 00:01:21</td>\n",
              "    </tr>\n",
              "    <tr>\n",
              "      <th>3</th>\n",
              "      <td>3538178</td>\n",
              "      <td>2021-01-10 16:24:18</td>\n",
              "      <td>2042-05-11 00:59:57</td>\n",
              "      <td>76561198049701040</td>\n",
              "      <td>7790 days 08:35:39</td>\n",
              "    </tr>\n",
              "    <tr>\n",
              "      <th>4</th>\n",
              "      <td>1561447</td>\n",
              "      <td>2010-11-20 21:11:36</td>\n",
              "      <td>2021-01-17 10:02:52</td>\n",
              "      <td>76561197988124141</td>\n",
              "      <td>3710 days 12:51:16</td>\n",
              "    </tr>\n",
              "    <tr>\n",
              "      <th>...</th>\n",
              "      <td>...</td>\n",
              "      <td>...</td>\n",
              "      <td>...</td>\n",
              "      <td>...</td>\n",
              "      <td>...</td>\n",
              "    </tr>\n",
              "    <tr>\n",
              "      <th>21747366</th>\n",
              "      <td>8545955</td>\n",
              "      <td>2020-07-14 10:24:16</td>\n",
              "      <td>2020-07-14 10:24:16</td>\n",
              "      <td>76561198332177630</td>\n",
              "      <td>0 days 00:00:00</td>\n",
              "    </tr>\n",
              "    <tr>\n",
              "      <th>21747367</th>\n",
              "      <td>8545954</td>\n",
              "      <td>2020-07-14 10:27:42</td>\n",
              "      <td>2020-07-14 10:27:42</td>\n",
              "      <td>76561198208149329</td>\n",
              "      <td>0 days 00:00:00</td>\n",
              "    </tr>\n",
              "    <tr>\n",
              "      <th>21747368</th>\n",
              "      <td>8545953</td>\n",
              "      <td>2020-07-14 10:30:38</td>\n",
              "      <td>2020-07-14 10:30:38</td>\n",
              "      <td>76561198847913370</td>\n",
              "      <td>0 days 00:00:00</td>\n",
              "    </tr>\n",
              "    <tr>\n",
              "      <th>21747369</th>\n",
              "      <td>0</td>\n",
              "      <td>2021-01-23 06:00:29</td>\n",
              "      <td>2021-01-23 06:00:29</td>\n",
              "      <td>76561199095369542</td>\n",
              "      <td>0 days 00:00:00</td>\n",
              "    </tr>\n",
              "    <tr>\n",
              "      <th>21747370</th>\n",
              "      <td>19179653</td>\n",
              "      <td>2019-06-04 14:00:28</td>\n",
              "      <td>2019-06-04 14:00:24</td>\n",
              "      <td>76561198331063747</td>\n",
              "      <td>-1 days +23:59:56</td>\n",
              "    </tr>\n",
              "  </tbody>\n",
              "</table>\n",
              "<p>21747371 rows × 5 columns</p>\n",
              "</div>"
            ],
            "text/plain": [
              "             index   timestamp_created  ...     author.steamid         time_delta\n",
              "0         14636766 2018-07-02 13:25:41  ...  76561198116664064 8069 days 20:08:16\n",
              "1         10694933 2020-06-08 22:47:04  ...  76561197966082036 7959 days 20:10:23\n",
              "2          9287504 2015-10-03 21:04:05  ...  76561198069242328 7794 days 00:01:21\n",
              "3          3538178 2021-01-10 16:24:18  ...  76561198049701040 7790 days 08:35:39\n",
              "4          1561447 2010-11-20 21:11:36  ...  76561197988124141 3710 days 12:51:16\n",
              "...            ...                 ...  ...                ...                ...\n",
              "21747366   8545955 2020-07-14 10:24:16  ...  76561198332177630    0 days 00:00:00\n",
              "21747367   8545954 2020-07-14 10:27:42  ...  76561198208149329    0 days 00:00:00\n",
              "21747368   8545953 2020-07-14 10:30:38  ...  76561198847913370    0 days 00:00:00\n",
              "21747369         0 2021-01-23 06:00:29  ...  76561199095369542    0 days 00:00:00\n",
              "21747370  19179653 2019-06-04 14:00:28  ...  76561198331063747  -1 days +23:59:56\n",
              "\n",
              "[21747371 rows x 5 columns]"
            ]
          },
          "metadata": {},
          "execution_count": 26
        }
      ]
    },
    {
      "cell_type": "markdown",
      "metadata": {
        "id": "xNXoP44ic5Un"
      },
      "source": [
        "We drop useless rows and useless cols"
      ]
    },
    {
      "cell_type": "code",
      "metadata": {
        "id": "c9sb26hl7jNf"
      },
      "source": [
        "dataset9.drop('timestamp_created', axis=1, inplace=True)\n",
        "dataset9.drop('timestamp_updated', axis=1, inplace=True)"
      ],
      "execution_count": null,
      "outputs": []
    },
    {
      "cell_type": "code",
      "metadata": {
        "id": "hNJDZsTX43cZ"
      },
      "source": [
        "dataset9.drop(dataset9[dataset9.time_delta == '0 days 00:00:00'].index, inplace=True)"
      ],
      "execution_count": null,
      "outputs": []
    },
    {
      "cell_type": "code",
      "metadata": {
        "id": "mdNelRdD0Wvd",
        "colab": {
          "base_uri": "https://localhost:8080/",
          "height": 200
        },
        "outputId": "82d5826d-1c60-4471-bca4-d10040db6f4d"
      },
      "source": [
        "dataset9.head()"
      ],
      "execution_count": null,
      "outputs": [
        {
          "output_type": "execute_result",
          "data": {
            "text/html": [
              "<div>\n",
              "<style scoped>\n",
              "    .dataframe tbody tr th:only-of-type {\n",
              "        vertical-align: middle;\n",
              "    }\n",
              "\n",
              "    .dataframe tbody tr th {\n",
              "        vertical-align: top;\n",
              "    }\n",
              "\n",
              "    .dataframe thead th {\n",
              "        text-align: right;\n",
              "    }\n",
              "</style>\n",
              "<table border=\"1\" class=\"dataframe\">\n",
              "  <thead>\n",
              "    <tr style=\"text-align: right;\">\n",
              "      <th></th>\n",
              "      <th>author.steamid</th>\n",
              "      <th>time_delta</th>\n",
              "    </tr>\n",
              "  </thead>\n",
              "  <tbody>\n",
              "    <tr>\n",
              "      <th>13</th>\n",
              "      <td>76561197987104694</td>\n",
              "      <td>0 days 00:01:11</td>\n",
              "    </tr>\n",
              "    <tr>\n",
              "      <th>27</th>\n",
              "      <td>76561198326913512</td>\n",
              "      <td>0 days 02:59:25</td>\n",
              "    </tr>\n",
              "    <tr>\n",
              "      <th>39</th>\n",
              "      <td>76561198020027165</td>\n",
              "      <td>0 days 00:01:09</td>\n",
              "    </tr>\n",
              "    <tr>\n",
              "      <th>41</th>\n",
              "      <td>76561198316530785</td>\n",
              "      <td>0 days 00:39:05</td>\n",
              "    </tr>\n",
              "    <tr>\n",
              "      <th>51</th>\n",
              "      <td>76561199039857291</td>\n",
              "      <td>0 days 00:00:51</td>\n",
              "    </tr>\n",
              "  </tbody>\n",
              "</table>\n",
              "</div>"
            ],
            "text/plain": [
              "       author.steamid      time_delta\n",
              "13  76561197987104694 0 days 00:01:11\n",
              "27  76561198326913512 0 days 02:59:25\n",
              "39  76561198020027165 0 days 00:01:09\n",
              "41  76561198316530785 0 days 00:39:05\n",
              "51  76561199039857291 0 days 00:00:51"
            ]
          },
          "metadata": {},
          "execution_count": 29
        }
      ]
    },
    {
      "cell_type": "code",
      "metadata": {
        "id": "eao3WyNO0XVW",
        "colab": {
          "base_uri": "https://localhost:8080/",
          "height": 200
        },
        "outputId": "2efc959f-31af-4fdd-bd35-f869f0f85d1f"
      },
      "source": [
        "dataset9.tail()"
      ],
      "execution_count": null,
      "outputs": [
        {
          "output_type": "execute_result",
          "data": {
            "text/html": [
              "<div>\n",
              "<style scoped>\n",
              "    .dataframe tbody tr th:only-of-type {\n",
              "        vertical-align: middle;\n",
              "    }\n",
              "\n",
              "    .dataframe tbody tr th {\n",
              "        vertical-align: top;\n",
              "    }\n",
              "\n",
              "    .dataframe thead th {\n",
              "        text-align: right;\n",
              "    }\n",
              "</style>\n",
              "<table border=\"1\" class=\"dataframe\">\n",
              "  <thead>\n",
              "    <tr style=\"text-align: right;\">\n",
              "      <th></th>\n",
              "      <th>author.steamid</th>\n",
              "      <th>time_delta</th>\n",
              "    </tr>\n",
              "  </thead>\n",
              "  <tbody>\n",
              "    <tr>\n",
              "      <th>21747356</th>\n",
              "      <td>76561198055305524</td>\n",
              "      <td>6 days 23:24:08</td>\n",
              "    </tr>\n",
              "    <tr>\n",
              "      <th>21747357</th>\n",
              "      <td>76561197997569585</td>\n",
              "      <td>0 days 00:48:28</td>\n",
              "    </tr>\n",
              "    <tr>\n",
              "      <th>21747362</th>\n",
              "      <td>76561198041215776</td>\n",
              "      <td>1 days 14:31:12</td>\n",
              "    </tr>\n",
              "    <tr>\n",
              "      <th>21747369</th>\n",
              "      <td>76561198041763187</td>\n",
              "      <td>16 days 03:43:11</td>\n",
              "    </tr>\n",
              "    <tr>\n",
              "      <th>21747370</th>\n",
              "      <td>76561198116747069</td>\n",
              "      <td>81 days 21:04:55</td>\n",
              "    </tr>\n",
              "  </tbody>\n",
              "</table>\n",
              "</div>"
            ],
            "text/plain": [
              "             author.steamid       time_delta\n",
              "21747356  76561198055305524  6 days 23:24:08\n",
              "21747357  76561197997569585  0 days 00:48:28\n",
              "21747362  76561198041215776  1 days 14:31:12\n",
              "21747369  76561198041763187 16 days 03:43:11\n",
              "21747370  76561198116747069 81 days 21:04:55"
            ]
          },
          "metadata": {},
          "execution_count": 30
        }
      ]
    },
    {
      "cell_type": "code",
      "metadata": {
        "id": "tWdC1ogpLUyS",
        "colab": {
          "base_uri": "https://localhost:8080/"
        },
        "outputId": "8955ebe6-ed54-4240-e453-af8ee8b9122c"
      },
      "source": [
        "(dataset9['time_delta']).mean()"
      ],
      "execution_count": null,
      "outputs": [
        {
          "output_type": "execute_result",
          "data": {
            "text/plain": [
              "Timedelta('321 days 00:46:24.845181776')"
            ]
          },
          "metadata": {},
          "execution_count": 31
        }
      ]
    },
    {
      "cell_type": "markdown",
      "metadata": {
        "id": "bmplKZdqdCrY"
      },
      "source": [
        "the mean is 321 days and 46 minutes"
      ]
    },
    {
      "cell_type": "markdown",
      "metadata": {
        "id": "SDKVEQBrSh_X"
      },
      "source": [
        "### Plot the top 3 authors that usually update their reviews"
      ]
    },
    {
      "cell_type": "markdown",
      "metadata": {
        "id": "GfjNrlpndLeX"
      },
      "source": [
        "We sort and plot the authors that update more reviews"
      ]
    },
    {
      "cell_type": "code",
      "metadata": {
        "id": "nD2BtW751gBs",
        "colab": {
          "base_uri": "https://localhost:8080/",
          "height": 408
        },
        "outputId": "356b31cb-ba70-4b65-ac40-d8aa95ba079c"
      },
      "source": [
        "groupautc=dataset9.groupby('author.steamid').count()\n",
        "sortautc=groupautc.sort_values('time_delta',ascending= False).reset_index()\n",
        "sortautc"
      ],
      "execution_count": null,
      "outputs": [
        {
          "output_type": "execute_result",
          "data": {
            "text/html": [
              "<div>\n",
              "<style scoped>\n",
              "    .dataframe tbody tr th:only-of-type {\n",
              "        vertical-align: middle;\n",
              "    }\n",
              "\n",
              "    .dataframe tbody tr th {\n",
              "        vertical-align: top;\n",
              "    }\n",
              "\n",
              "    .dataframe thead th {\n",
              "        text-align: right;\n",
              "    }\n",
              "</style>\n",
              "<table border=\"1\" class=\"dataframe\">\n",
              "  <thead>\n",
              "    <tr style=\"text-align: right;\">\n",
              "      <th></th>\n",
              "      <th>author.steamid</th>\n",
              "      <th>time_delta</th>\n",
              "    </tr>\n",
              "  </thead>\n",
              "  <tbody>\n",
              "    <tr>\n",
              "      <th>0</th>\n",
              "      <td>76561198192166873</td>\n",
              "      <td>95</td>\n",
              "    </tr>\n",
              "    <tr>\n",
              "      <th>1</th>\n",
              "      <td>76561198206999976</td>\n",
              "      <td>61</td>\n",
              "    </tr>\n",
              "    <tr>\n",
              "      <th>2</th>\n",
              "      <td>76561198072450805</td>\n",
              "      <td>60</td>\n",
              "    </tr>\n",
              "    <tr>\n",
              "      <th>3</th>\n",
              "      <td>76561197997059777</td>\n",
              "      <td>59</td>\n",
              "    </tr>\n",
              "    <tr>\n",
              "      <th>4</th>\n",
              "      <td>76561197999935168</td>\n",
              "      <td>58</td>\n",
              "    </tr>\n",
              "    <tr>\n",
              "      <th>...</th>\n",
              "      <td>...</td>\n",
              "      <td>...</td>\n",
              "    </tr>\n",
              "    <tr>\n",
              "      <th>1644301</th>\n",
              "      <td>76561198095419888</td>\n",
              "      <td>1</td>\n",
              "    </tr>\n",
              "    <tr>\n",
              "      <th>1644302</th>\n",
              "      <td>76561198095419706</td>\n",
              "      <td>1</td>\n",
              "    </tr>\n",
              "    <tr>\n",
              "      <th>1644303</th>\n",
              "      <td>76561198095419227</td>\n",
              "      <td>1</td>\n",
              "    </tr>\n",
              "    <tr>\n",
              "      <th>1644304</th>\n",
              "      <td>76561198095418832</td>\n",
              "      <td>1</td>\n",
              "    </tr>\n",
              "    <tr>\n",
              "      <th>1644305</th>\n",
              "      <td>76561199132527580</td>\n",
              "      <td>1</td>\n",
              "    </tr>\n",
              "  </tbody>\n",
              "</table>\n",
              "<p>1644306 rows × 2 columns</p>\n",
              "</div>"
            ],
            "text/plain": [
              "            author.steamid  time_delta\n",
              "0        76561198192166873          95\n",
              "1        76561198206999976          61\n",
              "2        76561198072450805          60\n",
              "3        76561197997059777          59\n",
              "4        76561197999935168          58\n",
              "...                    ...         ...\n",
              "1644301  76561198095419888           1\n",
              "1644302  76561198095419706           1\n",
              "1644303  76561198095419227           1\n",
              "1644304  76561198095418832           1\n",
              "1644305  76561199132527580           1\n",
              "\n",
              "[1644306 rows x 2 columns]"
            ]
          },
          "metadata": {},
          "execution_count": 32
        }
      ]
    },
    {
      "cell_type": "code",
      "metadata": {
        "id": "PMKSPbKW98xK",
        "colab": {
          "base_uri": "https://localhost:8080/",
          "height": 746
        },
        "outputId": "a3a6fffb-43e8-4c01-c211-429127cb07ec"
      },
      "source": [
        "plt.rcParams['figure.figsize']=(20,12)\n",
        "sortautc[0:3].plot.bar(x='author.steamid',y='time_delta',rot=0)\n",
        "plt.xticks(horizontalalignment=\"center\")\n",
        "plt.title(\"Number of updates per author\")\n",
        "plt.xlabel(\"author steam ID\")\n",
        "plt.ylabel(\"number of updates\")"
      ],
      "execution_count": null,
      "outputs": [
        {
          "output_type": "execute_result",
          "data": {
            "text/plain": [
              "Text(0, 0.5, 'number of updates')"
            ]
          },
          "metadata": {},
          "execution_count": 33
        },
        {
          "output_type": "display_data",
          "data": {
            "image/png": "[encoded data removed]",
            "text/plain": [
              "<Figure size 1440x864 with 1 Axes>"
            ]
          },
          "metadata": {
            "needs_background": "light"
          }
        }
      ]
    },
    {
      "cell_type": "markdown",
      "metadata": {
        "id": "TsAvV9ZJNuMb"
      },
      "source": [
        "##RQ7"
      ]
    },
    {
      "cell_type": "code",
      "metadata": {
        "id": "5TaFt2juZKev"
      },
      "source": [
        "dataset10 = pd.read_csv(\"/content/drive/MyDrive/ADMHW2/steam_reviews.csv\",usecols=['app_name','weighted_vote_score', 'votes_funny'])"
      ],
      "execution_count": null,
      "outputs": []
    },
    {
      "cell_type": "code",
      "metadata": {
        "colab": {
          "base_uri": "https://localhost:8080/",
          "height": 200
        },
        "id": "9D4kRCCsZNep",
        "outputId": "e190ca93-fb82-4e81-b0b5-70c8b933f42a"
      },
      "source": [
        "dataset10.head()"
      ],
      "execution_count": null,
      "outputs": [
        {
          "output_type": "execute_result",
          "data": {
            "text/html": [
              "<div>\n",
              "<style scoped>\n",
              "    .dataframe tbody tr th:only-of-type {\n",
              "        vertical-align: middle;\n",
              "    }\n",
              "\n",
              "    .dataframe tbody tr th {\n",
              "        vertical-align: top;\n",
              "    }\n",
              "\n",
              "    .dataframe thead th {\n",
              "        text-align: right;\n",
              "    }\n",
              "</style>\n",
              "<table border=\"1\" class=\"dataframe\">\n",
              "  <thead>\n",
              "    <tr style=\"text-align: right;\">\n",
              "      <th></th>\n",
              "      <th>app_name</th>\n",
              "      <th>votes_funny</th>\n",
              "      <th>weighted_vote_score</th>\n",
              "    </tr>\n",
              "  </thead>\n",
              "  <tbody>\n",
              "    <tr>\n",
              "      <th>0</th>\n",
              "      <td>The Witcher 3: Wild Hunt</td>\n",
              "      <td>0</td>\n",
              "      <td>0.0</td>\n",
              "    </tr>\n",
              "    <tr>\n",
              "      <th>1</th>\n",
              "      <td>The Witcher 3: Wild Hunt</td>\n",
              "      <td>0</td>\n",
              "      <td>0.0</td>\n",
              "    </tr>\n",
              "    <tr>\n",
              "      <th>2</th>\n",
              "      <td>The Witcher 3: Wild Hunt</td>\n",
              "      <td>0</td>\n",
              "      <td>0.0</td>\n",
              "    </tr>\n",
              "    <tr>\n",
              "      <th>3</th>\n",
              "      <td>The Witcher 3: Wild Hunt</td>\n",
              "      <td>0</td>\n",
              "      <td>0.0</td>\n",
              "    </tr>\n",
              "    <tr>\n",
              "      <th>4</th>\n",
              "      <td>The Witcher 3: Wild Hunt</td>\n",
              "      <td>0</td>\n",
              "      <td>0.0</td>\n",
              "    </tr>\n",
              "  </tbody>\n",
              "</table>\n",
              "</div>"
            ],
            "text/plain": [
              "                   app_name  votes_funny  weighted_vote_score\n",
              "0  The Witcher 3: Wild Hunt            0                  0.0\n",
              "1  The Witcher 3: Wild Hunt            0                  0.0\n",
              "2  The Witcher 3: Wild Hunt            0                  0.0\n",
              "3  The Witcher 3: Wild Hunt            0                  0.0\n",
              "4  The Witcher 3: Wild Hunt            0                  0.0"
            ]
          },
          "metadata": {},
          "execution_count": 66
        }
      ]
    },
    {
      "cell_type": "markdown",
      "metadata": {
        "id": "TfqqmBfVZQAC"
      },
      "source": [
        "What’s the probability that a review has a Weighted Vote Score equal to or bigger than 0.5?"
      ]
    },
    {
      "cell_type": "code",
      "metadata": {
        "id": "QOaXKVhZZSd1"
      },
      "source": [
        "#votescore \n",
        "\n",
        "dataset10b=dataset10['weighted_vote_score'] >= 0.5\n",
        "filtered_dataset10 = dataset10[dataset10b]\n",
        "vs=len(filtered_dataset10)/len(dataset10)"
      ],
      "execution_count": null,
      "outputs": []
    },
    {
      "cell_type": "code",
      "metadata": {
        "colab": {
          "base_uri": "https://localhost:8080/",
          "height": 35
        },
        "id": "Rl8LKX9hZbp_",
        "outputId": "d880f8a9-0a37-48de-95e8-78041572fc24"
      },
      "source": [
        "\"{:.0%}\".format(vs)"
      ],
      "execution_count": null,
      "outputs": [
        {
          "output_type": "execute_result",
          "data": {
            "application/vnd.google.colaboratory.intrinsic+json": {
              "type": "string"
            },
            "text/plain": [
              "'22%'"
            ]
          },
          "metadata": {},
          "execution_count": 68
        }
      ]
    },
    {
      "cell_type": "markdown",
      "metadata": {
        "id": "BcbQ22pIdZ8X"
      },
      "source": [
        "the probability that a review has a Weighted Vote Score equal to or bigger than 0.5 is 22%"
      ]
    },
    {
      "cell_type": "markdown",
      "metadata": {
        "id": "51veP50NZePo"
      },
      "source": [
        "What’s the probability that a review has at least one vote as funny given that the Weighted Vote Score is bigger than 0.5?"
      ]
    },
    {
      "cell_type": "code",
      "metadata": {
        "id": "hI1n86p3Zg1H"
      },
      "source": [
        "#prob vs\n",
        "dataset10v=dataset10['weighted_vote_score'] > 0.5\n",
        "filtered_dataset10v = dataset10[dataset10v]\n",
        "vs2=len(filtered_dataset10v)/len(dataset10)"
      ],
      "execution_count": null,
      "outputs": []
    },
    {
      "cell_type": "code",
      "metadata": {
        "id": "XHMMvNIYZlCC"
      },
      "source": [
        "#intersection\n",
        "intersection = dataset10[(dataset10['votes_funny'] >= 1) & (dataset10['weighted_vote_score'] >0.5)]\n",
        "intersec=(len(intersection))/len(dataset10)"
      ],
      "execution_count": null,
      "outputs": []
    },
    {
      "cell_type": "code",
      "metadata": {
        "id": "8JgzZ3GcZnhE"
      },
      "source": [
        "#prob cond\n",
        "cond=intersec/vs2"
      ],
      "execution_count": null,
      "outputs": []
    },
    {
      "cell_type": "code",
      "metadata": {
        "colab": {
          "base_uri": "https://localhost:8080/",
          "height": 35
        },
        "id": "XYohEFmcbHpG",
        "outputId": "917a5459-334f-400d-cf81-65b389b84ee1"
      },
      "source": [
        "\"{:.0%}\".format(cond)"
      ],
      "execution_count": null,
      "outputs": [
        {
          "output_type": "execute_result",
          "data": {
            "application/vnd.google.colaboratory.intrinsic+json": {
              "type": "string"
            },
            "text/plain": [
              "'25%'"
            ]
          },
          "metadata": {},
          "execution_count": 72
        }
      ]
    },
    {
      "cell_type": "markdown",
      "metadata": {
        "id": "rkDdfp8Edhus"
      },
      "source": [
        "here we have to use the formula of conditional probability.\n",
        "the probability that a review has at least one vote as funny given that the Weighted Vote Score is bigger than 0.5 is 25%"
      ]
    },
    {
      "cell_type": "markdown",
      "metadata": {
        "id": "N_LsmE3PZpdQ"
      },
      "source": [
        "Is the probability that “a review has at least one vote as funny” independent of the “probability that a review has a Weighted Vote Score equal or bigger than 0.5”?"
      ]
    },
    {
      "cell_type": "code",
      "metadata": {
        "id": "29bIMhhcZrmg"
      },
      "source": [
        "#funny\n",
        "dataset10f=dataset10['votes_funny'] >= 1\n",
        "filtered_dataset10f = dataset10[dataset10f]\n",
        "fun=len(filtered_dataset10f)/len(dataset10)"
      ],
      "execution_count": null,
      "outputs": []
    },
    {
      "cell_type": "code",
      "metadata": {
        "colab": {
          "base_uri": "https://localhost:8080/",
          "height": 35
        },
        "id": "IgkldYJZZty4",
        "outputId": "82e88e6d-8d61-4963-9e27-5cd9d410de73"
      },
      "source": [
        "\"{:.0%}\".format(fun)"
      ],
      "execution_count": null,
      "outputs": [
        {
          "output_type": "execute_result",
          "data": {
            "application/vnd.google.colaboratory.intrinsic+json": {
              "type": "string"
            },
            "text/plain": [
              "'12%'"
            ]
          },
          "metadata": {},
          "execution_count": 74
        }
      ]
    },
    {
      "cell_type": "markdown",
      "metadata": {
        "id": "9AtwmeKUZyzg"
      },
      "source": [
        "NO, they are not indipendent cause the conditional probability is different from the probability of funny, it's mean that an app is considered funny when has an high weighted vote score."
      ]
    },
    {
      "cell_type": "markdown",
      "metadata": {
        "id": "maYllIFRpubr"
      },
      "source": [
        "## [RQ8]"
      ]
    },
    {
      "cell_type": "markdown",
      "metadata": {
        "id": "L4pyKBtnp4Tj"
      },
      "source": [
        "### Is there a significant difference in the Weighted Vote Score of reviews made in Chinese vs the ones made in Russian? Use an appropriate statistical test or technique and support your choice."
      ]
    },
    {
      "cell_type": "code",
      "metadata": {
        "id": "5H6j2iuWp5CM"
      },
      "source": [
        "dataset11 = pd.read_csv(\"/content/drive/MyDrive/ADMHW2/steam_reviews.csv\",usecols=['app_name','weighted_vote_score', 'language'])"
      ],
      "execution_count": null,
      "outputs": []
    },
    {
      "cell_type": "code",
      "metadata": {
        "colab": {
          "base_uri": "https://localhost:8080/",
          "height": 294
        },
        "id": "D1lBdcgT_6C_",
        "outputId": "7b5b686a-178f-46ba-c1fd-aa803cec6a18"
      },
      "source": [
        "dataset11b=dataset11['language'] == 'schinese'\n",
        "filtered_chinese = dataset11[dataset11b]\n",
        "filtered_chinese.describe()\n"
      ],
      "execution_count": null,
      "outputs": [
        {
          "output_type": "execute_result",
          "data": {
            "text/html": [
              "<div>\n",
              "<style scoped>\n",
              "    .dataframe tbody tr th:only-of-type {\n",
              "        vertical-align: middle;\n",
              "    }\n",
              "\n",
              "    .dataframe tbody tr th {\n",
              "        vertical-align: top;\n",
              "    }\n",
              "\n",
              "    .dataframe thead th {\n",
              "        text-align: right;\n",
              "    }\n",
              "</style>\n",
              "<table border=\"1\" class=\"dataframe\">\n",
              "  <thead>\n",
              "    <tr style=\"text-align: right;\">\n",
              "      <th></th>\n",
              "      <th>weighted_vote_score</th>\n",
              "    </tr>\n",
              "  </thead>\n",
              "  <tbody>\n",
              "    <tr>\n",
              "      <th>count</th>\n",
              "      <td>3.764967e+06</td>\n",
              "    </tr>\n",
              "    <tr>\n",
              "      <th>mean</th>\n",
              "      <td>1.455544e-01</td>\n",
              "    </tr>\n",
              "    <tr>\n",
              "      <th>std</th>\n",
              "      <td>2.395105e-01</td>\n",
              "    </tr>\n",
              "    <tr>\n",
              "      <th>min</th>\n",
              "      <td>0.000000e+00</td>\n",
              "    </tr>\n",
              "    <tr>\n",
              "      <th>25%</th>\n",
              "      <td>0.000000e+00</td>\n",
              "    </tr>\n",
              "    <tr>\n",
              "      <th>50%</th>\n",
              "      <td>0.000000e+00</td>\n",
              "    </tr>\n",
              "    <tr>\n",
              "      <th>75%</th>\n",
              "      <td>4.761905e-01</td>\n",
              "    </tr>\n",
              "    <tr>\n",
              "      <th>max</th>\n",
              "      <td>9.959868e-01</td>\n",
              "    </tr>\n",
              "  </tbody>\n",
              "</table>\n",
              "</div>"
            ],
            "text/plain": [
              "       weighted_vote_score\n",
              "count         3.764967e+06\n",
              "mean          1.455544e-01\n",
              "std           2.395105e-01\n",
              "min           0.000000e+00\n",
              "25%           0.000000e+00\n",
              "50%           0.000000e+00\n",
              "75%           4.761905e-01\n",
              "max           9.959868e-01"
            ]
          },
          "metadata": {},
          "execution_count": 8
        }
      ]
    },
    {
      "cell_type": "code",
      "metadata": {
        "colab": {
          "base_uri": "https://localhost:8080/",
          "height": 406
        },
        "id": "pKqC_DADAk1A",
        "outputId": "8b2834d4-376a-4c35-f15d-8509354d3746"
      },
      "source": [
        "plt.boxplot(filtered_chinese['weighted_vote_score'])"
      ],
      "execution_count": null,
      "outputs": [
        {
          "output_type": "execute_result",
          "data": {
            "text/plain": [
              "{'boxes': [<matplotlib.lines.Line2D at 0x7f97ac1cfa50>],\n",
              " 'caps': [<matplotlib.lines.Line2D at 0x7f97ac1d6b10>,\n",
              "  <matplotlib.lines.Line2D at 0x7f97ac1db090>],\n",
              " 'fliers': [<matplotlib.lines.Line2D at 0x7f97ac1dbb50>],\n",
              " 'means': [],\n",
              " 'medians': [<matplotlib.lines.Line2D at 0x7f97ac1db610>],\n",
              " 'whiskers': [<matplotlib.lines.Line2D at 0x7f97ac1d6090>,\n",
              "  <matplotlib.lines.Line2D at 0x7f97ac1d65d0>]}"
            ]
          },
          "metadata": {},
          "execution_count": 9
        },
        {
          "output_type": "display_data",
          "data": {
            "image/png": "[encoded data removed]",
            "text/plain": [
              "<Figure size 432x288 with 1 Axes>"
            ]
          },
          "metadata": {
            "needs_background": "light"
          }
        }
      ]
    },
    {
      "cell_type": "code",
      "metadata": {
        "colab": {
          "base_uri": "https://localhost:8080/",
          "height": 294
        },
        "id": "k4MyKnQyAZID",
        "outputId": "d562f94d-4339-40f2-b147-d68f26ddd6cd"
      },
      "source": [
        "dataset11c=dataset11['language'] == 'russian'\n",
        "filtered_russian = dataset11[dataset11c]\n",
        "filtered_russian.describe()"
      ],
      "execution_count": null,
      "outputs": [
        {
          "output_type": "execute_result",
          "data": {
            "text/html": [
              "<div>\n",
              "<style scoped>\n",
              "    .dataframe tbody tr th:only-of-type {\n",
              "        vertical-align: middle;\n",
              "    }\n",
              "\n",
              "    .dataframe tbody tr th {\n",
              "        vertical-align: top;\n",
              "    }\n",
              "\n",
              "    .dataframe thead th {\n",
              "        text-align: right;\n",
              "    }\n",
              "</style>\n",
              "<table border=\"1\" class=\"dataframe\">\n",
              "  <thead>\n",
              "    <tr style=\"text-align: right;\">\n",
              "      <th></th>\n",
              "      <th>weighted_vote_score</th>\n",
              "    </tr>\n",
              "  </thead>\n",
              "  <tbody>\n",
              "    <tr>\n",
              "      <th>count</th>\n",
              "      <td>2.348900e+06</td>\n",
              "    </tr>\n",
              "    <tr>\n",
              "      <th>mean</th>\n",
              "      <td>2.135293e-01</td>\n",
              "    </tr>\n",
              "    <tr>\n",
              "      <th>std</th>\n",
              "      <td>2.577511e-01</td>\n",
              "    </tr>\n",
              "    <tr>\n",
              "      <th>min</th>\n",
              "      <td>0.000000e+00</td>\n",
              "    </tr>\n",
              "    <tr>\n",
              "      <th>25%</th>\n",
              "      <td>0.000000e+00</td>\n",
              "    </tr>\n",
              "    <tr>\n",
              "      <th>50%</th>\n",
              "      <td>0.000000e+00</td>\n",
              "    </tr>\n",
              "    <tr>\n",
              "      <th>75%</th>\n",
              "      <td>5.051732e-01</td>\n",
              "    </tr>\n",
              "    <tr>\n",
              "      <th>max</th>\n",
              "      <td>9.895231e-01</td>\n",
              "    </tr>\n",
              "  </tbody>\n",
              "</table>\n",
              "</div>"
            ],
            "text/plain": [
              "       weighted_vote_score\n",
              "count         2.348900e+06\n",
              "mean          2.135293e-01\n",
              "std           2.577511e-01\n",
              "min           0.000000e+00\n",
              "25%           0.000000e+00\n",
              "50%           0.000000e+00\n",
              "75%           5.051732e-01\n",
              "max           9.895231e-01"
            ]
          },
          "metadata": {},
          "execution_count": 10
        }
      ]
    },
    {
      "cell_type": "code",
      "metadata": {
        "colab": {
          "base_uri": "https://localhost:8080/",
          "height": 406
        },
        "id": "u9IKWo3GApn_",
        "outputId": "d1c62d98-6136-433c-a124-90482e68e066"
      },
      "source": [
        "plt.boxplot(filtered_russian['weighted_vote_score'])"
      ],
      "execution_count": null,
      "outputs": [
        {
          "output_type": "execute_result",
          "data": {
            "text/plain": [
              "{'boxes': [<matplotlib.lines.Line2D at 0x7f97abd162d0>],\n",
              " 'caps': [<matplotlib.lines.Line2D at 0x7f97abd1c350>,\n",
              "  <matplotlib.lines.Line2D at 0x7f97abd1c890>],\n",
              " 'fliers': [<matplotlib.lines.Line2D at 0x7f97abd23390>],\n",
              " 'means': [],\n",
              " 'medians': [<matplotlib.lines.Line2D at 0x7f97abd1ce10>],\n",
              " 'whiskers': [<matplotlib.lines.Line2D at 0x7f97abd16890>,\n",
              "  <matplotlib.lines.Line2D at 0x7f97abd16dd0>]}"
            ]
          },
          "metadata": {},
          "execution_count": 11
        },
        {
          "output_type": "display_data",
          "data": {
            "image/png": "[encoded data removed]",
            "text/plain": [
              "<Figure size 432x288 with 1 Axes>"
            ]
          },
          "metadata": {
            "needs_background": "light"
          }
        }
      ]
    },
    {
      "cell_type": "markdown",
      "metadata": {
        "id": "Sq4X4-WDETaq"
      },
      "source": [
        "The distribution are not normal so we have to use some non parametric test"
      ]
    },
    {
      "cell_type": "code",
      "metadata": {
        "id": "Lr7s4hYgDWG8"
      },
      "source": [
        "from scipy import stats"
      ],
      "execution_count": null,
      "outputs": []
    },
    {
      "cell_type": "markdown",
      "metadata": {
        "id": "mbUKR008O6O_"
      },
      "source": [
        "We use a non parametric test cause we don't assume hypotesis that the distribution is normal, so we consider the distribution as a non gaussian"
      ]
    },
    {
      "cell_type": "code",
      "metadata": {
        "colab": {
          "base_uri": "https://localhost:8080/"
        },
        "id": "jDOGVPrMGEQt",
        "outputId": "cf430414-ddf8-4f0f-8111-b755c3fd39a7"
      },
      "source": [
        "kruskal_test = stats.kruskal(filtered_chinese['weighted_vote_score'], filtered_russian['weighted_vote_score'])\n",
        "kruskal_test\n"
      ],
      "execution_count": null,
      "outputs": [
        {
          "output_type": "execute_result",
          "data": {
            "text/plain": [
              "KruskalResult(statistic=101764.68814615528, pvalue=0.0)"
            ]
          },
          "metadata": {},
          "execution_count": 17
        }
      ]
    },
    {
      "cell_type": "code",
      "metadata": {
        "colab": {
          "base_uri": "https://localhost:8080/"
        },
        "id": "H1r7jFS3k7OI",
        "outputId": "83b60c89-4595-4c09-d2d1-c6745cc92dd2"
      },
      "source": [
        "alpha = 0.05\n",
        "pvalue=kruskal_test[1]\n",
        "if pvalue<alpha:\n",
        "  print('reject H0')\n",
        "else:\n",
        "  print('fail to reject H0')"
      ],
      "execution_count": null,
      "outputs": [
        {
          "output_type": "stream",
          "name": "stdout",
          "text": [
            "reject H0\n"
          ]
        }
      ]
    },
    {
      "cell_type": "markdown",
      "metadata": {
        "id": "sQqSzZEuOGqq"
      },
      "source": [
        "\n",
        "\n",
        "The p value is < alpha, it is equal to 0 so we reject H0  (null hypotesys).\n",
        "\n",
        "We can note that with a just some rows pvalue is a little bit higher than 0, than when we used the entire dataset it is exactly 0"
      ]
    },
    {
      "cell_type": "markdown",
      "metadata": {
        "id": "6j5LLISQCFGX"
      },
      "source": [
        "# Can you find any significant relationship between the time that a user lets pass before he updates the review and the Weighted Vote Score? Use an appropriate statistical test or technique and support your choice."
      ]
    },
    {
      "cell_type": "code",
      "metadata": {
        "id": "2Uo-AKhiG2OZ"
      },
      "source": [
        "def parsedate(time_as_a_unix_timestamp):\n",
        "    return pd.to_datetime(time_as_a_unix_timestamp, unit='s')\n",
        "dataset12 = pd.read_csv(\"/content/drive/MyDrive/ADMHW2/steam_reviews.csv\",usecols=['app_name','weighted_vote_score', 'timestamp_created','timestamp_updated'])"
      ],
      "execution_count": null,
      "outputs": []
    },
    {
      "cell_type": "code",
      "metadata": {
        "id": "iOyokkYFHV87"
      },
      "source": [
        "dataset12['time_delta'] = (dataset12.timestamp_updated - dataset12.timestamp_created)"
      ],
      "execution_count": null,
      "outputs": []
    },
    {
      "cell_type": "code",
      "metadata": {
        "id": "ksydM0-kHgNm"
      },
      "source": [
        "dataset12.drop('timestamp_created', axis=1, inplace=True)\n",
        "dataset12.drop('timestamp_updated', axis=1, inplace=True)"
      ],
      "execution_count": null,
      "outputs": []
    },
    {
      "cell_type": "code",
      "metadata": {
        "id": "fDxgejGrIHuY"
      },
      "source": [
        "dataset12.drop(dataset12[dataset12.time_delta == '0 days 00:00:00'].index, inplace=True)"
      ],
      "execution_count": null,
      "outputs": []
    },
    {
      "cell_type": "code",
      "metadata": {
        "colab": {
          "base_uri": "https://localhost:8080/",
          "height": 112
        },
        "id": "ni0hna8AHrNH",
        "outputId": "ee4cc363-3a9e-4765-e814-45b1bed971e9"
      },
      "source": [
        "corr = dataset12.corr(method='pearson')\n",
        "corr"
      ],
      "execution_count": null,
      "outputs": [
        {
          "output_type": "execute_result",
          "data": {
            "text/html": [
              "<div>\n",
              "<style scoped>\n",
              "    .dataframe tbody tr th:only-of-type {\n",
              "        vertical-align: middle;\n",
              "    }\n",
              "\n",
              "    .dataframe tbody tr th {\n",
              "        vertical-align: top;\n",
              "    }\n",
              "\n",
              "    .dataframe thead th {\n",
              "        text-align: right;\n",
              "    }\n",
              "</style>\n",
              "<table border=\"1\" class=\"dataframe\">\n",
              "  <thead>\n",
              "    <tr style=\"text-align: right;\">\n",
              "      <th></th>\n",
              "      <th>weighted_vote_score</th>\n",
              "      <th>time_delta</th>\n",
              "    </tr>\n",
              "  </thead>\n",
              "  <tbody>\n",
              "    <tr>\n",
              "      <th>weighted_vote_score</th>\n",
              "      <td>1.000000</td>\n",
              "      <td>0.072047</td>\n",
              "    </tr>\n",
              "    <tr>\n",
              "      <th>time_delta</th>\n",
              "      <td>0.072047</td>\n",
              "      <td>1.000000</td>\n",
              "    </tr>\n",
              "  </tbody>\n",
              "</table>\n",
              "</div>"
            ],
            "text/plain": [
              "                     weighted_vote_score  time_delta\n",
              "weighted_vote_score             1.000000    0.072047\n",
              "time_delta                      0.072047    1.000000"
            ]
          },
          "metadata": {},
          "execution_count": 93
        }
      ]
    },
    {
      "cell_type": "code",
      "metadata": {
        "colab": {
          "base_uri": "https://localhost:8080/",
          "height": 378
        },
        "id": "RIdjrbUaH0gV",
        "outputId": "184c593a-c296-4c5d-b3b2-968813f26945"
      },
      "source": [
        "\n",
        "plt.figure(figsize=(8, 6))\n",
        "sns.heatmap(corr, annot=True)\n",
        "plt.show()"
      ],
      "execution_count": null,
      "outputs": [
        {
          "output_type": "display_data",
          "data": {
            "image/png": "[encoded data removed]",
            "text/plain": [
              "<Figure size 576x432 with 2 Axes>"
            ]
          },
          "metadata": {
            "needs_background": "light"
          }
        }
      ]
    },
    {
      "cell_type": "code",
      "metadata": {
        "colab": {
          "base_uri": "https://localhost:8080/",
          "height": 112
        },
        "id": "kvdT6jBsJK5J",
        "outputId": "fae154fd-ab83-4ffa-c1db-f8d4e075aedf"
      },
      "source": [
        "corr.style.background_gradient(cmap='coolwarm')"
      ],
      "execution_count": null,
      "outputs": [
        {
          "output_type": "execute_result",
          "data": {
            "text/html": [
              "<style  type=\"text/css\" >\n",
              "#T_fe866f66_38e2_11ec_b44e_0242ac1c0002row0_col0,#T_fe866f66_38e2_11ec_b44e_0242ac1c0002row1_col1{\n",
              "            background-color:  #b40426;\n",
              "            color:  #f1f1f1;\n",
              "        }#T_fe866f66_38e2_11ec_b44e_0242ac1c0002row0_col1,#T_fe866f66_38e2_11ec_b44e_0242ac1c0002row1_col0{\n",
              "            background-color:  #3b4cc0;\n",
              "            color:  #f1f1f1;\n",
              "        }</style><table id=\"T_fe866f66_38e2_11ec_b44e_0242ac1c0002\" class=\"dataframe\"><thead>    <tr>        <th class=\"blank level0\" ></th>        <th class=\"col_heading level0 col0\" >weighted_vote_score</th>        <th class=\"col_heading level0 col1\" >time_delta</th>    </tr></thead><tbody>\n",
              "                <tr>\n",
              "                        <th id=\"T_fe866f66_38e2_11ec_b44e_0242ac1c0002level0_row0\" class=\"row_heading level0 row0\" >weighted_vote_score</th>\n",
              "                        <td id=\"T_fe866f66_38e2_11ec_b44e_0242ac1c0002row0_col0\" class=\"data row0 col0\" >1.000000</td>\n",
              "                        <td id=\"T_fe866f66_38e2_11ec_b44e_0242ac1c0002row0_col1\" class=\"data row0 col1\" >0.072047</td>\n",
              "            </tr>\n",
              "            <tr>\n",
              "                        <th id=\"T_fe866f66_38e2_11ec_b44e_0242ac1c0002level0_row1\" class=\"row_heading level0 row1\" >time_delta</th>\n",
              "                        <td id=\"T_fe866f66_38e2_11ec_b44e_0242ac1c0002row1_col0\" class=\"data row1 col0\" >0.072047</td>\n",
              "                        <td id=\"T_fe866f66_38e2_11ec_b44e_0242ac1c0002row1_col1\" class=\"data row1 col1\" >1.000000</td>\n",
              "            </tr>\n",
              "    </tbody></table>"
            ],
            "text/plain": [
              "<pandas.io.formats.style.Styler at 0x7fdcf4a46990>"
            ]
          },
          "metadata": {},
          "execution_count": 95
        }
      ]
    },
    {
      "cell_type": "code",
      "metadata": {
        "id": "4Zpb4NkQIXT7"
      },
      "source": [
        "#we can try to do scatter plot and add a comment"
      ],
      "execution_count": null,
      "outputs": []
    },
    {
      "cell_type": "markdown",
      "metadata": {
        "id": "TzoDCaVdPdeM"
      },
      "source": [
        "The correlation between the weighted vote score and the time that a users lets pass before he updates a review is very near at the zero. So we can say that these two variable are not correlated. "
      ]
    },
    {
      "cell_type": "markdown",
      "metadata": {
        "id": "oYkpEoPwIhhP"
      },
      "source": [
        "# Is there any change in the relationship of the variables mentioned in the previous literal if you include whether an application is recommended or not in the review? Use an appropriate statistical test or technique and support your choice."
      ]
    },
    {
      "cell_type": "code",
      "metadata": {
        "id": "6uEz_7M2I7XI"
      },
      "source": [
        "def parsedate(time_as_a_unix_timestamp):\n",
        "    return pd.to_datetime(time_as_a_unix_timestamp, unit='s')\n",
        "dataset13 = pd.read_csv(\"/content/drive/MyDrive/ADMHW2/steam_reviews.csv\",usecols=['app_name','weighted_vote_score', 'timestamp_created','timestamp_updated', 'recommended'])"
      ],
      "execution_count": null,
      "outputs": []
    },
    {
      "cell_type": "code",
      "metadata": {
        "id": "totm1VUaJeh6"
      },
      "source": [
        "dataset13['time_delta'] = (dataset13.timestamp_updated - dataset13.timestamp_created)"
      ],
      "execution_count": null,
      "outputs": []
    },
    {
      "cell_type": "code",
      "metadata": {
        "id": "wnDPUDhoJnTu"
      },
      "source": [
        "dataset13.drop('timestamp_created', axis=1, inplace=True)\n",
        "dataset13.drop('timestamp_updated', axis=1, inplace=True)\n",
        "dataset13.drop(dataset13[dataset13.time_delta == '0 days 00:00:00'].index, inplace=True)"
      ],
      "execution_count": null,
      "outputs": []
    },
    {
      "cell_type": "code",
      "metadata": {
        "colab": {
          "base_uri": "https://localhost:8080/",
          "height": 144
        },
        "id": "w_CC72vOJ1wJ",
        "outputId": "5b040120-197c-417f-c156-7499194546b8"
      },
      "source": [
        "corr2 = dataset13.corr(method='pearson')\n",
        "corr2"
      ],
      "execution_count": null,
      "outputs": [
        {
          "output_type": "execute_result",
          "data": {
            "text/html": [
              "<div>\n",
              "<style scoped>\n",
              "    .dataframe tbody tr th:only-of-type {\n",
              "        vertical-align: middle;\n",
              "    }\n",
              "\n",
              "    .dataframe tbody tr th {\n",
              "        vertical-align: top;\n",
              "    }\n",
              "\n",
              "    .dataframe thead th {\n",
              "        text-align: right;\n",
              "    }\n",
              "</style>\n",
              "<table border=\"1\" class=\"dataframe\">\n",
              "  <thead>\n",
              "    <tr style=\"text-align: right;\">\n",
              "      <th></th>\n",
              "      <th>recommended</th>\n",
              "      <th>weighted_vote_score</th>\n",
              "      <th>time_delta</th>\n",
              "    </tr>\n",
              "  </thead>\n",
              "  <tbody>\n",
              "    <tr>\n",
              "      <th>recommended</th>\n",
              "      <td>1.000000</td>\n",
              "      <td>-0.183002</td>\n",
              "      <td>-0.028590</td>\n",
              "    </tr>\n",
              "    <tr>\n",
              "      <th>weighted_vote_score</th>\n",
              "      <td>-0.183002</td>\n",
              "      <td>1.000000</td>\n",
              "      <td>0.072047</td>\n",
              "    </tr>\n",
              "    <tr>\n",
              "      <th>time_delta</th>\n",
              "      <td>-0.028590</td>\n",
              "      <td>0.072047</td>\n",
              "      <td>1.000000</td>\n",
              "    </tr>\n",
              "  </tbody>\n",
              "</table>\n",
              "</div>"
            ],
            "text/plain": [
              "                     recommended  weighted_vote_score  time_delta\n",
              "recommended             1.000000            -0.183002   -0.028590\n",
              "weighted_vote_score    -0.183002             1.000000    0.072047\n",
              "time_delta             -0.028590             0.072047    1.000000"
            ]
          },
          "metadata": {},
          "execution_count": 113
        }
      ]
    },
    {
      "cell_type": "code",
      "metadata": {
        "colab": {
          "base_uri": "https://localhost:8080/",
          "height": 378
        },
        "id": "dYQg_CvgKDBs",
        "outputId": "fdcd247d-e38c-4e47-a343-89c266f55207"
      },
      "source": [
        "plt.figure(figsize=(8, 6))\n",
        "sns.heatmap(corr2, annot=True)\n",
        "plt.show()"
      ],
      "execution_count": null,
      "outputs": [
        {
          "output_type": "display_data",
          "data": {
            "image/png": "[encoded data removed]",
            "text/plain": [
              "<Figure size 576x432 with 2 Axes>"
            ]
          },
          "metadata": {
            "needs_background": "light"
          }
        }
      ]
    },
    {
      "cell_type": "code",
      "metadata": {
        "colab": {
          "base_uri": "https://localhost:8080/",
          "height": 144
        },
        "id": "hso529Y4KGmJ",
        "outputId": "c40ad16f-5766-4daf-9b27-c69b6402bc88"
      },
      "source": [
        "corr2.style.background_gradient(cmap='coolwarm')"
      ],
      "execution_count": null,
      "outputs": [
        {
          "output_type": "execute_result",
          "data": {
            "text/html": [
              "<style  type=\"text/css\" >\n",
              "#T_6bfacef6_38e4_11ec_b44e_0242ac1c0002row0_col0,#T_6bfacef6_38e4_11ec_b44e_0242ac1c0002row1_col1,#T_6bfacef6_38e4_11ec_b44e_0242ac1c0002row2_col2{\n",
              "            background-color:  #b40426;\n",
              "            color:  #f1f1f1;\n",
              "        }#T_6bfacef6_38e4_11ec_b44e_0242ac1c0002row0_col1,#T_6bfacef6_38e4_11ec_b44e_0242ac1c0002row0_col2,#T_6bfacef6_38e4_11ec_b44e_0242ac1c0002row1_col0{\n",
              "            background-color:  #3b4cc0;\n",
              "            color:  #f1f1f1;\n",
              "        }#T_6bfacef6_38e4_11ec_b44e_0242ac1c0002row1_col2{\n",
              "            background-color:  #5977e3;\n",
              "            color:  #000000;\n",
              "        }#T_6bfacef6_38e4_11ec_b44e_0242ac1c0002row2_col0{\n",
              "            background-color:  #6384eb;\n",
              "            color:  #000000;\n",
              "        }#T_6bfacef6_38e4_11ec_b44e_0242ac1c0002row2_col1{\n",
              "            background-color:  #81a4fb;\n",
              "            color:  #000000;\n",
              "        }</style><table id=\"T_6bfacef6_38e4_11ec_b44e_0242ac1c0002\" class=\"dataframe\"><thead>    <tr>        <th class=\"blank level0\" ></th>        <th class=\"col_heading level0 col0\" >recommended</th>        <th class=\"col_heading level0 col1\" >weighted_vote_score</th>        <th class=\"col_heading level0 col2\" >time_delta</th>    </tr></thead><tbody>\n",
              "                <tr>\n",
              "                        <th id=\"T_6bfacef6_38e4_11ec_b44e_0242ac1c0002level0_row0\" class=\"row_heading level0 row0\" >recommended</th>\n",
              "                        <td id=\"T_6bfacef6_38e4_11ec_b44e_0242ac1c0002row0_col0\" class=\"data row0 col0\" >1.000000</td>\n",
              "                        <td id=\"T_6bfacef6_38e4_11ec_b44e_0242ac1c0002row0_col1\" class=\"data row0 col1\" >-0.183002</td>\n",
              "                        <td id=\"T_6bfacef6_38e4_11ec_b44e_0242ac1c0002row0_col2\" class=\"data row0 col2\" >-0.028590</td>\n",
              "            </tr>\n",
              "            <tr>\n",
              "                        <th id=\"T_6bfacef6_38e4_11ec_b44e_0242ac1c0002level0_row1\" class=\"row_heading level0 row1\" >weighted_vote_score</th>\n",
              "                        <td id=\"T_6bfacef6_38e4_11ec_b44e_0242ac1c0002row1_col0\" class=\"data row1 col0\" >-0.183002</td>\n",
              "                        <td id=\"T_6bfacef6_38e4_11ec_b44e_0242ac1c0002row1_col1\" class=\"data row1 col1\" >1.000000</td>\n",
              "                        <td id=\"T_6bfacef6_38e4_11ec_b44e_0242ac1c0002row1_col2\" class=\"data row1 col2\" >0.072047</td>\n",
              "            </tr>\n",
              "            <tr>\n",
              "                        <th id=\"T_6bfacef6_38e4_11ec_b44e_0242ac1c0002level0_row2\" class=\"row_heading level0 row2\" >time_delta</th>\n",
              "                        <td id=\"T_6bfacef6_38e4_11ec_b44e_0242ac1c0002row2_col0\" class=\"data row2 col0\" >-0.028590</td>\n",
              "                        <td id=\"T_6bfacef6_38e4_11ec_b44e_0242ac1c0002row2_col1\" class=\"data row2 col1\" >0.072047</td>\n",
              "                        <td id=\"T_6bfacef6_38e4_11ec_b44e_0242ac1c0002row2_col2\" class=\"data row2 col2\" >1.000000</td>\n",
              "            </tr>\n",
              "    </tbody></table>"
            ],
            "text/plain": [
              "<pandas.io.formats.style.Styler at 0x7fdcca3b0f10>"
            ]
          },
          "metadata": {},
          "execution_count": 115
        }
      ]
    },
    {
      "cell_type": "markdown",
      "metadata": {
        "id": "muzKmQHWP_mB"
      },
      "source": [
        "NO, there are no change in the relation between weighted vote score and time delta if we also include the variable 'reccomended'"
      ]
    },
    {
      "cell_type": "markdown",
      "metadata": {
        "id": "2CVfFAcFKOGO"
      },
      "source": [
        "# What are histograms, bar plots, scatterplots and pie charts used for?"
      ]
    },
    {
      "cell_type": "markdown",
      "metadata": {
        "id": "vwEiVOqrbUFZ"
      },
      "source": [
        "A histogram is the most commonly used graph to show frequency distributions.\n",
        "it is used to measure or summarize the distribution of data\n",
        "It displays data by grouping data into \"bins\" of equal width. Each bin is plotted as a bar whose height corresponds to how many data points are in that bin.\n",
        "\n",
        "A barplot is used to display and show the relationships between a numeric and a categorical variable.\n",
        "\n",
        "A scatterplot is used to display and show relationships between two numeric variables.\n",
        "\n",
        "A piecharts is used when you have categorical data and each slice represents the count or percentage of the observations of a level/category for the variable."
      ]
    },
    {
      "cell_type": "markdown",
      "metadata": {
        "id": "AAsQMIgyKQAW"
      },
      "source": [
        "# What insights can you extract from a Box Plot?"
      ]
    },
    {
      "cell_type": "markdown",
      "metadata": {
        "id": "idQLIcRrdmsT"
      },
      "source": [
        "Box plots provide a quick visual summary of the variability of values in a dataset. They show upper and lower quartiles, the median, min and max values, and any outliers in the dataset. the box is \"composed\" on the upper side from the upper quartiles and in the lower side from the lower quartiles, the median is drawn by a line in the box. and the min and the max are represented out of the box. Usually outliers are represented by some little circle, over the max value or below the min."
      ]
    },
    {
      "cell_type": "markdown",
      "metadata": {
        "id": "OW62LW_4k52_"
      },
      "source": [
        "# Theoretical Questions"
      ]
    },
    {
      "cell_type": "markdown",
      "metadata": {
        "id": "Imd4YI9XlUl1"
      },
      "source": [
        "## TQ1"
      ]
    },
    {
      "cell_type": "markdown",
      "metadata": {
        "id": "2ttFOJaPl3JM"
      },
      "source": [
        "1. This algorithm computes recursively the smallest value of an array A."
      ]
    },
    {
      "cell_type": "markdown",
      "metadata": {
        "id": "bQaV8ULcqEu8"
      },
      "source": [
        "2. The worst case possible is the largest possible running time of the algorithm, so that is when the randomly picked value 's' never meets the value needed to have k=r, generating a loop because the function won't stop to call itself. \n",
        "In this algorithm, the worst case possible will have the running time T(n)=O(n^2), due to the recursive part where the array part is repeatedly recalled for each iteration ."
      ]
    },
    {
      "cell_type": "markdown",
      "metadata": {
        "id": "Ix1iTfJYqa4T"
      },
      "source": [
        "3. What is asymptotically the running time of the algorithm in the best case?\n",
        "In the best case, k is equal to r and just return the value of s: in this case wehave just one call and its running time is T(n)=O(n)."
      ]
    },
    {
      "cell_type": "markdown",
      "metadata": {
        "id": "NF0X7X2xH86R"
      },
      "source": [
        "## TQ2 "
      ]
    },
    {
      "cell_type": "markdown",
      "metadata": {
        "id": "2U5xrY6lIDFC"
      },
      "source": [
        "1.\n",
        "\n",
        "Running Time of splitSwap(a,0,n):\tT(n)\n",
        "\n",
        "<b>Function splitSwap(a,l,n)</b>:\n",
        "<br>If n<=1:....1.O(1) Constant time\n",
        "<br>Return.....2.O(1) Constant time\n",
        "<br>splitSwap(a,l,n/2).... 3.O(n/2) \t\n",
        "<br>splitSwap(a,l+n/2,n/2)....4.O(n/2)  Constant time \n",
        "swapList(a,l,n)...5.O(n)\n",
        "\n",
        "<b>Function swapList(a,l,n)</b>:\n",
        "<br>For I = 0 to n/2:....6.O(n/2)\n",
        "<br>Temp = a[i+1].....7.O(1)\n",
        "<br>A[l+i] = a[l+n/2+i]....8.O(1)\n",
        "<br>A[l+n/2+i] = tmp....9.O(1)\n",
        "\t\n",
        "\t\n",
        "The overall time complexity of the splitSwap function will be\n",
        "\n",
        "T(n) = O(1)+ O(1)+ O(n/2)+ O(n/2)+ O(n)+ O(n/2)+ O(1)+ O(1)+ O(1)\t\n",
        "Ignoring the constant term\n",
        "<br>T(n) = O(n/2)+O(n)+O(n/2)\n",
        "T(n) = O(n)\n"
      ]
    },
    {
      "cell_type": "markdown",
      "metadata": {
        "id": "C9nhCEHAJ_il"
      },
      "source": [
        "2.\n",
        " \n",
        "<b>What does the Algorithm do</b>:\n",
        "<br>The Algorithm is swapping the elements of the list or array. \n",
        "<br><b>Is it optimal:</b>\n",
        "<br>Yes the algorithm is optimal. Because it divide and conquer the given list in to two similar, but simpler sub problem. And then it compose their solutions to solve the swapping of the elements of the list.\n",
        "<br><b>Mechanism Of The problem:</b> \n",
        "<br>The algorithm first call recursively to itself and pass the array, first index and the size of the list as half. Then it call itself recursively and pass the array, and the index start from the mid of the list. And the size is also half of the array. \n",
        "At the last, the statement call to function name swap List and pass the array, index and total size of the array. The for loop in the swap List is running up to mid of the array. Basically the for loop doing swapping operation on the list. \n",
        "\n"
      ]
    },
    {
      "cell_type": "markdown",
      "metadata": {
        "id": "LqErouCSKnZw"
      },
      "source": [
        "## TQ3"
      ]
    },
    {
      "cell_type": "markdown",
      "metadata": {
        "id": "EGCsVg3XPZCN"
      },
      "source": [
        "Counter Example:\n",
        "\n",
        "W : 1 1000     20 30 40 9\n",
        "V: 8 8000    8 8 8 1\n",
        "Maximum Capacity of knapsack = 1000\n",
        "There is weight Versus values. Both are sorted by the value by weight ration.\n",
        "\n",
        "\n",
        "Consider the above weight value pair. I've sorted according to value by weight ratio. If we use 0/1 knapsack approach, we would get Profit = 8000 because we will pick second item i.e. weight = 1000.\n",
        "Using KnapSack Fractional approach\n",
        " we will get \n",
        "profit  = 10+(888/1000)*8000 = 8001\n",
        "If we select first item, capacity become 888, as a result we cannot select second item.Therefor we are ignoring the second item. Now we have capacity to select all items so take them. \n",
        "Total profit will be  = 8 + 8+ 8+ 8 + 1 = 33 = W\n",
        "Here we have  8000> 200*W. \n",
        "So in this example, the heuristic fails to provide the optimal solutions.\n",
        "These are the counter examples in which selecting more value/weight ratio item can fails in providing the optimal solutions.\n"
      ]
    },
    {
      "cell_type": "code",
      "metadata": {
        "id": "I3RgvroDParO"
      },
      "source": [
        ""
      ],
      "execution_count": null,
      "outputs": []
    }
  ]
}